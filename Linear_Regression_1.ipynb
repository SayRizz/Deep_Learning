{
 "cells": [
  {
   "cell_type": "markdown",
   "id": "e50f3579",
   "metadata": {},
   "source": [
    "***LINEAR REGRESSION***\n",
    "\n",
    "Linear regression is a statistical method used to model the relationship between a dependent variable and one or more independent variables by fitting a linear equation to observed data. It's one of the simplest and most widely used techniques in statistics and machine learning for understanding the relationship between variables. Linear regression is widely used for tasks such as prediction, forecasting, and understanding the relationships between variables in fields like economics, finance, social sciences, and machine learning. However, it assumes a linear relationship between variables and may not perform well with non-linear data.\n",
    "\n",
    "Types of Linear Regression:\n",
    "\n",
    "***1. Simple Linear Regression:***\n",
    "Simple linear regression involves a single independent variable (predictor) to predict the value of a dependent variable (outcome). The relationship between the two variables is assumed to be linear.\n",
    "\n",
    "***2. Multiple Linear Regression:***\n",
    "Multiple linear regression extends simple linear regression to include multiple independent variables. It's used when there are two or more predictors influencing the dependent variable.\n",
    "\n",
    "***3. Polynomial Regression:***\n",
    "Polynomial regression models the relationship between the independent variable and the dependent variable as an nth-degree polynomial. It's useful when the relationship between variables is non-linear.\n",
    "\n",
    "***4. Ridge Regression (L2 Regularization):***\n",
    "Ridge regression is a variant of linear regression that introduces regularization to prevent overfitting. It adds a penalty term (L2 norm) to the ordinary least squares cost function, which helps to stabilize the model and reduce the impact of multicollinearity. It's particularly useful when there is multicollinearity among the independent variables.\n",
    "\n",
    "***5. Lasso Regression (L1 Regularization):***\n",
    "Lasso regression is another form of linear regression with regularization. It adds a penalty term (L1 norm) to the ordinary least squares cost function, which can lead to sparsity in the model by driving some of the coefficients to zero. Lasso regression is useful for feature selection, as it can automatically select important features and discard irrelevant ones."
   ]
  },
  {
   "cell_type": "markdown",
   "id": "81f557de",
   "metadata": {},
   "source": [
    "***Data Description***\n",
    "\n",
    "\"The data concerns city-cycle fuel consumption in miles per gallon,to be predicted in terms of 3 multivalued discrete and 5 continuous attributes.\"\n",
    "\n",
    "Attribute Information:\n",
    "\n",
    "1. mpg: continuous\n",
    "2. cylinders: multi-valued discrete\n",
    "3. displacement: continuous\n",
    "4. horsepower: continuous\n",
    "5. weight: continuous\n",
    "6. acceleration: continuous\n",
    "7. model year: multi-valued discrete\n",
    "8. origin: multi-valued discrete\n",
    "9. car name: string (unique for each instance)"
   ]
  },
  {
   "cell_type": "markdown",
   "id": "f822b124",
   "metadata": {},
   "source": [
    "***Objective***\n",
    "\n",
    "We will be performing Linear Regression to find the fuel efficiency of the cars. The aim is to predict the output of a continuous value like price, height, weight, etc."
   ]
  },
  {
   "cell_type": "code",
   "execution_count": 409,
   "id": "9ae67f0b",
   "metadata": {},
   "outputs": [],
   "source": [
    "import warnings\n",
    "warnings.filterwarnings(\"ignore\")"
   ]
  },
  {
   "cell_type": "code",
   "execution_count": 410,
   "id": "69d591d5",
   "metadata": {},
   "outputs": [],
   "source": [
    "import tensorflow as tf\n",
    "import numpy as np\n",
    "import pandas as pd\n",
    "import seaborn as sns\n",
    "import matplotlib.pyplot as plt"
   ]
  },
  {
   "cell_type": "code",
   "execution_count": 411,
   "id": "a2e4c1b9",
   "metadata": {},
   "outputs": [],
   "source": [
    "df = pd.read_csv(\"/Users/sayedrizwan/Downloads/auto-mpg 2.csv\")"
   ]
  },
  {
   "cell_type": "code",
   "execution_count": 412,
   "id": "2de12f23",
   "metadata": {},
   "outputs": [
    {
     "data": {
      "text/html": [
       "<div>\n",
       "<style scoped>\n",
       "    .dataframe tbody tr th:only-of-type {\n",
       "        vertical-align: middle;\n",
       "    }\n",
       "\n",
       "    .dataframe tbody tr th {\n",
       "        vertical-align: top;\n",
       "    }\n",
       "\n",
       "    .dataframe thead th {\n",
       "        text-align: right;\n",
       "    }\n",
       "</style>\n",
       "<table border=\"1\" class=\"dataframe\">\n",
       "  <thead>\n",
       "    <tr style=\"text-align: right;\">\n",
       "      <th></th>\n",
       "      <th>mpg</th>\n",
       "      <th>cylinders</th>\n",
       "      <th>displacement</th>\n",
       "      <th>horsepower</th>\n",
       "      <th>weight</th>\n",
       "      <th>acceleration</th>\n",
       "      <th>model year</th>\n",
       "      <th>origin</th>\n",
       "      <th>car name</th>\n",
       "    </tr>\n",
       "  </thead>\n",
       "  <tbody>\n",
       "    <tr>\n",
       "      <th>0</th>\n",
       "      <td>18.0</td>\n",
       "      <td>8</td>\n",
       "      <td>307.0</td>\n",
       "      <td>130</td>\n",
       "      <td>3504</td>\n",
       "      <td>12.0</td>\n",
       "      <td>70</td>\n",
       "      <td>1</td>\n",
       "      <td>chevrolet chevelle malibu</td>\n",
       "    </tr>\n",
       "    <tr>\n",
       "      <th>1</th>\n",
       "      <td>15.0</td>\n",
       "      <td>8</td>\n",
       "      <td>350.0</td>\n",
       "      <td>165</td>\n",
       "      <td>3693</td>\n",
       "      <td>11.5</td>\n",
       "      <td>70</td>\n",
       "      <td>1</td>\n",
       "      <td>buick skylark 320</td>\n",
       "    </tr>\n",
       "    <tr>\n",
       "      <th>2</th>\n",
       "      <td>18.0</td>\n",
       "      <td>8</td>\n",
       "      <td>318.0</td>\n",
       "      <td>150</td>\n",
       "      <td>3436</td>\n",
       "      <td>11.0</td>\n",
       "      <td>70</td>\n",
       "      <td>1</td>\n",
       "      <td>plymouth satellite</td>\n",
       "    </tr>\n",
       "    <tr>\n",
       "      <th>3</th>\n",
       "      <td>16.0</td>\n",
       "      <td>8</td>\n",
       "      <td>304.0</td>\n",
       "      <td>150</td>\n",
       "      <td>3433</td>\n",
       "      <td>12.0</td>\n",
       "      <td>70</td>\n",
       "      <td>1</td>\n",
       "      <td>amc rebel sst</td>\n",
       "    </tr>\n",
       "    <tr>\n",
       "      <th>4</th>\n",
       "      <td>17.0</td>\n",
       "      <td>8</td>\n",
       "      <td>302.0</td>\n",
       "      <td>140</td>\n",
       "      <td>3449</td>\n",
       "      <td>10.5</td>\n",
       "      <td>70</td>\n",
       "      <td>1</td>\n",
       "      <td>ford torino</td>\n",
       "    </tr>\n",
       "  </tbody>\n",
       "</table>\n",
       "</div>"
      ],
      "text/plain": [
       "    mpg  cylinders  displacement horsepower  weight  acceleration  model year  \\\n",
       "0  18.0          8         307.0        130    3504          12.0          70   \n",
       "1  15.0          8         350.0        165    3693          11.5          70   \n",
       "2  18.0          8         318.0        150    3436          11.0          70   \n",
       "3  16.0          8         304.0        150    3433          12.0          70   \n",
       "4  17.0          8         302.0        140    3449          10.5          70   \n",
       "\n",
       "   origin                   car name  \n",
       "0       1  chevrolet chevelle malibu  \n",
       "1       1          buick skylark 320  \n",
       "2       1         plymouth satellite  \n",
       "3       1              amc rebel sst  \n",
       "4       1                ford torino  "
      ]
     },
     "execution_count": 412,
     "metadata": {},
     "output_type": "execute_result"
    }
   ],
   "source": [
    "df.head()"
   ]
  },
  {
   "cell_type": "code",
   "execution_count": 413,
   "id": "51e7b941",
   "metadata": {},
   "outputs": [
    {
     "data": {
      "text/plain": [
       "(398, 9)"
      ]
     },
     "execution_count": 413,
     "metadata": {},
     "output_type": "execute_result"
    }
   ],
   "source": [
    "df.shape"
   ]
  },
  {
   "cell_type": "code",
   "execution_count": 414,
   "id": "9dd29a4f",
   "metadata": {},
   "outputs": [],
   "source": [
    "df = df.drop(\"car name\", axis = 1)"
   ]
  },
  {
   "cell_type": "code",
   "execution_count": 415,
   "id": "a71e2635",
   "metadata": {},
   "outputs": [],
   "source": [
    "df.drop(df[df['horsepower'] == '?'].index, inplace=True)"
   ]
  },
  {
   "cell_type": "code",
   "execution_count": 416,
   "id": "4144dc28",
   "metadata": {},
   "outputs": [
    {
     "name": "stdout",
     "output_type": "stream",
     "text": [
      "<class 'pandas.core.frame.DataFrame'>\n",
      "Int64Index: 392 entries, 0 to 397\n",
      "Data columns (total 8 columns):\n",
      " #   Column        Non-Null Count  Dtype  \n",
      "---  ------        --------------  -----  \n",
      " 0   mpg           392 non-null    float64\n",
      " 1   cylinders     392 non-null    int64  \n",
      " 2   displacement  392 non-null    float64\n",
      " 3   horsepower    392 non-null    object \n",
      " 4   weight        392 non-null    int64  \n",
      " 5   acceleration  392 non-null    float64\n",
      " 6   model year    392 non-null    int64  \n",
      " 7   origin        392 non-null    int64  \n",
      "dtypes: float64(3), int64(4), object(1)\n",
      "memory usage: 27.6+ KB\n"
     ]
    }
   ],
   "source": [
    "df.info()"
   ]
  },
  {
   "cell_type": "code",
   "execution_count": 417,
   "id": "10ae23d9",
   "metadata": {},
   "outputs": [
    {
     "data": {
      "text/plain": [
       "array([8, 4, 6, 3, 5])"
      ]
     },
     "execution_count": 417,
     "metadata": {},
     "output_type": "execute_result"
    }
   ],
   "source": [
    "# Checking no. of categoreis\n",
    "\n",
    "df.cylinders.unique()"
   ]
  },
  {
   "cell_type": "code",
   "execution_count": 418,
   "id": "31e16ac7",
   "metadata": {},
   "outputs": [
    {
     "data": {
      "text/plain": [
       "array([70, 71, 72, 73, 74, 75, 76, 77, 78, 79, 80, 81, 82])"
      ]
     },
     "execution_count": 418,
     "metadata": {},
     "output_type": "execute_result"
    }
   ],
   "source": [
    "df[\"model year\"].unique()"
   ]
  },
  {
   "cell_type": "code",
   "execution_count": 419,
   "id": "eae123b1",
   "metadata": {},
   "outputs": [
    {
     "data": {
      "text/plain": [
       "array([1, 3, 2])"
      ]
     },
     "execution_count": 419,
     "metadata": {},
     "output_type": "execute_result"
    }
   ],
   "source": [
    "df.origin.unique()"
   ]
  },
  {
   "cell_type": "markdown",
   "id": "29ff202c",
   "metadata": {},
   "source": [
    "***CLEANING THE DATASET***"
   ]
  },
  {
   "cell_type": "markdown",
   "id": "d4cd3d28",
   "metadata": {},
   "source": [
    "1. Checking the null values and dropping it"
   ]
  },
  {
   "cell_type": "code",
   "execution_count": 420,
   "id": "e5f6c07f",
   "metadata": {},
   "outputs": [
    {
     "data": {
      "text/plain": [
       "mpg             0\n",
       "cylinders       0\n",
       "displacement    0\n",
       "horsepower      0\n",
       "weight          0\n",
       "acceleration    0\n",
       "model year      0\n",
       "origin          0\n",
       "dtype: int64"
      ]
     },
     "execution_count": 420,
     "metadata": {},
     "output_type": "execute_result"
    }
   ],
   "source": [
    "df.isna().sum()"
   ]
  },
  {
   "cell_type": "code",
   "execution_count": 421,
   "id": "f9bfada7",
   "metadata": {},
   "outputs": [],
   "source": [
    "df.dropna(inplace=True)"
   ]
  },
  {
   "cell_type": "code",
   "execution_count": 422,
   "id": "567d9a96",
   "metadata": {},
   "outputs": [
    {
     "data": {
      "text/plain": [
       "(392, 8)"
      ]
     },
     "execution_count": 422,
     "metadata": {},
     "output_type": "execute_result"
    }
   ],
   "source": [
    "df.shape"
   ]
  },
  {
   "cell_type": "markdown",
   "id": "99e465a7",
   "metadata": {},
   "source": [
    "As there is no null value we would not be dropping any rows or columns."
   ]
  },
  {
   "cell_type": "code",
   "execution_count": 423,
   "id": "6edbd3ac",
   "metadata": {},
   "outputs": [
    {
     "data": {
      "text/html": [
       "<div>\n",
       "<style scoped>\n",
       "    .dataframe tbody tr th:only-of-type {\n",
       "        vertical-align: middle;\n",
       "    }\n",
       "\n",
       "    .dataframe tbody tr th {\n",
       "        vertical-align: top;\n",
       "    }\n",
       "\n",
       "    .dataframe thead th {\n",
       "        text-align: right;\n",
       "    }\n",
       "</style>\n",
       "<table border=\"1\" class=\"dataframe\">\n",
       "  <thead>\n",
       "    <tr style=\"text-align: right;\">\n",
       "      <th></th>\n",
       "      <th>mpg</th>\n",
       "      <th>cylinders</th>\n",
       "      <th>displacement</th>\n",
       "      <th>horsepower</th>\n",
       "      <th>weight</th>\n",
       "      <th>acceleration</th>\n",
       "      <th>model year</th>\n",
       "      <th>origin</th>\n",
       "    </tr>\n",
       "  </thead>\n",
       "  <tbody>\n",
       "    <tr>\n",
       "      <th>0</th>\n",
       "      <td>18.0</td>\n",
       "      <td>8</td>\n",
       "      <td>307.0</td>\n",
       "      <td>130</td>\n",
       "      <td>3504</td>\n",
       "      <td>12.0</td>\n",
       "      <td>70</td>\n",
       "      <td>1</td>\n",
       "    </tr>\n",
       "    <tr>\n",
       "      <th>1</th>\n",
       "      <td>15.0</td>\n",
       "      <td>8</td>\n",
       "      <td>350.0</td>\n",
       "      <td>165</td>\n",
       "      <td>3693</td>\n",
       "      <td>11.5</td>\n",
       "      <td>70</td>\n",
       "      <td>1</td>\n",
       "    </tr>\n",
       "    <tr>\n",
       "      <th>2</th>\n",
       "      <td>18.0</td>\n",
       "      <td>8</td>\n",
       "      <td>318.0</td>\n",
       "      <td>150</td>\n",
       "      <td>3436</td>\n",
       "      <td>11.0</td>\n",
       "      <td>70</td>\n",
       "      <td>1</td>\n",
       "    </tr>\n",
       "    <tr>\n",
       "      <th>3</th>\n",
       "      <td>16.0</td>\n",
       "      <td>8</td>\n",
       "      <td>304.0</td>\n",
       "      <td>150</td>\n",
       "      <td>3433</td>\n",
       "      <td>12.0</td>\n",
       "      <td>70</td>\n",
       "      <td>1</td>\n",
       "    </tr>\n",
       "    <tr>\n",
       "      <th>4</th>\n",
       "      <td>17.0</td>\n",
       "      <td>8</td>\n",
       "      <td>302.0</td>\n",
       "      <td>140</td>\n",
       "      <td>3449</td>\n",
       "      <td>10.5</td>\n",
       "      <td>70</td>\n",
       "      <td>1</td>\n",
       "    </tr>\n",
       "  </tbody>\n",
       "</table>\n",
       "</div>"
      ],
      "text/plain": [
       "    mpg  cylinders  displacement horsepower  weight  acceleration  model year  \\\n",
       "0  18.0          8         307.0        130    3504          12.0          70   \n",
       "1  15.0          8         350.0        165    3693          11.5          70   \n",
       "2  18.0          8         318.0        150    3436          11.0          70   \n",
       "3  16.0          8         304.0        150    3433          12.0          70   \n",
       "4  17.0          8         302.0        140    3449          10.5          70   \n",
       "\n",
       "   origin  \n",
       "0       1  \n",
       "1       1  \n",
       "2       1  \n",
       "3       1  \n",
       "4       1  "
      ]
     },
     "execution_count": 423,
     "metadata": {},
     "output_type": "execute_result"
    }
   ],
   "source": [
    "df.head()"
   ]
  },
  {
   "cell_type": "code",
   "execution_count": 424,
   "id": "23c8d575",
   "metadata": {},
   "outputs": [
    {
     "data": {
      "text/plain": [
       "array([1, 3, 2])"
      ]
     },
     "execution_count": 424,
     "metadata": {},
     "output_type": "execute_result"
    }
   ],
   "source": [
    "df.origin.unique()"
   ]
  },
  {
   "cell_type": "markdown",
   "id": "b5cf0489",
   "metadata": {},
   "source": [
    "The origin column is categorical and not numerical.\n",
    "So we will be converting categorical data to one-hot data."
   ]
  },
  {
   "cell_type": "code",
   "execution_count": 425,
   "id": "aa12d909",
   "metadata": {},
   "outputs": [],
   "source": [
    "df[\"origin\"] = df[\"origin\"].map({1: \"USA\", 2: \"Europe\", 3: \"Japan\"})\n",
    "df = pd.get_dummies(df, columns = [\"origin\"], prefix = '', prefix_sep = '')"
   ]
  },
  {
   "cell_type": "code",
   "execution_count": 426,
   "id": "9030f545",
   "metadata": {},
   "outputs": [
    {
     "data": {
      "text/html": [
       "<div>\n",
       "<style scoped>\n",
       "    .dataframe tbody tr th:only-of-type {\n",
       "        vertical-align: middle;\n",
       "    }\n",
       "\n",
       "    .dataframe tbody tr th {\n",
       "        vertical-align: top;\n",
       "    }\n",
       "\n",
       "    .dataframe thead th {\n",
       "        text-align: right;\n",
       "    }\n",
       "</style>\n",
       "<table border=\"1\" class=\"dataframe\">\n",
       "  <thead>\n",
       "    <tr style=\"text-align: right;\">\n",
       "      <th></th>\n",
       "      <th>mpg</th>\n",
       "      <th>cylinders</th>\n",
       "      <th>displacement</th>\n",
       "      <th>horsepower</th>\n",
       "      <th>weight</th>\n",
       "      <th>acceleration</th>\n",
       "      <th>model year</th>\n",
       "      <th>Europe</th>\n",
       "      <th>Japan</th>\n",
       "      <th>USA</th>\n",
       "    </tr>\n",
       "  </thead>\n",
       "  <tbody>\n",
       "    <tr>\n",
       "      <th>0</th>\n",
       "      <td>18.0</td>\n",
       "      <td>8</td>\n",
       "      <td>307.0</td>\n",
       "      <td>130</td>\n",
       "      <td>3504</td>\n",
       "      <td>12.0</td>\n",
       "      <td>70</td>\n",
       "      <td>0</td>\n",
       "      <td>0</td>\n",
       "      <td>1</td>\n",
       "    </tr>\n",
       "    <tr>\n",
       "      <th>1</th>\n",
       "      <td>15.0</td>\n",
       "      <td>8</td>\n",
       "      <td>350.0</td>\n",
       "      <td>165</td>\n",
       "      <td>3693</td>\n",
       "      <td>11.5</td>\n",
       "      <td>70</td>\n",
       "      <td>0</td>\n",
       "      <td>0</td>\n",
       "      <td>1</td>\n",
       "    </tr>\n",
       "    <tr>\n",
       "      <th>2</th>\n",
       "      <td>18.0</td>\n",
       "      <td>8</td>\n",
       "      <td>318.0</td>\n",
       "      <td>150</td>\n",
       "      <td>3436</td>\n",
       "      <td>11.0</td>\n",
       "      <td>70</td>\n",
       "      <td>0</td>\n",
       "      <td>0</td>\n",
       "      <td>1</td>\n",
       "    </tr>\n",
       "    <tr>\n",
       "      <th>3</th>\n",
       "      <td>16.0</td>\n",
       "      <td>8</td>\n",
       "      <td>304.0</td>\n",
       "      <td>150</td>\n",
       "      <td>3433</td>\n",
       "      <td>12.0</td>\n",
       "      <td>70</td>\n",
       "      <td>0</td>\n",
       "      <td>0</td>\n",
       "      <td>1</td>\n",
       "    </tr>\n",
       "    <tr>\n",
       "      <th>4</th>\n",
       "      <td>17.0</td>\n",
       "      <td>8</td>\n",
       "      <td>302.0</td>\n",
       "      <td>140</td>\n",
       "      <td>3449</td>\n",
       "      <td>10.5</td>\n",
       "      <td>70</td>\n",
       "      <td>0</td>\n",
       "      <td>0</td>\n",
       "      <td>1</td>\n",
       "    </tr>\n",
       "    <tr>\n",
       "      <th>5</th>\n",
       "      <td>15.0</td>\n",
       "      <td>8</td>\n",
       "      <td>429.0</td>\n",
       "      <td>198</td>\n",
       "      <td>4341</td>\n",
       "      <td>10.0</td>\n",
       "      <td>70</td>\n",
       "      <td>0</td>\n",
       "      <td>0</td>\n",
       "      <td>1</td>\n",
       "    </tr>\n",
       "    <tr>\n",
       "      <th>6</th>\n",
       "      <td>14.0</td>\n",
       "      <td>8</td>\n",
       "      <td>454.0</td>\n",
       "      <td>220</td>\n",
       "      <td>4354</td>\n",
       "      <td>9.0</td>\n",
       "      <td>70</td>\n",
       "      <td>0</td>\n",
       "      <td>0</td>\n",
       "      <td>1</td>\n",
       "    </tr>\n",
       "    <tr>\n",
       "      <th>7</th>\n",
       "      <td>14.0</td>\n",
       "      <td>8</td>\n",
       "      <td>440.0</td>\n",
       "      <td>215</td>\n",
       "      <td>4312</td>\n",
       "      <td>8.5</td>\n",
       "      <td>70</td>\n",
       "      <td>0</td>\n",
       "      <td>0</td>\n",
       "      <td>1</td>\n",
       "    </tr>\n",
       "    <tr>\n",
       "      <th>8</th>\n",
       "      <td>14.0</td>\n",
       "      <td>8</td>\n",
       "      <td>455.0</td>\n",
       "      <td>225</td>\n",
       "      <td>4425</td>\n",
       "      <td>10.0</td>\n",
       "      <td>70</td>\n",
       "      <td>0</td>\n",
       "      <td>0</td>\n",
       "      <td>1</td>\n",
       "    </tr>\n",
       "    <tr>\n",
       "      <th>9</th>\n",
       "      <td>15.0</td>\n",
       "      <td>8</td>\n",
       "      <td>390.0</td>\n",
       "      <td>190</td>\n",
       "      <td>3850</td>\n",
       "      <td>8.5</td>\n",
       "      <td>70</td>\n",
       "      <td>0</td>\n",
       "      <td>0</td>\n",
       "      <td>1</td>\n",
       "    </tr>\n",
       "  </tbody>\n",
       "</table>\n",
       "</div>"
      ],
      "text/plain": [
       "    mpg  cylinders  displacement horsepower  weight  acceleration  model year  \\\n",
       "0  18.0          8         307.0        130    3504          12.0          70   \n",
       "1  15.0          8         350.0        165    3693          11.5          70   \n",
       "2  18.0          8         318.0        150    3436          11.0          70   \n",
       "3  16.0          8         304.0        150    3433          12.0          70   \n",
       "4  17.0          8         302.0        140    3449          10.5          70   \n",
       "5  15.0          8         429.0        198    4341          10.0          70   \n",
       "6  14.0          8         454.0        220    4354           9.0          70   \n",
       "7  14.0          8         440.0        215    4312           8.5          70   \n",
       "8  14.0          8         455.0        225    4425          10.0          70   \n",
       "9  15.0          8         390.0        190    3850           8.5          70   \n",
       "\n",
       "   Europe  Japan  USA  \n",
       "0       0      0    1  \n",
       "1       0      0    1  \n",
       "2       0      0    1  \n",
       "3       0      0    1  \n",
       "4       0      0    1  \n",
       "5       0      0    1  \n",
       "6       0      0    1  \n",
       "7       0      0    1  \n",
       "8       0      0    1  \n",
       "9       0      0    1  "
      ]
     },
     "execution_count": 426,
     "metadata": {},
     "output_type": "execute_result"
    }
   ],
   "source": [
    "df.head(10)"
   ]
  },
  {
   "cell_type": "code",
   "execution_count": 427,
   "id": "ef7afb66",
   "metadata": {},
   "outputs": [
    {
     "data": {
      "text/plain": [
       "(392, 10)"
      ]
     },
     "execution_count": 427,
     "metadata": {},
     "output_type": "execute_result"
    }
   ],
   "source": [
    "df.shape"
   ]
  },
  {
   "cell_type": "code",
   "execution_count": 428,
   "id": "ca6027ea",
   "metadata": {},
   "outputs": [
    {
     "data": {
      "text/html": [
       "<div>\n",
       "<style scoped>\n",
       "    .dataframe tbody tr th:only-of-type {\n",
       "        vertical-align: middle;\n",
       "    }\n",
       "\n",
       "    .dataframe tbody tr th {\n",
       "        vertical-align: top;\n",
       "    }\n",
       "\n",
       "    .dataframe thead th {\n",
       "        text-align: right;\n",
       "    }\n",
       "</style>\n",
       "<table border=\"1\" class=\"dataframe\">\n",
       "  <thead>\n",
       "    <tr style=\"text-align: right;\">\n",
       "      <th></th>\n",
       "      <th>mpg</th>\n",
       "      <th>cylinders</th>\n",
       "      <th>displacement</th>\n",
       "      <th>weight</th>\n",
       "      <th>acceleration</th>\n",
       "      <th>model year</th>\n",
       "      <th>Europe</th>\n",
       "      <th>Japan</th>\n",
       "      <th>USA</th>\n",
       "    </tr>\n",
       "  </thead>\n",
       "  <tbody>\n",
       "    <tr>\n",
       "      <th>count</th>\n",
       "      <td>392.000000</td>\n",
       "      <td>392.000000</td>\n",
       "      <td>392.000000</td>\n",
       "      <td>392.000000</td>\n",
       "      <td>392.000000</td>\n",
       "      <td>392.000000</td>\n",
       "      <td>392.000000</td>\n",
       "      <td>392.000000</td>\n",
       "      <td>392.000000</td>\n",
       "    </tr>\n",
       "    <tr>\n",
       "      <th>mean</th>\n",
       "      <td>23.445918</td>\n",
       "      <td>5.471939</td>\n",
       "      <td>194.411990</td>\n",
       "      <td>2977.584184</td>\n",
       "      <td>15.541327</td>\n",
       "      <td>75.979592</td>\n",
       "      <td>0.173469</td>\n",
       "      <td>0.201531</td>\n",
       "      <td>0.625000</td>\n",
       "    </tr>\n",
       "    <tr>\n",
       "      <th>std</th>\n",
       "      <td>7.805007</td>\n",
       "      <td>1.705783</td>\n",
       "      <td>104.644004</td>\n",
       "      <td>849.402560</td>\n",
       "      <td>2.758864</td>\n",
       "      <td>3.683737</td>\n",
       "      <td>0.379136</td>\n",
       "      <td>0.401656</td>\n",
       "      <td>0.484742</td>\n",
       "    </tr>\n",
       "    <tr>\n",
       "      <th>min</th>\n",
       "      <td>9.000000</td>\n",
       "      <td>3.000000</td>\n",
       "      <td>68.000000</td>\n",
       "      <td>1613.000000</td>\n",
       "      <td>8.000000</td>\n",
       "      <td>70.000000</td>\n",
       "      <td>0.000000</td>\n",
       "      <td>0.000000</td>\n",
       "      <td>0.000000</td>\n",
       "    </tr>\n",
       "    <tr>\n",
       "      <th>25%</th>\n",
       "      <td>17.000000</td>\n",
       "      <td>4.000000</td>\n",
       "      <td>105.000000</td>\n",
       "      <td>2225.250000</td>\n",
       "      <td>13.775000</td>\n",
       "      <td>73.000000</td>\n",
       "      <td>0.000000</td>\n",
       "      <td>0.000000</td>\n",
       "      <td>0.000000</td>\n",
       "    </tr>\n",
       "    <tr>\n",
       "      <th>50%</th>\n",
       "      <td>22.750000</td>\n",
       "      <td>4.000000</td>\n",
       "      <td>151.000000</td>\n",
       "      <td>2803.500000</td>\n",
       "      <td>15.500000</td>\n",
       "      <td>76.000000</td>\n",
       "      <td>0.000000</td>\n",
       "      <td>0.000000</td>\n",
       "      <td>1.000000</td>\n",
       "    </tr>\n",
       "    <tr>\n",
       "      <th>75%</th>\n",
       "      <td>29.000000</td>\n",
       "      <td>8.000000</td>\n",
       "      <td>275.750000</td>\n",
       "      <td>3614.750000</td>\n",
       "      <td>17.025000</td>\n",
       "      <td>79.000000</td>\n",
       "      <td>0.000000</td>\n",
       "      <td>0.000000</td>\n",
       "      <td>1.000000</td>\n",
       "    </tr>\n",
       "    <tr>\n",
       "      <th>max</th>\n",
       "      <td>46.600000</td>\n",
       "      <td>8.000000</td>\n",
       "      <td>455.000000</td>\n",
       "      <td>5140.000000</td>\n",
       "      <td>24.800000</td>\n",
       "      <td>82.000000</td>\n",
       "      <td>1.000000</td>\n",
       "      <td>1.000000</td>\n",
       "      <td>1.000000</td>\n",
       "    </tr>\n",
       "  </tbody>\n",
       "</table>\n",
       "</div>"
      ],
      "text/plain": [
       "              mpg   cylinders  displacement       weight  acceleration  \\\n",
       "count  392.000000  392.000000    392.000000   392.000000    392.000000   \n",
       "mean    23.445918    5.471939    194.411990  2977.584184     15.541327   \n",
       "std      7.805007    1.705783    104.644004   849.402560      2.758864   \n",
       "min      9.000000    3.000000     68.000000  1613.000000      8.000000   \n",
       "25%     17.000000    4.000000    105.000000  2225.250000     13.775000   \n",
       "50%     22.750000    4.000000    151.000000  2803.500000     15.500000   \n",
       "75%     29.000000    8.000000    275.750000  3614.750000     17.025000   \n",
       "max     46.600000    8.000000    455.000000  5140.000000     24.800000   \n",
       "\n",
       "       model year      Europe       Japan         USA  \n",
       "count  392.000000  392.000000  392.000000  392.000000  \n",
       "mean    75.979592    0.173469    0.201531    0.625000  \n",
       "std      3.683737    0.379136    0.401656    0.484742  \n",
       "min     70.000000    0.000000    0.000000    0.000000  \n",
       "25%     73.000000    0.000000    0.000000    0.000000  \n",
       "50%     76.000000    0.000000    0.000000    1.000000  \n",
       "75%     79.000000    0.000000    0.000000    1.000000  \n",
       "max     82.000000    1.000000    1.000000    1.000000  "
      ]
     },
     "execution_count": 428,
     "metadata": {},
     "output_type": "execute_result"
    }
   ],
   "source": [
    "df.describe()"
   ]
  },
  {
   "cell_type": "markdown",
   "id": "23e413d2",
   "metadata": {},
   "source": [
    "***Comparison between MPG and other numerical values***"
   ]
  },
  {
   "cell_type": "code",
   "execution_count": 429,
   "id": "6ca7ae60",
   "metadata": {},
   "outputs": [],
   "source": [
    "def plot(feature):\n",
    "    plt.figure(figsize=(8,6))\n",
    "    plt.scatter(df[feature], df[\"mpg\"], label=\"Data\")\n",
    "    plt.xlabel(feature)\n",
    "    plt.ylabel(\"MPG\")\n",
    "    plt.legend()"
   ]
  },
  {
   "cell_type": "code",
   "execution_count": 430,
   "id": "c1c38d8f",
   "metadata": {},
   "outputs": [
    {
     "data": {
      "image/png": "[encoded data removed]",
      "text/plain": [
       "<Figure size 800x600 with 1 Axes>"
      ]
     },
     "metadata": {},
     "output_type": "display_data"
    }
   ],
   "source": [
    "plot(\"horsepower\")"
   ]
  },
  {
   "cell_type": "code",
   "execution_count": 431,
   "id": "5185f279",
   "metadata": {},
   "outputs": [
    {
     "data": {
      "image/png": "[encoded data removed]",
      "text/plain": [
       "<Figure size 800x600 with 1 Axes>"
      ]
     },
     "metadata": {},
     "output_type": "display_data"
    }
   ],
   "source": [
    "plot(\"weight\")"
   ]
  },
  {
   "cell_type": "markdown",
   "id": "96e96d7c",
   "metadata": {},
   "source": [
    "***PREPARE THE DATA***"
   ]
  },
  {
   "cell_type": "markdown",
   "id": "fb41672d",
   "metadata": {},
   "source": [
    "1. Separete input and target variable"
   ]
  },
  {
   "cell_type": "code",
   "execution_count": 432,
   "id": "a89a9f46",
   "metadata": {},
   "outputs": [],
   "source": [
    "# input variable\n",
    "ip_var = df.drop(\"mpg\", axis = 1)\n",
    "\n",
    "# target variable\n",
    "target = df[\"mpg\"]"
   ]
  },
  {
   "cell_type": "code",
   "execution_count": 433,
   "id": "c85e2c51",
   "metadata": {},
   "outputs": [
    {
     "data": {
      "text/html": [
       "<div>\n",
       "<style scoped>\n",
       "    .dataframe tbody tr th:only-of-type {\n",
       "        vertical-align: middle;\n",
       "    }\n",
       "\n",
       "    .dataframe tbody tr th {\n",
       "        vertical-align: top;\n",
       "    }\n",
       "\n",
       "    .dataframe thead th {\n",
       "        text-align: right;\n",
       "    }\n",
       "</style>\n",
       "<table border=\"1\" class=\"dataframe\">\n",
       "  <thead>\n",
       "    <tr style=\"text-align: right;\">\n",
       "      <th></th>\n",
       "      <th>cylinders</th>\n",
       "      <th>displacement</th>\n",
       "      <th>horsepower</th>\n",
       "      <th>weight</th>\n",
       "      <th>acceleration</th>\n",
       "      <th>model year</th>\n",
       "      <th>Europe</th>\n",
       "      <th>Japan</th>\n",
       "      <th>USA</th>\n",
       "    </tr>\n",
       "  </thead>\n",
       "  <tbody>\n",
       "    <tr>\n",
       "      <th>0</th>\n",
       "      <td>8</td>\n",
       "      <td>307.0</td>\n",
       "      <td>130</td>\n",
       "      <td>3504</td>\n",
       "      <td>12.0</td>\n",
       "      <td>70</td>\n",
       "      <td>0</td>\n",
       "      <td>0</td>\n",
       "      <td>1</td>\n",
       "    </tr>\n",
       "    <tr>\n",
       "      <th>1</th>\n",
       "      <td>8</td>\n",
       "      <td>350.0</td>\n",
       "      <td>165</td>\n",
       "      <td>3693</td>\n",
       "      <td>11.5</td>\n",
       "      <td>70</td>\n",
       "      <td>0</td>\n",
       "      <td>0</td>\n",
       "      <td>1</td>\n",
       "    </tr>\n",
       "    <tr>\n",
       "      <th>2</th>\n",
       "      <td>8</td>\n",
       "      <td>318.0</td>\n",
       "      <td>150</td>\n",
       "      <td>3436</td>\n",
       "      <td>11.0</td>\n",
       "      <td>70</td>\n",
       "      <td>0</td>\n",
       "      <td>0</td>\n",
       "      <td>1</td>\n",
       "    </tr>\n",
       "    <tr>\n",
       "      <th>3</th>\n",
       "      <td>8</td>\n",
       "      <td>304.0</td>\n",
       "      <td>150</td>\n",
       "      <td>3433</td>\n",
       "      <td>12.0</td>\n",
       "      <td>70</td>\n",
       "      <td>0</td>\n",
       "      <td>0</td>\n",
       "      <td>1</td>\n",
       "    </tr>\n",
       "    <tr>\n",
       "      <th>4</th>\n",
       "      <td>8</td>\n",
       "      <td>302.0</td>\n",
       "      <td>140</td>\n",
       "      <td>3449</td>\n",
       "      <td>10.5</td>\n",
       "      <td>70</td>\n",
       "      <td>0</td>\n",
       "      <td>0</td>\n",
       "      <td>1</td>\n",
       "    </tr>\n",
       "  </tbody>\n",
       "</table>\n",
       "</div>"
      ],
      "text/plain": [
       "   cylinders  displacement horsepower  weight  acceleration  model year  \\\n",
       "0          8         307.0        130    3504          12.0          70   \n",
       "1          8         350.0        165    3693          11.5          70   \n",
       "2          8         318.0        150    3436          11.0          70   \n",
       "3          8         304.0        150    3433          12.0          70   \n",
       "4          8         302.0        140    3449          10.5          70   \n",
       "\n",
       "   Europe  Japan  USA  \n",
       "0       0      0    1  \n",
       "1       0      0    1  \n",
       "2       0      0    1  \n",
       "3       0      0    1  \n",
       "4       0      0    1  "
      ]
     },
     "execution_count": 433,
     "metadata": {},
     "output_type": "execute_result"
    }
   ],
   "source": [
    "ip_var.head()"
   ]
  },
  {
   "cell_type": "markdown",
   "id": "6a6be3fa",
   "metadata": {},
   "source": [
    "2. Split into training and dataset\n",
    "\n",
    "Split data in train and test set\n",
    "\n",
    "***x_train:*** independent input data for training the model.\n",
    "\n",
    "***y_train:*** dependent output data for training the model.\n",
    "\n",
    "***x_test:*** independent input data for testing the model. It is used to predict the values.\n",
    "\n",
    "***y_test:*** dependent outplu data. It is used to compare it with the predicted values.\n",
    "\n",
    "***test_size = 0.20:*** the data is split. 20% data will go in test set and 80% will go in test set.\n",
    "\n",
    "***random_state = 42:*** it is used a s refernce. Everytime this code is run, same data is loaded in train and test set."
   ]
  },
  {
   "cell_type": "code",
   "execution_count": 434,
   "id": "33af0150",
   "metadata": {},
   "outputs": [],
   "source": [
    "from sklearn.model_selection import train_test_split\n",
    "\n",
    "X_train, X_test, y_train, y_test = train_test_split(ip_var, target, test_size = 0.2, random_state = 42)"
   ]
  },
  {
   "cell_type": "code",
   "execution_count": 435,
   "id": "8bb262b3",
   "metadata": {},
   "outputs": [
    {
     "data": {
      "text/plain": [
       "((392, 9), (313, 9), (79, 9))"
      ]
     },
     "execution_count": 435,
     "metadata": {},
     "output_type": "execute_result"
    }
   ],
   "source": [
    "ip_var.shape, X_train.shape, X_test.shape"
   ]
  },
  {
   "cell_type": "code",
   "execution_count": 436,
   "id": "89a38e5d",
   "metadata": {},
   "outputs": [],
   "source": [
    "# As horsepower has some null values, we will be converting it to na values\n",
    "\n",
    "X_train['horsepower'] = pd.to_numeric(X_train['horsepower'], errors='coerce')\n",
    "\n",
    "X_train['horsepower'] = X_train['horsepower'].astype(float)"
   ]
  },
  {
   "cell_type": "markdown",
   "id": "1ee01468",
   "metadata": {},
   "source": [
    "***NORMALIZE THE INPUT DATA***\n",
    "\n",
    "Reasons to normalize\n",
    "\n",
    "1. Normalization helps in preventing large magnitude features from dominating the learning process, allowing the algorithm to converge more quickly and effectively.\n",
    "\n",
    "2. Normalizing features ensures that the optimization process is more stable and less sensitive to the scale of the input data.\n",
    "\n",
    "3. In some cases, certain algorithms or mathematical computations may suffer from numerical instabilities when dealing with features that vary widely in scale. Normalizing the data can mitigate these numerical issues and ensure the stability of computations.\n",
    "\n",
    "4. Overall, normalizing data is a critical preprocessing step that enhances the performance, stability, and interpretability of machine learning models, ensuring that they learn effectively from the input data."
   ]
  },
  {
   "cell_type": "code",
   "execution_count": 437,
   "id": "d60a44b0",
   "metadata": {},
   "outputs": [],
   "source": [
    "# Normalization Layer\n",
    "# A preprocessing layer that normalizes continuous features\n",
    "\n",
    "normalizer = tf.keras.layers.Normalization()\n",
    "normalizer.adapt(np.array(X_train))"
   ]
  },
  {
   "cell_type": "code",
   "execution_count": 438,
   "id": "157455c4",
   "metadata": {},
   "outputs": [
    {
     "name": "stdout",
     "output_type": "stream",
     "text": [
      "[[5.48242807e+00 1.95517578e+02 1.04594246e+02 2.98612476e+03\n",
      "  1.55440893e+01 7.62076721e+01 1.53354630e-01 2.01277956e-01\n",
      "  6.45367444e-01]]\n",
      "[[2.8822794e+00 1.0733099e+04 1.4609568e+03 7.0524600e+05 7.9149899e+00\n",
      "  1.3135786e+01 1.2983699e-01 1.6076514e-01 2.2886831e-01]]\n"
     ]
    }
   ],
   "source": [
    "print(normalizer.mean.numpy())\n",
    "print(normalizer.variance.numpy())"
   ]
  },
  {
   "cell_type": "markdown",
   "id": "4007989b",
   "metadata": {},
   "source": [
    "***Building Linear Regression Neural Network***\n",
    "\n",
    "1. Defining a neural network.\n",
    "2. Compiling a neural network.\n",
    "3. Training a neural network.\n",
    "4. Evaluating a neural network.\n",
    "5. Predicting a neural network."
   ]
  },
  {
   "cell_type": "markdown",
   "id": "96925233",
   "metadata": {},
   "source": [
    "***Our Model Architecture***\n",
    "\n",
    "The architecture is build considering 2 important aspects\n",
    "\n",
    "1. No. of layers that needs to be created.\n",
    "2. No of neurons in each layer\n",
    "\n",
    "For our layer we will be considering the following aspects:\n",
    "\n",
    "1. input = no. of features in input layer = 9\n",
    "2. No. of neurons in first dense layer = 64\n",
    "3. No. of neurons in second dense layer = 64\n",
    "4. No. of neurons in output layer = 1"
   ]
  },
  {
   "cell_type": "code",
   "execution_count": 439,
   "id": "d6160718",
   "metadata": {},
   "outputs": [],
   "source": [
    "from tensorflow.keras.models import Sequential\n",
    "from tensorflow.keras.layers import Dense, Activation"
   ]
  },
  {
   "cell_type": "code",
   "execution_count": 440,
   "id": "f54f146f",
   "metadata": {},
   "outputs": [],
   "source": [
    "model = Sequential()"
   ]
  },
  {
   "cell_type": "code",
   "execution_count": 441,
   "id": "62bddc4a",
   "metadata": {},
   "outputs": [],
   "source": [
    "# Adding input layer\n",
    "model.add(normalizer)\n",
    "\n",
    "# Adding 2 Dense Layer\n",
    "model.add(Dense(64, activation =\"relu\", name = \"dense_layer_1\"))\n",
    "model.add(Dense(64, activation =\"relu\", name = \"dense_layer_2\"))\n",
    "\n",
    "# Adding output layer\n",
    "model.add(Dense(1, name=\"output_layer\"))"
   ]
  },
  {
   "cell_type": "code",
   "execution_count": 442,
   "id": "b30e2895",
   "metadata": {},
   "outputs": [
    {
     "name": "stdout",
     "output_type": "stream",
     "text": [
      "Model: \"sequential_6\"\n",
      "_________________________________________________________________\n",
      " Layer (type)                Output Shape              Param #   \n",
      "=================================================================\n",
      " normalization_15 (Normaliz  (None, 9)                 19        \n",
      " ation)                                                          \n",
      "                                                                 \n",
      " dense_layer_1 (Dense)       (None, 64)                640       \n",
      "                                                                 \n",
      " dense_layer_2 (Dense)       (None, 64)                4160      \n",
      "                                                                 \n",
      " output_layer (Dense)        (None, 1)                 65        \n",
      "                                                                 \n",
      "=================================================================\n",
      "Total params: 4884 (19.08 KB)\n",
      "Trainable params: 4865 (19.00 KB)\n",
      "Non-trainable params: 19 (80.00 Byte)\n",
      "_________________________________________________________________\n"
     ]
    }
   ],
   "source": [
    "model.summary()"
   ]
  },
  {
   "cell_type": "code",
   "execution_count": 443,
   "id": "86d6cb8f",
   "metadata": {},
   "outputs": [
    {
     "data": {
      "image/png": "[encoded data removed]",
      "text/plain": [
       "<IPython.core.display.Image object>"
      ]
     },
     "execution_count": 443,
     "metadata": {},
     "output_type": "execute_result"
    }
   ],
   "source": [
    "from tensorflow.keras.utils import plot_model\n",
    "plot_model(model)"
   ]
  },
  {
   "cell_type": "markdown",
   "id": "668b9b30",
   "metadata": {},
   "source": [
    "***Compiling The Network***"
   ]
  },
  {
   "cell_type": "markdown",
   "id": "6103b72d",
   "metadata": {},
   "source": [
    "***Adam Optimizer***\n",
    "\n",
    "Adam (short for Adaptive Moment Estimation) is an optimization algorithm that is widely used for training deep learning models. It combines the advantages of two other popular optimization algorithms, AdaGrad and RMSProp, to provide an adaptive learning rate method that is efficient and effective for a wide range of deep learning tasks."
   ]
  },
  {
   "cell_type": "code",
   "execution_count": 444,
   "id": "e85e3e46",
   "metadata": {},
   "outputs": [],
   "source": [
    "from tensorflow.keras.optimizers import Adam\n",
    "\n",
    "model.compile(loss=\"mean_absolute_error\", optimizer = Adam(0.001)) #0.001 is the learning rate"
   ]
  },
  {
   "cell_type": "code",
   "execution_count": 445,
   "id": "5af32daf",
   "metadata": {},
   "outputs": [
    {
     "name": "stdout",
     "output_type": "stream",
     "text": [
      "Epoch 1/20\n",
      "16/16 [==============================] - 1s 11ms/step - loss: 22.6315 - val_loss: 23.6519\n",
      "Epoch 2/20\n",
      "16/16 [==============================] - 0s 4ms/step - loss: 20.9663 - val_loss: 21.6951\n",
      "Epoch 3/20\n",
      "16/16 [==============================] - 0s 4ms/step - loss: 18.4495 - val_loss: 18.5330\n",
      "Epoch 4/20\n",
      "16/16 [==============================] - 0s 4ms/step - loss: 14.8900 - val_loss: 14.5773\n",
      "Epoch 5/20\n",
      "16/16 [==============================] - 0s 3ms/step - loss: 11.0313 - val_loss: 9.3336\n",
      "Epoch 6/20\n",
      "16/16 [==============================] - 0s 3ms/step - loss: 6.6089 - val_loss: 5.7932\n",
      "Epoch 7/20\n",
      "16/16 [==============================] - 0s 4ms/step - loss: 4.7911 - val_loss: 4.4792\n",
      "Epoch 8/20\n",
      "16/16 [==============================] - 0s 4ms/step - loss: 3.6807 - val_loss: 3.4690\n",
      "Epoch 9/20\n",
      "16/16 [==============================] - 0s 3ms/step - loss: 3.0755 - val_loss: 3.0838\n",
      "Epoch 10/20\n",
      "16/16 [==============================] - 0s 3ms/step - loss: 2.7790 - val_loss: 2.5142\n",
      "Epoch 11/20\n",
      "16/16 [==============================] - 0s 4ms/step - loss: 2.6080 - val_loss: 2.4120\n",
      "Epoch 12/20\n",
      "16/16 [==============================] - 0s 4ms/step - loss: 2.4310 - val_loss: 2.2728\n",
      "Epoch 13/20\n",
      "16/16 [==============================] - 0s 3ms/step - loss: 2.3248 - val_loss: 2.1445\n",
      "Epoch 14/20\n",
      "16/16 [==============================] - 0s 3ms/step - loss: 2.2515 - val_loss: 2.1923\n",
      "Epoch 15/20\n",
      "16/16 [==============================] - 0s 3ms/step - loss: 2.2015 - val_loss: 2.0796\n",
      "Epoch 16/20\n",
      "16/16 [==============================] - 0s 4ms/step - loss: 2.1625 - val_loss: 2.0323\n",
      "Epoch 17/20\n",
      "16/16 [==============================] - 0s 4ms/step - loss: 2.1435 - val_loss: 1.9911\n",
      "Epoch 18/20\n",
      "16/16 [==============================] - 0s 3ms/step - loss: 2.1148 - val_loss: 2.0492\n",
      "Epoch 19/20\n",
      "16/16 [==============================] - 0s 3ms/step - loss: 2.1191 - val_loss: 2.0078\n",
      "Epoch 20/20\n",
      "16/16 [==============================] - 0s 4ms/step - loss: 2.0848 - val_loss: 2.0854\n"
     ]
    }
   ],
   "source": [
    "# Training the model\n",
    "\n",
    "linear_regressor = model.fit(X_train, y_train, validation_split=0.2, epochs = 20, batch_size = 16, verbose = 1)"
   ]
  },
  {
   "cell_type": "code",
   "execution_count": 446,
   "id": "729f451f",
   "metadata": {},
   "outputs": [
    {
     "data": {
      "text/plain": [
       "((313,), (313, 9))"
      ]
     },
     "execution_count": 446,
     "metadata": {},
     "output_type": "execute_result"
    }
   ],
   "source": [
    "y_train.shape, X_train.shape"
   ]
  },
  {
   "cell_type": "code",
   "execution_count": 447,
   "id": "3065e439",
   "metadata": {},
   "outputs": [
    {
     "data": {
      "text/plain": [
       "mpg             float64\n",
       "cylinders         int64\n",
       "displacement    float64\n",
       "horsepower       object\n",
       "weight            int64\n",
       "acceleration    float64\n",
       "model year        int64\n",
       "Europe            uint8\n",
       "Japan             uint8\n",
       "USA               uint8\n",
       "dtype: object"
      ]
     },
     "execution_count": 447,
     "metadata": {},
     "output_type": "execute_result"
    }
   ],
   "source": [
    "df.dtypes"
   ]
  },
  {
   "cell_type": "code",
   "execution_count": 448,
   "id": "b94dee5f",
   "metadata": {},
   "outputs": [
    {
     "name": "stdout",
     "output_type": "stream",
     "text": [
      "1.905936360359192\n"
     ]
    }
   ],
   "source": [
    "X_test = X_test.astype(np.float32)\n",
    "y_test = y_test.astype(np.float32)\n",
    "\n",
    "score = model.evaluate(x = X_test, y =y_test, verbose = 0)\n",
    "print(score)"
   ]
  },
  {
   "cell_type": "code",
   "execution_count": 449,
   "id": "1aa6ef29",
   "metadata": {},
   "outputs": [
    {
     "data": {
      "text/plain": [
       "mpg             float64\n",
       "cylinders         int64\n",
       "displacement    float64\n",
       "horsepower       object\n",
       "weight            int64\n",
       "acceleration    float64\n",
       "model year        int64\n",
       "Europe            uint8\n",
       "Japan             uint8\n",
       "USA               uint8\n",
       "dtype: object"
      ]
     },
     "execution_count": 449,
     "metadata": {},
     "output_type": "execute_result"
    }
   ],
   "source": [
    "df.dtypes"
   ]
  },
  {
   "cell_type": "code",
   "execution_count": 454,
   "id": "cb74788d",
   "metadata": {},
   "outputs": [
    {
     "data": {
      "image/png": "[encoded data removed]",
      "text/plain": [
       "<Figure size 640x480 with 1 Axes>"
      ]
     },
     "metadata": {},
     "output_type": "display_data"
    }
   ],
   "source": [
    "plt.plot(linear_regressor.history['loss'])\n",
    "plt.plot(linear_regressor.history['val_loss'])\n",
    "\n",
    "plt.xlabel(\"epochs\")\n",
    "plt.ylabel(\"loss\")\n",
    "plt.legend(\"Train\", \"Validation\")\n",
    "plt.title(\"Training and validation loss\")\n",
    "\n",
    "\n",
    "plt.grid()\n",
    "plt.show()"
   ]
  },
  {
   "cell_type": "markdown",
   "id": "57a1568c",
   "metadata": {},
   "source": [
    "***Prediction using trained neural network***"
   ]
  },
  {
   "cell_type": "code",
   "execution_count": 455,
   "id": "f9faa6d4",
   "metadata": {},
   "outputs": [
    {
     "name": "stdout",
     "output_type": "stream",
     "text": [
      "3/3 [==============================] - 0s 3ms/step\n"
     ]
    }
   ],
   "source": [
    "y_pred = model.predict(X_test)"
   ]
  },
  {
   "cell_type": "code",
   "execution_count": 456,
   "id": "23739e8a",
   "metadata": {},
   "outputs": [
    {
     "data": {
      "text/plain": [
       "array([[25.196695],\n",
       "       [22.9171  ],\n",
       "       [34.366547],\n",
       "       [28.132208],\n",
       "       [30.12739 ],\n",
       "       [29.478617],\n",
       "       [13.158966],\n",
       "       [29.795286],\n",
       "       [17.58026 ],\n",
       "       [29.937658]], dtype=float32)"
      ]
     },
     "execution_count": 456,
     "metadata": {},
     "output_type": "execute_result"
    }
   ],
   "source": [
    "# Prediction for first 10 data points\n",
    "\n",
    "y_pred[:10]"
   ]
  },
  {
   "cell_type": "code",
   "execution_count": 457,
   "id": "73f95857",
   "metadata": {},
   "outputs": [],
   "source": [
    "# Flatted 2D array to 1D array\n",
    "\n",
    "y_pred = y_pred.flatten()"
   ]
  },
  {
   "cell_type": "code",
   "execution_count": 458,
   "id": "b33358b3",
   "metadata": {},
   "outputs": [
    {
     "name": "stdout",
     "output_type": "stream",
     "text": [
      "Actual Values [26.  21.6 36.1 26.  27.  28.  13.  26.  19.  29. ]\n",
      "Predicted Values [25.196695 22.9171   34.366547 28.132208 30.12739  29.478617 13.158966\n",
      " 29.795286 17.58026  29.937658]\n"
     ]
    }
   ],
   "source": [
    "# Compare test and predicted data points\n",
    "\n",
    "print(\"Actual Values\", np.array(y_test[:10]))\n",
    "print(\"Predicted Values\", y_pred[:10])"
   ]
  },
  {
   "cell_type": "code",
   "execution_count": 462,
   "id": "715ff9dc",
   "metadata": {},
   "outputs": [
    {
     "data": {
      "text/plain": [
       "[<matplotlib.lines.Line2D at 0x13dfbd650>]"
      ]
     },
     "execution_count": 462,
     "metadata": {},
     "output_type": "execute_result"
    },
    {
     "data": {
      "image/png": "[encoded data removed]",
      "text/plain": [
       "<Figure size 640x480 with 1 Axes>"
      ]
     },
     "metadata": {},
     "output_type": "display_data"
    }
   ],
   "source": [
    "plt.scatter(np.array(y_test), y_pred)\n",
    "plt.xlabel(\"True Values [MPG]\")\n",
    "plt.ylabel(\"Predicted Values [MPG]\")\n",
    "\n",
    "lims = [0,50]\n",
    "plt.xlim(lims)\n",
    "plt.ylim(lims)\n",
    "plt.plot(lims, lims)"
   ]
  },
  {
   "cell_type": "code",
   "execution_count": 463,
   "id": "492ecc71",
   "metadata": {},
   "outputs": [
    {
     "data": {
      "text/plain": [
       "Text(0, 0.5, 'Counts')"
      ]
     },
     "execution_count": 463,
     "metadata": {},
     "output_type": "execute_result"
    },
    {
     "data": {
      "image/png": "[encoded data removed]",
      "text/plain": [
       "<Figure size 640x480 with 1 Axes>"
      ]
     },
     "metadata": {},
     "output_type": "display_data"
    }
   ],
   "source": [
    "# Checking the distribution of errors\n",
    "\n",
    "error = y_test - y_pred\n",
    "plt.hist(error, bins = 25)\n",
    "plt.xlabel(\"Prediction Error [MPG]\")\n",
    "plt.ylabel(\"Counts\")"
   ]
  },
  {
   "cell_type": "code",
   "execution_count": null,
   "id": "4449a5bc",
   "metadata": {},
   "outputs": [],
   "source": []
  }
 ],
 "metadata": {
  "kernelspec": {
   "display_name": "Python 3 (ipykernel)",
   "language": "python",
   "name": "python3"
  },
  "language_info": {
   "codemirror_mode": {
    "name": "ipython",
    "version": 3
   },
   "file_extension": ".py",
   "mimetype": "text/x-python",
   "name": "python",
   "nbconvert_exporter": "python",
   "pygments_lexer": "ipython3",
   "version": "3.11.5"
  }
 },
 "nbformat": 4,
 "nbformat_minor": 5
}
