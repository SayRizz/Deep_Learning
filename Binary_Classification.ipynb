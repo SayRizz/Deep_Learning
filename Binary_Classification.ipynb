{
 "cells": [
  {
   "cell_type": "code",
   "execution_count": 1,
   "id": "9f375e3e",
   "metadata": {},
   "outputs": [],
   "source": [
    "# To ignore all the warnings\n",
    "\n",
    "import warnings\n",
    "warnings.filterwarnings(\"ignore\")"
   ]
  },
  {
   "cell_type": "code",
   "execution_count": 2,
   "id": "a9d40351",
   "metadata": {},
   "outputs": [
    {
     "name": "stderr",
     "output_type": "stream",
     "text": [
      "2024-03-12 20:11:30.563345: I tensorflow/core/platform/cpu_feature_guard.cc:182] This TensorFlow binary is optimized to use available CPU instructions in performance-critical operations.\n",
      "To enable the following instructions: AVX2 AVX512F AVX512_VNNI FMA, in other operations, rebuild TensorFlow with the appropriate compiler flags.\n"
     ]
    }
   ],
   "source": [
    "# Import all the libraries\n",
    "\n",
    "import numpy as np\n",
    "import pandas as pd\n",
    "\n",
    "import tensorflow as tf\n",
    "import keras\n",
    "\n",
    "import matplotlib.pyplot as plt"
   ]
  },
  {
   "cell_type": "code",
   "execution_count": 3,
   "id": "65f52a8a",
   "metadata": {},
   "outputs": [
    {
     "name": "stdout",
     "output_type": "stream",
     "text": [
      "TensorFlow version is: 2.15.0\n",
      "Keras version is: 2.15.0\n"
     ]
    }
   ],
   "source": [
    "# check tf and keras version\n",
    "\n",
    "print(\"TensorFlow version is:\", tf.__version__)\n",
    "print(\"Keras version is:\", keras.__version__)"
   ]
  },
  {
   "cell_type": "markdown",
   "id": "c6f289af",
   "metadata": {},
   "source": [
    "***Load the dataset and analyze it***"
   ]
  },
  {
   "cell_type": "code",
   "execution_count": 4,
   "id": "7124d050",
   "metadata": {},
   "outputs": [],
   "source": [
    "hd_df =pd.read_csv(\"/Users/sayedrizwan/Downloads/Heart_disease_cleveland_new.csv\")"
   ]
  },
  {
   "cell_type": "code",
   "execution_count": 5,
   "id": "0a640c8f",
   "metadata": {},
   "outputs": [
    {
     "data": {
      "text/html": [
       "<div>\n",
       "<style scoped>\n",
       "    .dataframe tbody tr th:only-of-type {\n",
       "        vertical-align: middle;\n",
       "    }\n",
       "\n",
       "    .dataframe tbody tr th {\n",
       "        vertical-align: top;\n",
       "    }\n",
       "\n",
       "    .dataframe thead th {\n",
       "        text-align: right;\n",
       "    }\n",
       "</style>\n",
       "<table border=\"1\" class=\"dataframe\">\n",
       "  <thead>\n",
       "    <tr style=\"text-align: right;\">\n",
       "      <th></th>\n",
       "      <th>age</th>\n",
       "      <th>sex</th>\n",
       "      <th>cp</th>\n",
       "      <th>trestbps</th>\n",
       "      <th>chol</th>\n",
       "      <th>fbs</th>\n",
       "      <th>restecg</th>\n",
       "      <th>thalach</th>\n",
       "      <th>exang</th>\n",
       "      <th>oldpeak</th>\n",
       "      <th>slope</th>\n",
       "      <th>ca</th>\n",
       "      <th>thal</th>\n",
       "      <th>target</th>\n",
       "    </tr>\n",
       "  </thead>\n",
       "  <tbody>\n",
       "    <tr>\n",
       "      <th>0</th>\n",
       "      <td>63</td>\n",
       "      <td>1</td>\n",
       "      <td>0</td>\n",
       "      <td>145</td>\n",
       "      <td>233</td>\n",
       "      <td>1</td>\n",
       "      <td>2</td>\n",
       "      <td>150</td>\n",
       "      <td>0</td>\n",
       "      <td>2.3</td>\n",
       "      <td>2</td>\n",
       "      <td>0</td>\n",
       "      <td>2</td>\n",
       "      <td>0</td>\n",
       "    </tr>\n",
       "    <tr>\n",
       "      <th>1</th>\n",
       "      <td>67</td>\n",
       "      <td>1</td>\n",
       "      <td>3</td>\n",
       "      <td>160</td>\n",
       "      <td>286</td>\n",
       "      <td>0</td>\n",
       "      <td>2</td>\n",
       "      <td>108</td>\n",
       "      <td>1</td>\n",
       "      <td>1.5</td>\n",
       "      <td>1</td>\n",
       "      <td>3</td>\n",
       "      <td>1</td>\n",
       "      <td>1</td>\n",
       "    </tr>\n",
       "    <tr>\n",
       "      <th>2</th>\n",
       "      <td>67</td>\n",
       "      <td>1</td>\n",
       "      <td>3</td>\n",
       "      <td>120</td>\n",
       "      <td>229</td>\n",
       "      <td>0</td>\n",
       "      <td>2</td>\n",
       "      <td>129</td>\n",
       "      <td>1</td>\n",
       "      <td>2.6</td>\n",
       "      <td>1</td>\n",
       "      <td>2</td>\n",
       "      <td>3</td>\n",
       "      <td>1</td>\n",
       "    </tr>\n",
       "    <tr>\n",
       "      <th>3</th>\n",
       "      <td>37</td>\n",
       "      <td>1</td>\n",
       "      <td>2</td>\n",
       "      <td>130</td>\n",
       "      <td>250</td>\n",
       "      <td>0</td>\n",
       "      <td>0</td>\n",
       "      <td>187</td>\n",
       "      <td>0</td>\n",
       "      <td>3.5</td>\n",
       "      <td>2</td>\n",
       "      <td>0</td>\n",
       "      <td>1</td>\n",
       "      <td>0</td>\n",
       "    </tr>\n",
       "    <tr>\n",
       "      <th>4</th>\n",
       "      <td>41</td>\n",
       "      <td>0</td>\n",
       "      <td>1</td>\n",
       "      <td>130</td>\n",
       "      <td>204</td>\n",
       "      <td>0</td>\n",
       "      <td>2</td>\n",
       "      <td>172</td>\n",
       "      <td>0</td>\n",
       "      <td>1.4</td>\n",
       "      <td>0</td>\n",
       "      <td>0</td>\n",
       "      <td>1</td>\n",
       "      <td>0</td>\n",
       "    </tr>\n",
       "  </tbody>\n",
       "</table>\n",
       "</div>"
      ],
      "text/plain": [
       "   age  sex  cp  trestbps  chol  fbs  restecg  thalach  exang  oldpeak  slope  \\\n",
       "0   63    1   0       145   233    1        2      150      0      2.3      2   \n",
       "1   67    1   3       160   286    0        2      108      1      1.5      1   \n",
       "2   67    1   3       120   229    0        2      129      1      2.6      1   \n",
       "3   37    1   2       130   250    0        0      187      0      3.5      2   \n",
       "4   41    0   1       130   204    0        2      172      0      1.4      0   \n",
       "\n",
       "   ca  thal  target  \n",
       "0   0     2       0  \n",
       "1   3     1       1  \n",
       "2   2     3       1  \n",
       "3   0     1       0  \n",
       "4   0     1       0  "
      ]
     },
     "execution_count": 5,
     "metadata": {},
     "output_type": "execute_result"
    }
   ],
   "source": [
    "hd_df.head()"
   ]
  },
  {
   "cell_type": "code",
   "execution_count": 6,
   "id": "51cd0ebc",
   "metadata": {},
   "outputs": [
    {
     "data": {
      "text/plain": [
       "(303, 14)"
      ]
     },
     "execution_count": 6,
     "metadata": {},
     "output_type": "execute_result"
    }
   ],
   "source": [
    "hd_df.shape"
   ]
  },
  {
   "cell_type": "code",
   "execution_count": 7,
   "id": "2d3875a9",
   "metadata": {},
   "outputs": [
    {
     "name": "stdout",
     "output_type": "stream",
     "text": [
      "<class 'pandas.core.frame.DataFrame'>\n",
      "RangeIndex: 303 entries, 0 to 302\n",
      "Data columns (total 14 columns):\n",
      " #   Column    Non-Null Count  Dtype  \n",
      "---  ------    --------------  -----  \n",
      " 0   age       303 non-null    int64  \n",
      " 1   sex       303 non-null    int64  \n",
      " 2   cp        303 non-null    int64  \n",
      " 3   trestbps  303 non-null    int64  \n",
      " 4   chol      303 non-null    int64  \n",
      " 5   fbs       303 non-null    int64  \n",
      " 6   restecg   303 non-null    int64  \n",
      " 7   thalach   303 non-null    int64  \n",
      " 8   exang     303 non-null    int64  \n",
      " 9   oldpeak   303 non-null    float64\n",
      " 10  slope     303 non-null    int64  \n",
      " 11  ca        303 non-null    int64  \n",
      " 12  thal      303 non-null    int64  \n",
      " 13  target    303 non-null    int64  \n",
      "dtypes: float64(1), int64(13)\n",
      "memory usage: 33.3 KB\n"
     ]
    }
   ],
   "source": [
    "hd_df.info()"
   ]
  },
  {
   "cell_type": "markdown",
   "id": "f757f26f",
   "metadata": {},
   "source": [
    "***PREPARING THE DATA***\n",
    "\n",
    "We have to fing the presence of heart disease. \n",
    "\n",
    "So we will keep that column in a separate dataframe.\n",
    "\n",
    "x will be our input dataframe.\n",
    "\n",
    "y will be our target dataframe."
   ]
  },
  {
   "cell_type": "code",
   "execution_count": 8,
   "id": "3c1d0f9d",
   "metadata": {},
   "outputs": [],
   "source": [
    "x = hd_df.drop(\"target\", axis = 1)\n",
    "y = hd_df[\"target\"]"
   ]
  },
  {
   "cell_type": "markdown",
   "id": "2b079414",
   "metadata": {},
   "source": [
    "***Split data in train and test set***"
   ]
  },
  {
   "cell_type": "markdown",
   "id": "d17e32f2",
   "metadata": {},
   "source": [
    "***x_train:*** independent input data for training the model. \n",
    "\n",
    "***y_train:*** dependent output data for training the model. \n",
    "\n",
    "***x_test:*** independent input data for testing the model. It is used to predict the values.\n",
    "\n",
    "***y_test:*** dependent outplu data. It is used to compare it with the predicted values.\n",
    "\n",
    "***test_size = 0.20:*** the data is split. 20% data will go in test set and 80% will go in test set.\n",
    "\n",
    "***random_state = 42:*** it is used a s refernce. Everytime this code is run, same data is loaded in train and test set."
   ]
  },
  {
   "cell_type": "code",
   "execution_count": 9,
   "id": "bf6be56e",
   "metadata": {},
   "outputs": [],
   "source": [
    "# import sk learn library for splitting the data\n",
    "from sklearn.model_selection import train_test_split"
   ]
  },
  {
   "cell_type": "code",
   "execution_count": 10,
   "id": "ff7dd6f3",
   "metadata": {},
   "outputs": [],
   "source": [
    "# split the data\n",
    "X_train, X_test, y_train, y_test = train_test_split(x, y, test_size = 0.20, random_state = 42)"
   ]
  },
  {
   "cell_type": "code",
   "execution_count": 11,
   "id": "fe7ee850",
   "metadata": {},
   "outputs": [
    {
     "data": {
      "text/plain": [
       "((242, 13), (61, 13))"
      ]
     },
     "execution_count": 11,
     "metadata": {},
     "output_type": "execute_result"
    }
   ],
   "source": [
    "# check shape of the data frame\n",
    "X_train.shape, X_test.shape"
   ]
  },
  {
   "cell_type": "markdown",
   "id": "87f19fce",
   "metadata": {},
   "source": [
    "***Building a binary classification neural network*** \n",
    "\n",
    "1. Defining a neural network.\n",
    "2. Compiling a neural network.\n",
    "3. Training a neural network.\n",
    "4. Evaluating a neural network.\n",
    "5. Predicting a neural network."
   ]
  },
  {
   "cell_type": "markdown",
   "id": "3556b016",
   "metadata": {},
   "source": [
    "***Our Model Architecture***"
   ]
  },
  {
   "cell_type": "markdown",
   "id": "ee09a4cf",
   "metadata": {},
   "source": [
    "The architecture is build considering 2 important aspects\n",
    "\n",
    "1. No. of layers that needs to be created.\n",
    "2. No of neurons in each layer\n",
    "\n",
    "For our layer we will be considering the following aspects:\n",
    "\n",
    "1. input = no. of features in input layer = 13\n",
    "2. No. of neurons in first dense layer = 32\n",
    "3. No. of neurons in second dense layer = 16\n",
    "4. No. of neurons in third dense layer = 8\n",
    "5. No. of neurons in output layer = 1"
   ]
  },
  {
   "cell_type": "code",
   "execution_count": 12,
   "id": "1b74e3b3",
   "metadata": {},
   "outputs": [],
   "source": [
    "# importing required libraries\n",
    "from tensorflow.keras.models import Sequential\n",
    "from tensorflow.keras.layers import Dense, Activation"
   ]
  },
  {
   "cell_type": "code",
   "execution_count": 13,
   "id": "39dcfe7d",
   "metadata": {},
   "outputs": [],
   "source": [
    "# Defining the model\n",
    "model = Sequential()"
   ]
  },
  {
   "cell_type": "code",
   "execution_count": 14,
   "id": "8f5b90ba",
   "metadata": {},
   "outputs": [],
   "source": [
    "# Adding input layers\n",
    "input_dims = X_train.shape[1]\n",
    "model.add(tf.keras.Input(shape =(input_dims), name = \"input_layer\"))"
   ]
  },
  {
   "cell_type": "code",
   "execution_count": 15,
   "id": "2534a4d0",
   "metadata": {},
   "outputs": [],
   "source": [
    "# Adding hidden layers\n",
    "model.add(Dense(32, activation = \"relu\", name = \"hidden_layer1\"))\n",
    "model.add(Dense(16, activation = \"relu\", name = \"hidden_layer2\"))\n",
    "model.add(Dense(8, activation = \"relu\", name = \"hidden_layer3\"))"
   ]
  },
  {
   "cell_type": "code",
   "execution_count": 16,
   "id": "f5002192",
   "metadata": {},
   "outputs": [],
   "source": [
    "# Adding output layer\n",
    "model.add(Dense(1, activation = \"sigmoid\", name = \"output_layer\"))"
   ]
  },
  {
   "cell_type": "markdown",
   "id": "6c8c4946",
   "metadata": {},
   "source": [
    "In above code we have created 4 dense layers.\n",
    "\n",
    "***Relu Activation Function is used in hidden layers***\n",
    "\n",
    "ReLU, which stands for Rectified Linear Unit, is an activation function commonly used in artificial neural networks. ReLU tends to produce sparse activations. Neurons that receive negative input values become inactive (output zero), and only neurons with positive inputs contribute to the network's output. This sparsity can be beneficial in certain scenarios. ReLU is widely used as an activation function in the hidden layers of deep neural networks. Its simplicity and effectiveness have contributed to its popularity in recent years.\n",
    "\n",
    "***Sigmoid Activation Function is used in output layer.***\n",
    "\n",
    "The sigmoid function, also known as the logistic function, is a common activation function used in artificial neural networks. The sigmoid function has an S-shaped curve, which makes it particularly useful for binary classification problems. The output is close to 0 for very negative inputs, close to 1 for very positive inputs, and smoothly transitions between the two for inputs around 0. The sigmoid function is commonly used in the output layer of a neural network for binary classification problems. The output can be interpreted as the probability of belonging to the positive class."
   ]
  },
  {
   "cell_type": "code",
   "execution_count": 17,
   "id": "85806b24",
   "metadata": {},
   "outputs": [
    {
     "name": "stdout",
     "output_type": "stream",
     "text": [
      "Model: \"sequential\"\n",
      "_________________________________________________________________\n",
      " Layer (type)                Output Shape              Param #   \n",
      "=================================================================\n",
      " hidden_layer1 (Dense)       (None, 32)                448       \n",
      "                                                                 \n",
      " hidden_layer2 (Dense)       (None, 16)                528       \n",
      "                                                                 \n",
      " hidden_layer3 (Dense)       (None, 8)                 136       \n",
      "                                                                 \n",
      " output_layer (Dense)        (None, 1)                 9         \n",
      "                                                                 \n",
      "=================================================================\n",
      "Total params: 1121 (4.38 KB)\n",
      "Trainable params: 1121 (4.38 KB)\n",
      "Non-trainable params: 0 (0.00 Byte)\n",
      "_________________________________________________________________\n"
     ]
    }
   ],
   "source": [
    "# Creating Model summary\n",
    "model.summary()"
   ]
  },
  {
   "cell_type": "code",
   "execution_count": 18,
   "id": "a3ed2813",
   "metadata": {},
   "outputs": [
    {
     "data": {
      "image/png": "[encoded data removed]",
      "text/plain": [
       "<IPython.core.display.Image object>"
      ]
     },
     "execution_count": 18,
     "metadata": {},
     "output_type": "execute_result"
    }
   ],
   "source": [
    "# Plotting the Model\n",
    "from tensorflow.keras.utils import plot_model\n",
    "plot_model(model)"
   ]
  },
  {
   "cell_type": "code",
   "execution_count": 19,
   "id": "3584e445",
   "metadata": {},
   "outputs": [],
   "source": [
    "#import optimizer\n",
    "from tensorflow.keras.optimizers import RMSprop"
   ]
  },
  {
   "cell_type": "code",
   "execution_count": 20,
   "id": "9ccde4c4",
   "metadata": {},
   "outputs": [],
   "source": [
    "# define the optimizer\n",
    "optimizer = RMSprop(0.001) #etting the learning rate at 0.001"
   ]
  },
  {
   "cell_type": "code",
   "execution_count": 21,
   "id": "605abee8",
   "metadata": {},
   "outputs": [],
   "source": [
    "#compile the model\n",
    "model.compile(loss = \"binary_crossentropy\", optimizer = optimizer, metrics = [\"accuracy\"])"
   ]
  },
  {
   "cell_type": "markdown",
   "id": "080e57c0",
   "metadata": {},
   "source": [
    "***Binary_Crossentopy***\n",
    "\n",
    "Binary Crossentropy, often referred to as log loss or logistic loss, is a loss function commonly used in binary classification problems. It measures the difference between the true labels and the predicted probabilities for a binary classification task. Binary Crossentropy is a commonly used loss function for binary classification tasks, measuring the discrepancy between predicted probabilities and true labels. \n",
    "\n",
    "***accuracy metrics***\n",
    "\n",
    "Accuracy is a commonly used metric for evaluating classification models. It measures the overall correctness of predictions by comparing the number of correct predictions to the total number of predictions."
   ]
  },
  {
   "cell_type": "markdown",
   "id": "5a428517",
   "metadata": {},
   "source": [
    "***TRAINING THE MODEL***"
   ]
  },
  {
   "cell_type": "code",
   "execution_count": 22,
   "id": "b605ab5f",
   "metadata": {},
   "outputs": [
    {
     "name": "stdout",
     "output_type": "stream",
     "text": [
      "Epoch 1/20\n",
      "2/2 [==============================] - 1s 212ms/step - loss: 3.4966 - accuracy: 0.4093 - val_loss: 1.7384 - val_accuracy: 0.4286\n",
      "Epoch 2/20\n",
      "2/2 [==============================] - 0s 32ms/step - loss: 1.5950 - accuracy: 0.3679 - val_loss: 1.3948 - val_accuracy: 0.3878\n",
      "Epoch 3/20\n",
      "2/2 [==============================] - 0s 39ms/step - loss: 1.1499 - accuracy: 0.4715 - val_loss: 1.2004 - val_accuracy: 0.4082\n",
      "Epoch 4/20\n",
      "2/2 [==============================] - 0s 42ms/step - loss: 0.9930 - accuracy: 0.4870 - val_loss: 1.1630 - val_accuracy: 0.4286\n",
      "Epoch 5/20\n",
      "2/2 [==============================] - 0s 46ms/step - loss: 1.0960 - accuracy: 0.4352 - val_loss: 1.2609 - val_accuracy: 0.5918\n",
      "Epoch 6/20\n",
      "2/2 [==============================] - 0s 35ms/step - loss: 0.8933 - accuracy: 0.5699 - val_loss: 1.0541 - val_accuracy: 0.4286\n",
      "Epoch 7/20\n",
      "2/2 [==============================] - 0s 61ms/step - loss: 0.8405 - accuracy: 0.4922 - val_loss: 1.0272 - val_accuracy: 0.4490\n",
      "Epoch 8/20\n",
      "2/2 [==============================] - 0s 31ms/step - loss: 0.7694 - accuracy: 0.5181 - val_loss: 0.9174 - val_accuracy: 0.4694\n",
      "Epoch 9/20\n",
      "2/2 [==============================] - 0s 34ms/step - loss: 0.6934 - accuracy: 0.6218 - val_loss: 0.8962 - val_accuracy: 0.4898\n",
      "Epoch 10/20\n",
      "2/2 [==============================] - 0s 40ms/step - loss: 0.7537 - accuracy: 0.6269 - val_loss: 1.0523 - val_accuracy: 0.4490\n",
      "Epoch 11/20\n",
      "2/2 [==============================] - 0s 38ms/step - loss: 0.7480 - accuracy: 0.6166 - val_loss: 0.8024 - val_accuracy: 0.6735\n",
      "Epoch 12/20\n",
      "2/2 [==============================] - 0s 39ms/step - loss: 0.6326 - accuracy: 0.6373 - val_loss: 0.7594 - val_accuracy: 0.6735\n",
      "Epoch 13/20\n",
      "2/2 [==============================] - 0s 44ms/step - loss: 0.6034 - accuracy: 0.7098 - val_loss: 0.7428 - val_accuracy: 0.6327\n",
      "Epoch 14/20\n",
      "2/2 [==============================] - 0s 62ms/step - loss: 0.5914 - accuracy: 0.6891 - val_loss: 0.7948 - val_accuracy: 0.5510\n",
      "Epoch 15/20\n",
      "2/2 [==============================] - 0s 42ms/step - loss: 0.7668 - accuracy: 0.6580 - val_loss: 0.9619 - val_accuracy: 0.4898\n",
      "Epoch 16/20\n",
      "2/2 [==============================] - 0s 39ms/step - loss: 0.6853 - accuracy: 0.6114 - val_loss: 0.7315 - val_accuracy: 0.7143\n",
      "Epoch 17/20\n",
      "2/2 [==============================] - 0s 33ms/step - loss: 0.5727 - accuracy: 0.7306 - val_loss: 0.7210 - val_accuracy: 0.6531\n",
      "Epoch 18/20\n",
      "2/2 [==============================] - 0s 33ms/step - loss: 0.5660 - accuracy: 0.6891 - val_loss: 0.8004 - val_accuracy: 0.6122\n",
      "Epoch 19/20\n",
      "2/2 [==============================] - 0s 46ms/step - loss: 0.6265 - accuracy: 0.6788 - val_loss: 0.6994 - val_accuracy: 0.7143\n",
      "Epoch 20/20\n",
      "2/2 [==============================] - 0s 45ms/step - loss: 0.5361 - accuracy: 0.7202 - val_loss: 0.7881 - val_accuracy: 0.5714\n"
     ]
    }
   ],
   "source": [
    "multiclass_classifier = model.fit(X_train, y_train, validation_split=0.2, epochs=20,\n",
    "                                  batch_size = 128, verbose =1)\n",
    "\n",
    "# batch_size should be in 2^n form, where n= 1,2,3...."
   ]
  },
  {
   "cell_type": "markdown",
   "id": "ddd948e9",
   "metadata": {},
   "source": [
    "***Evaluate Trained Neuron Network***"
   ]
  },
  {
   "cell_type": "code",
   "execution_count": 23,
   "id": "f998bb68",
   "metadata": {},
   "outputs": [],
   "source": [
    "# Evaluating neural network using test dataset\n",
    "\n",
    "score = model.evaluate(x = X_test, y=y_test, verbose=0)"
   ]
  },
  {
   "cell_type": "code",
   "execution_count": 24,
   "id": "4726d997",
   "metadata": {},
   "outputs": [
    {
     "name": "stdout",
     "output_type": "stream",
     "text": [
      "Test Score 0.5893081426620483\n",
      "Test Accuracy 0.6721311211585999\n"
     ]
    }
   ],
   "source": [
    "print(\"Test Score\", score[0])\n",
    "print(\"Test Accuracy\", score[1])"
   ]
  },
  {
   "cell_type": "code",
   "execution_count": 25,
   "id": "e63f22f4",
   "metadata": {},
   "outputs": [
    {
     "data": {
      "image/png": "[encoded data removed]",
      "text/plain": [
       "<Figure size 640x480 with 1 Axes>"
      ]
     },
     "metadata": {},
     "output_type": "display_data"
    }
   ],
   "source": [
    "# plotting Training and validation accuracy\n",
    "\n",
    "plt.plot(multiclass_classifier.history[\"accuracy\"])\n",
    "plt.plot(multiclass_classifier.history[\"val_accuracy\"])\n",
    "plt.title(\"Training and validation accuracy\")\n",
    "plt.xlabel(\"epochs\")\n",
    "plt.ylabel(\"Loss\")\n",
    "plt.legend(\"Train\", \"Validation\")\n",
    "plt.grid()\n",
    "plt.show()"
   ]
  },
  {
   "cell_type": "code",
   "execution_count": 26,
   "id": "9c121e51",
   "metadata": {},
   "outputs": [
    {
     "data": {
      "image/png": "[encoded data removed]",
      "text/plain": [
       "<Figure size 640x480 with 1 Axes>"
      ]
     },
     "metadata": {},
     "output_type": "display_data"
    }
   ],
   "source": [
    "# plotting Training and validation loss\n",
    "\n",
    "plt.plot(multiclass_classifier.history[\"loss\"])\n",
    "plt.plot(multiclass_classifier.history[\"val_loss\"])\n",
    "plt.title(\"Training and validation accuracy\")\n",
    "plt.xlabel(\"epochs\")\n",
    "plt.ylabel(\"Loss\")\n",
    "plt.legend(\"Train\", \"Validation\")\n",
    "plt.grid()\n",
    "plt.show()"
   ]
  },
  {
   "cell_type": "markdown",
   "id": "134f76f4",
   "metadata": {},
   "source": [
    "***Prediction using training dataset***"
   ]
  },
  {
   "cell_type": "code",
   "execution_count": 27,
   "id": "b8a52066",
   "metadata": {},
   "outputs": [
    {
     "name": "stdout",
     "output_type": "stream",
     "text": [
      "2/2 [==============================] - 0s 3ms/step\n"
     ]
    },
    {
     "data": {
      "text/plain": [
       "array([[0.3071177 ],\n",
       "       [0.9103194 ],\n",
       "       [0.81196785],\n",
       "       [0.52289534],\n",
       "       [0.90952843],\n",
       "       [0.69354254],\n",
       "       [0.96370274],\n",
       "       [0.97990763],\n",
       "       [0.10640417],\n",
       "       [0.5275621 ]], dtype=float32)"
      ]
     },
     "execution_count": 27,
     "metadata": {},
     "output_type": "execute_result"
    }
   ],
   "source": [
    "y_pred = model.predict(X_test)\n",
    "y_pred[:10]"
   ]
  },
  {
   "cell_type": "code",
   "execution_count": 28,
   "id": "c7513919",
   "metadata": {},
   "outputs": [
    {
     "data": {
      "text/plain": [
       "array([[False],\n",
       "       [ True],\n",
       "       [ True],\n",
       "       [ True],\n",
       "       [ True],\n",
       "       [ True],\n",
       "       [ True],\n",
       "       [ True],\n",
       "       [False],\n",
       "       [ True],\n",
       "       [False],\n",
       "       [False],\n",
       "       [ True],\n",
       "       [ True],\n",
       "       [ True]])"
      ]
     },
     "execution_count": 28,
     "metadata": {},
     "output_type": "execute_result"
    }
   ],
   "source": [
    "# decision boundary threshold, if probablility > 0.5 then risk of heart disease, or no heart disease\n",
    "\n",
    "y_pred = (y_pred>0.5)\n",
    "y_pred[:15]"
   ]
  },
  {
   "cell_type": "markdown",
   "id": "53a904e7",
   "metadata": {},
   "source": [
    "False implies no heart disease, probablity is less than 0.5\n",
    "\n",
    "True implies heart disease, probablity is greater than 0.5"
   ]
  },
  {
   "cell_type": "markdown",
   "id": "d5b38843",
   "metadata": {},
   "source": [
    "***Plot Confusion Matrix and Classification report***"
   ]
  },
  {
   "cell_type": "markdown",
   "id": "158a9c45",
   "metadata": {},
   "source": [
    "***CONFUSION MATRIX***\n",
    "\n",
    "A confusion matrix is a table that is often used to evaluate the performance of a classification model on a set of labeled data. It provides a detailed breakdown of the model's predictions, showing the number of true positive, true negative, false positive, and false negative instances. The confusion matrix is a valuable tool for understanding the strengths and weaknesses of a classification model.\n",
    "\n",
    "Here are the key components of a confusion matrix:\n",
    "\n",
    "***True Positive (TP):*** Instances where the model correctly predicts the positive class.\n",
    "\n",
    "***True Negative (TN):*** Instances where the model correctly predicts the negative class.\n",
    "\n",
    "***False Positive (FP):*** Instances where the model incorrectly predicts the positive class (Type I error).\n",
    "\n",
    "***False Negative (FN):*** Instances where the model incorrectly predicts the negative class (Type II error)."
   ]
  },
  {
   "cell_type": "code",
   "execution_count": 30,
   "id": "16cad067",
   "metadata": {},
   "outputs": [],
   "source": [
    "from sklearn.metrics import classification_report, confusion_matrix, accuracy_score, auc, roc_curve\n",
    "import seaborn as sns"
   ]
  },
  {
   "cell_type": "code",
   "execution_count": 43,
   "id": "e5734c3b",
   "metadata": {},
   "outputs": [],
   "source": [
    "# defining function\n",
    "\n",
    "def plot_confusion_matrix (y_test, y_predict):\n",
    "    cm = confusion_matrix(y_test, y_predict)\n",
    "    labels = [\"Not Present\", \"Present\"]\n",
    "\n",
    "    # color map\n",
    "    cmap = sns.light_palette(\"blue\")\n",
    "    \n",
    "    # Plotting Confusion Matrix\n",
    "    \n",
    "    plt.figure(figsize=(4,4))\n",
    "    sns.heatmap(cm, annot=cm, cmap=cmap, fmt=\".3f\", xticklabels = labels, yticklabels = labels)\n",
    "    plt.xlabel(\"Predicted Values\")\n",
    "    plt.ylabel(\"Actual Values\")\n",
    "    plt.title(\"Confusion Matrix\")\n",
    "    plt.show()\n",
    "    \n",
    "    print()\n",
    "    print(\"_\"*100)\n",
    "    print(\"Classificarion Report:\\n\", classification_report(y_test, y_predict))\n",
    "    print(\"Accuracy Score:\" +str(accuracy_score(y_test, y_predict)*100))\n",
    "    fpr, tpr, thresholds = roc_curve(y_test, y_predict)\n",
    "    print(\"AUC Score:\", auc(fpr, tpr))"
   ]
  },
  {
   "cell_type": "code",
   "execution_count": 35,
   "id": "5bd75a59",
   "metadata": {},
   "outputs": [
    {
     "data": {
      "text/plain": [
       "(61,)"
      ]
     },
     "execution_count": 35,
     "metadata": {},
     "output_type": "execute_result"
    }
   ],
   "source": [
    "# shape of dataset\n",
    "y_test.shape"
   ]
  },
  {
   "cell_type": "code",
   "execution_count": 38,
   "id": "780b2e7d",
   "metadata": {},
   "outputs": [
    {
     "data": {
      "text/plain": [
       "1    32\n",
       "0    29\n",
       "Name: target, dtype: int64"
      ]
     },
     "execution_count": 38,
     "metadata": {},
     "output_type": "execute_result"
    }
   ],
   "source": [
    "#Distribution of each class\n",
    "y_test.value_counts()"
   ]
  },
  {
   "cell_type": "code",
   "execution_count": 44,
   "id": "ea7f2c70",
   "metadata": {},
   "outputs": [
    {
     "data": {
      "image/png": "[encoded data removed]",
      "text/plain": [
       "<Figure size 400x400 with 2 Axes>"
      ]
     },
     "metadata": {},
     "output_type": "display_data"
    },
    {
     "name": "stdout",
     "output_type": "stream",
     "text": [
      "\n",
      "____________________________________________________________________________________________________\n",
      "Classificarion Report:\n",
      "               precision    recall  f1-score   support\n",
      "\n",
      "           0       0.70      0.55      0.62        29\n",
      "           1       0.66      0.78      0.71        32\n",
      "\n",
      "    accuracy                           0.67        61\n",
      "   macro avg       0.68      0.67      0.66        61\n",
      "weighted avg       0.68      0.67      0.67        61\n",
      "\n",
      "Accuracy Score:67.21311475409836\n",
      "AUC Score: 0.6664870689655172\n"
     ]
    }
   ],
   "source": [
    "# Plotting confusion matrix\n",
    "plot_confusion_matrix(y_test, y_pred)"
   ]
  }
 ],
 "metadata": {
  "kernelspec": {
   "display_name": "Python 3 (ipykernel)",
   "language": "python",
   "name": "python3"
  },
  "language_info": {
   "codemirror_mode": {
    "name": "ipython",
    "version": 3
   },
   "file_extension": ".py",
   "mimetype": "text/x-python",
   "name": "python",
   "nbconvert_exporter": "python",
   "pygments_lexer": "ipython3",
   "version": "3.11.5"
  }
 },
 "nbformat": 4,
 "nbformat_minor": 5
}
