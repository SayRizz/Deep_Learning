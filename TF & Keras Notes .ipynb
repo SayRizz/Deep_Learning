{
 "cells": [
  {
   "cell_type": "markdown",
   "id": "d53cc689",
   "metadata": {},
   "source": [
    "Tensors can be created using \n",
    "\n",
    "1. tf.constant\n",
    "2. tf.variable"
   ]
  },
  {
   "cell_type": "markdown",
   "id": "908239e2",
   "metadata": {},
   "source": [
    "***-------------------------------------------------------------------------------------------------------------------------------------------------------------------------***\n",
    "\n",
    "Creating tensors using ***tf.constant***.\n",
    "\n",
    "Tensors are immutable. i.e. once created they cannot be changed.\n",
    "\n",
    "***tf.constant*** can be used to create\n",
    "1. scalar - 0D\n",
    "2. vector - 1D\n",
    "3. matriz - 2D\n",
    "4. tensor - 3D"
   ]
  },
  {
   "cell_type": "code",
   "execution_count": 21,
   "id": "abea5da4",
   "metadata": {},
   "outputs": [],
   "source": [
    "import tensorflow as tf\n",
    "import numpy as np"
   ]
  },
  {
   "cell_type": "code",
   "execution_count": 10,
   "id": "6f5797c4",
   "metadata": {},
   "outputs": [
    {
     "data": {
      "text/plain": [
       "<tf.Tensor: shape=(), dtype=int32, numpy=11>"
      ]
     },
     "execution_count": 10,
     "metadata": {},
     "output_type": "execute_result"
    }
   ],
   "source": [
    "scalar = tf.constant(11)\n",
    "scalar"
   ]
  },
  {
   "cell_type": "code",
   "execution_count": 5,
   "id": "4f6d1a05",
   "metadata": {},
   "outputs": [
    {
     "data": {
      "text/plain": [
       "<tf.Tensor: shape=(3,), dtype=int32, numpy=array([2, 4, 5], dtype=int32)>"
      ]
     },
     "execution_count": 5,
     "metadata": {},
     "output_type": "execute_result"
    }
   ],
   "source": [
    "vector = tf.constant([2,4,5])\n",
    "vector"
   ]
  },
  {
   "cell_type": "code",
   "execution_count": 6,
   "id": "7f708c08",
   "metadata": {},
   "outputs": [
    {
     "data": {
      "text/plain": [
       "<tf.Tensor: shape=(2, 3), dtype=int32, numpy=\n",
       "array([[1, 2, 3],\n",
       "       [4, 5, 6]], dtype=int32)>"
      ]
     },
     "execution_count": 6,
     "metadata": {},
     "output_type": "execute_result"
    }
   ],
   "source": [
    "matrix = tf.constant([[1,2,3],[4,5,6]])\n",
    "matrix"
   ]
  },
  {
   "cell_type": "code",
   "execution_count": 7,
   "id": "31f458eb",
   "metadata": {},
   "outputs": [
    {
     "data": {
      "text/plain": [
       "<tf.Tensor: shape=(3, 2, 3), dtype=int32, numpy=\n",
       "array([[[1, 2, 3],\n",
       "        [4, 5, 6]],\n",
       "\n",
       "       [[1, 4, 3],\n",
       "        [5, 2, 9]],\n",
       "\n",
       "       [[0, 7, 8],\n",
       "        [3, 1, 2]]], dtype=int32)>"
      ]
     },
     "execution_count": 7,
     "metadata": {},
     "output_type": "execute_result"
    }
   ],
   "source": [
    "tensor = tf.constant ([[[1,2,3],[4,5,6]],[[1,4,3],[5,2,9]],[[0,7,8],[3,1,2]]])\n",
    "tensor"
   ]
  },
  {
   "cell_type": "markdown",
   "id": "9d8fe59c",
   "metadata": {},
   "source": [
    "***-------------------------------------------------------------------------------------------------------------------------------------------------------------------------***\n",
    "\n",
    "Creating tensors using ***tf.variable***\n",
    "These tensors are mutable\n",
    "All dimension tensors can be creayed using tf.variable"
   ]
  },
  {
   "cell_type": "code",
   "execution_count": 18,
   "id": "0de2ea50",
   "metadata": {},
   "outputs": [
    {
     "name": "stdout",
     "output_type": "stream",
     "text": [
      "<tf.Variable 'Variable:0' shape=() dtype=int32, numpy=2>\n",
      "<tf.Variable 'Variable:0' shape=(3,) dtype=int32, numpy=array([ 2,  4, 56], dtype=int32)>\n",
      "<tf.Variable 'Variable:0' shape=(2, 3) dtype=int32, numpy=\n",
      "array([[3, 2, 4],\n",
      "       [8, 9, 0]], dtype=int32)>\n",
      "<tf.Variable 'Variable:0' shape=(3, 2, 3) dtype=int32, numpy=\n",
      "array([[[1, 2, 3],\n",
      "        [4, 5, 6]],\n",
      "\n",
      "       [[1, 4, 3],\n",
      "        [5, 2, 9]],\n",
      "\n",
      "       [[0, 7, 8],\n",
      "        [3, 1, 2]]], dtype=int32)>\n"
     ]
    }
   ],
   "source": [
    "scalar_var = tf.Variable(2)\n",
    "vector_var = tf.Variable([2,4,56])\n",
    "matrix_var = tf.Variable([[3,2,4],[8,9,0]])\n",
    "tensor_var = tf.Variable([[[1,2,3],[4,5,6]],[[1,4,3],[5,2,9]],[[0,7,8],[3,1,2]]])\n",
    "\n",
    "print(scalar)\n",
    "print(vector)\n",
    "print(matrix)\n",
    "print(tensor)"
   ]
  },
  {
   "cell_type": "markdown",
   "id": "419b7e07",
   "metadata": {},
   "source": [
    "***.assign is used to change the values of tensor if they are created using tf.variable***"
   ]
  },
  {
   "cell_type": "code",
   "execution_count": 19,
   "id": "b076db33",
   "metadata": {},
   "outputs": [
    {
     "data": {
      "text/plain": [
       "<tf.Variable 'Variable:0' shape=(3,) dtype=int32, numpy=array([2, 4, 7], dtype=int32)>"
      ]
     },
     "execution_count": 19,
     "metadata": {},
     "output_type": "execute_result"
    }
   ],
   "source": [
    "vector_var[2].assign(7)\n",
    "vector_var"
   ]
  },
  {
   "cell_type": "code",
   "execution_count": 20,
   "id": "92dd9855",
   "metadata": {},
   "outputs": [
    {
     "data": {
      "text/plain": [
       "<tf.Variable 'Variable:0' shape=(2, 3) dtype=int32, numpy=\n",
       "array([[3, 2, 4],\n",
       "       [8, 9, 2]], dtype=int32)>"
      ]
     },
     "execution_count": 20,
     "metadata": {},
     "output_type": "execute_result"
    }
   ],
   "source": [
    "matrix_var[1,2].assign(2)\n",
    "matrix_var"
   ]
  },
  {
   "cell_type": "markdown",
   "id": "fb48f512",
   "metadata": {},
   "source": [
    "***-------------------------------------------------------------------------------------------------------------------------------------------------------------------------***\n",
    "\n",
    "Creating tensors using ***tf.convert_to_tensor***\n",
    "Python lists and numpy arrays can be converted to tensors"
   ]
  },
  {
   "cell_type": "code",
   "execution_count": 28,
   "id": "9d8b6a4e",
   "metadata": {},
   "outputs": [],
   "source": [
    "scalar1 = 3\n",
    "vector1 = [9,8,0,7]\n",
    "array1 = np.array([0,6,7])\n",
    "matrix1 = np.array([[2,1,3],[8,6,5]])"
   ]
  },
  {
   "cell_type": "code",
   "execution_count": 29,
   "id": "0832f670",
   "metadata": {},
   "outputs": [
    {
     "data": {
      "text/plain": [
       "<tf.Tensor: shape=(), dtype=int32, numpy=3>"
      ]
     },
     "execution_count": 29,
     "metadata": {},
     "output_type": "execute_result"
    }
   ],
   "source": [
    "scalar1 = tf.convert_to_tensor(scalar1)\n",
    "scalar1"
   ]
  },
  {
   "cell_type": "code",
   "execution_count": 30,
   "id": "b6341112",
   "metadata": {},
   "outputs": [
    {
     "data": {
      "text/plain": [
       "[9, 8, 0, 7]"
      ]
     },
     "execution_count": 30,
     "metadata": {},
     "output_type": "execute_result"
    }
   ],
   "source": [
    "vector2 = tf.convert_to_tensor(vector1)\n",
    "vector1"
   ]
  },
  {
   "cell_type": "code",
   "execution_count": 31,
   "id": "e79e8e3a",
   "metadata": {},
   "outputs": [
    {
     "data": {
      "text/plain": [
       "<tf.Tensor: shape=(3,), dtype=int64, numpy=array([0, 6, 7])>"
      ]
     },
     "execution_count": 31,
     "metadata": {},
     "output_type": "execute_result"
    }
   ],
   "source": [
    "array1 = tf.convert_to_tensor(array1)\n",
    "array1"
   ]
  },
  {
   "cell_type": "code",
   "execution_count": 32,
   "id": "937a3ac1",
   "metadata": {},
   "outputs": [
    {
     "data": {
      "text/plain": [
       "<tf.Tensor: shape=(2, 3), dtype=int64, numpy=\n",
       "array([[2, 1, 3],\n",
       "       [8, 6, 5]])>"
      ]
     },
     "execution_count": 32,
     "metadata": {},
     "output_type": "execute_result"
    }
   ],
   "source": [
    "matrix1 = tf.convert_to_tensor(matrix1)\n",
    "matrix1"
   ]
  },
  {
   "cell_type": "markdown",
   "id": "dcd9f73e",
   "metadata": {},
   "source": [
    "***-------------------------------------------------------------------------------------------------------------------------------------------------------------------------***\n",
    "\n",
    "Creating ***Random Tensors***\n",
    "Random Tensors are created by 2 method\n",
    "1. Normal or Gaussian Distribution\n",
    "2. Uniform Distribution"
   ]
  },
  {
   "cell_type": "markdown",
   "id": "03db5ecb",
   "metadata": {},
   "source": [
    "**1. Normal Distribution**\n",
    "\n",
    "A normal distribution, also known as a Gaussian distribution, is a continuous probability distribution that is symmetric around its mean (average) value. It is characterized by a bell-shaped curve, and its shape is completely determined by two parameters: the mean (μ) and the standard deviation (σ). The mean represents the central location of the distribution, and the standard deviation controls the spread or dispersion of the data."
   ]
  },
  {
   "cell_type": "code",
   "execution_count": 34,
   "id": "86170836",
   "metadata": {},
   "outputs": [
    {
     "data": {
      "text/plain": [
       "<tf.Tensor: shape=(3, 2), dtype=float32, numpy=\n",
       "array([[10.357622,  9.412098],\n",
       "       [10.069904, 10.625672],\n",
       "       [ 9.702013,  9.063157]], dtype=float32)>"
      ]
     },
     "execution_count": 34,
     "metadata": {},
     "output_type": "execute_result"
    }
   ],
   "source": [
    "tensor_normal = tf.random.normal(shape=(3,2), mean=10.0)\n",
    "tensor_normal"
   ]
  },
  {
   "cell_type": "code",
   "execution_count": 35,
   "id": "f9123423",
   "metadata": {},
   "outputs": [
    {
     "data": {
      "text/plain": [
       "<tf.Tensor: shape=(4, 3, 3), dtype=float32, numpy=\n",
       "array([[[17.643896, 17.997456, 18.846338],\n",
       "        [17.26735 , 19.454699, 17.933365],\n",
       "        [17.964787, 18.342266, 19.108667]],\n",
       "\n",
       "       [[18.666735, 18.662619, 19.61171 ],\n",
       "        [17.288456, 19.322964, 19.03079 ],\n",
       "        [18.184307, 17.4935  , 18.423449]],\n",
       "\n",
       "       [[20.007282, 19.26679 , 17.72156 ],\n",
       "        [17.897013, 16.796824, 18.95077 ],\n",
       "        [15.562476, 15.450766, 18.656694]],\n",
       "\n",
       "       [[17.944551, 16.304758, 19.783356],\n",
       "        [17.731684, 18.052237, 18.03784 ],\n",
       "        [18.532492, 17.453583, 17.468388]]], dtype=float32)>"
      ]
     },
     "execution_count": 35,
     "metadata": {},
     "output_type": "execute_result"
    }
   ],
   "source": [
    "tensor_normal1 = tf.random.normal(shape=(4,3,3), mean=18.0)\n",
    "tensor_normal1"
   ]
  },
  {
   "cell_type": "markdown",
   "id": "01c21f1d",
   "metadata": {},
   "source": [
    "***2. Uniform Distribution***\n",
    "\n",
    "A uniform distribution, also known as a rectangular distribution, is a probability distribution in which all outcomes are equally likely. In other words, every possible value within a given range has an equal probability of occurring. The probability density function (PDF) for a continuous uniform distribution is constant over the entire range of possible values and zero elsewhere."
   ]
  },
  {
   "cell_type": "code",
   "execution_count": 38,
   "id": "52d2ce73",
   "metadata": {},
   "outputs": [
    {
     "data": {
      "text/plain": [
       "<tf.Tensor: shape=(3, 4, 2), dtype=float32, numpy=\n",
       "array([[[3.2744935, 4.550191 ],\n",
       "        [3.773109 , 3.7289038],\n",
       "        [3.565404 , 4.158935 ],\n",
       "        [4.2301216, 4.1769047]],\n",
       "\n",
       "       [[3.5106013, 3.4045067],\n",
       "        [3.7738192, 3.3318114],\n",
       "        [3.3029869, 3.5631447],\n",
       "        [4.087923 , 4.2885494]],\n",
       "\n",
       "       [[4.553089 , 4.1314936],\n",
       "        [3.5590858, 4.3050213],\n",
       "        [3.398963 , 3.3364232],\n",
       "        [4.1959844, 4.2420874]]], dtype=float32)>"
      ]
     },
     "execution_count": 38,
     "metadata": {},
     "output_type": "execute_result"
    }
   ],
   "source": [
    "tensor_uniform = tf.random.uniform(shape=(3,4,2), minval = 3.2, maxval = 4.7)\n",
    "tensor_uniform"
   ]
  },
  {
   "cell_type": "markdown",
   "id": "34b146b1",
   "metadata": {},
   "source": [
    "***-------------------------------------------------------------------------------------------------------------------------------------------------------------------------***\n",
    "\n",
    "Getting ***Basic information*** from a Tensor\n",
    "1. Data type of tensor - .dtype\n",
    "2. Shape of tensor - .shape\n",
    "3. Rank or no. of dimensions of tensor - .ndim\n",
    "2. Total elements in a tensor - tf.size(tensor_name)"
   ]
  },
  {
   "cell_type": "code",
   "execution_count": 43,
   "id": "ae0b9b99",
   "metadata": {},
   "outputs": [
    {
     "data": {
      "text/plain": [
       "<tf.Tensor: shape=(3, 4, 2), dtype=float32, numpy=\n",
       "array([[[1.0073793, 1.0671504],\n",
       "        [1.0109546, 1.0158958],\n",
       "        [1.033641 , 1.0567255],\n",
       "        [1.0031117, 1.0076605]],\n",
       "\n",
       "       [[1.0698303, 1.0783405],\n",
       "        [1.0791568, 1.0560254],\n",
       "        [1.0237141, 1.0288061],\n",
       "        [1.0561891, 1.084461 ]],\n",
       "\n",
       "       [[1.0596166, 1.0006526],\n",
       "        [1.0876992, 1.0061499],\n",
       "        [1.0817227, 1.0259876],\n",
       "        [1.0746629, 1.0740496]]], dtype=float32)>"
      ]
     },
     "execution_count": 43,
     "metadata": {},
     "output_type": "execute_result"
    }
   ],
   "source": [
    "tensor_info = tf.random.uniform(shape =(3,4,2), minval=1, maxval=1.1)\n",
    "tensor_info"
   ]
  },
  {
   "cell_type": "code",
   "execution_count": 45,
   "id": "08832658",
   "metadata": {},
   "outputs": [
    {
     "name": "stdout",
     "output_type": "stream",
     "text": [
      "Data type of tensor is:  <dtype: 'float32'>\n",
      "Shape of tensor is:  (3, 4, 2)\n",
      "dimensions of tensor is:  <dtype: 'float32'>\n",
      "Total elements in tensor are:  tf.Tensor(24, shape=(), dtype=int32)\n",
      "Total elements in tensor are:  24\n"
     ]
    }
   ],
   "source": [
    "print(\"Data type of tensor is: \", tensor_info.dtype)\n",
    "print(\"Shape of tensor is: \", tensor_info.shape)\n",
    "print(\"dimensions of tensor is: \", tensor_info.dtype)\n",
    "print(\"Total elements in tensor are: \", tf.size(tensor_info))\n",
    "print(\"Total elements in tensor are: \", tf.size(tensor_info).numpy())"
   ]
  },
  {
   "cell_type": "markdown",
   "id": "626296ef",
   "metadata": {},
   "source": [
    "***-------------------------------------------------------------------------------------------------------------------------------------------------------------------------***\n",
    "\n",
    "***Indexing*** and ***Slicing*** of tensors"
   ]
  },
  {
   "cell_type": "code",
   "execution_count": 48,
   "id": "4c9af51d",
   "metadata": {},
   "outputs": [
    {
     "data": {
      "text/plain": [
       "<tf.Variable 'Variable:0' shape=(10,) dtype=int32, numpy=array([ 1,  2,  3,  4,  5,  6,  7,  8,  9, 10], dtype=int32)>"
      ]
     },
     "execution_count": 48,
     "metadata": {},
     "output_type": "execute_result"
    }
   ],
   "source": [
    "tensor1 = tf.Variable([1,2,3,4,5,6,7,8,9,10])\n",
    "tensor1"
   ]
  },
  {
   "cell_type": "code",
   "execution_count": 49,
   "id": "7b74ec80",
   "metadata": {},
   "outputs": [
    {
     "data": {
      "text/plain": [
       "<tf.Tensor: shape=(), dtype=int32, numpy=1>"
      ]
     },
     "execution_count": 49,
     "metadata": {},
     "output_type": "execute_result"
    }
   ],
   "source": [
    "tensor1[0]"
   ]
  },
  {
   "cell_type": "code",
   "execution_count": 50,
   "id": "82f1d39f",
   "metadata": {},
   "outputs": [
    {
     "data": {
      "text/plain": [
       "<tf.Variable 'Variable:0' shape=(10,) dtype=int32, numpy=array([ 1,  2,  3,  4,  5,  6,  7,  8,  9, 10], dtype=int32)>"
      ]
     },
     "execution_count": 50,
     "metadata": {},
     "output_type": "execute_result"
    }
   ],
   "source": [
    "tensor1"
   ]
  },
  {
   "cell_type": "code",
   "execution_count": 51,
   "id": "69372bc3",
   "metadata": {},
   "outputs": [
    {
     "data": {
      "text/plain": [
       "<tf.Tensor: shape=(5,), dtype=int32, numpy=array([1, 2, 3, 4, 5], dtype=int32)>"
      ]
     },
     "execution_count": 51,
     "metadata": {},
     "output_type": "execute_result"
    }
   ],
   "source": [
    "tensor1[:5]"
   ]
  },
  {
   "cell_type": "code",
   "execution_count": 52,
   "id": "d5e1f971",
   "metadata": {},
   "outputs": [
    {
     "data": {
      "text/plain": [
       "<tf.Tensor: shape=(5,), dtype=int32, numpy=array([ 6,  7,  8,  9, 10], dtype=int32)>"
      ]
     },
     "execution_count": 52,
     "metadata": {},
     "output_type": "execute_result"
    }
   ],
   "source": [
    "tensor1[5:]"
   ]
  },
  {
   "cell_type": "code",
   "execution_count": 53,
   "id": "cb7ce04d",
   "metadata": {},
   "outputs": [
    {
     "data": {
      "text/plain": [
       "<tf.Tensor: shape=(5,), dtype=int32, numpy=array([3, 4, 5, 6, 7], dtype=int32)>"
      ]
     },
     "execution_count": 53,
     "metadata": {},
     "output_type": "execute_result"
    }
   ],
   "source": [
    "tensor1[2:7]"
   ]
  },
  {
   "cell_type": "code",
   "execution_count": 55,
   "id": "f4fa556d",
   "metadata": {},
   "outputs": [
    {
     "data": {
      "text/plain": [
       "<tf.Tensor: shape=(10,), dtype=int32, numpy=array([10,  9,  8,  7,  6,  5,  4,  3,  2,  1], dtype=int32)>"
      ]
     },
     "execution_count": 55,
     "metadata": {},
     "output_type": "execute_result"
    }
   ],
   "source": [
    "#Reversing the order of tensor\n",
    "tensor1[::-1]"
   ]
  },
  {
   "cell_type": "code",
   "execution_count": 59,
   "id": "effec357",
   "metadata": {},
   "outputs": [
    {
     "data": {
      "text/plain": [
       "<tf.Tensor: shape=(3,), dtype=int32, numpy=array([ 3,  7, 10], dtype=int32)>"
      ]
     },
     "execution_count": 59,
     "metadata": {},
     "output_type": "execute_result"
    }
   ],
   "source": [
    "# Extract multiple values from multiple indices\n",
    "indices = tf.constant([2,6,9])\n",
    "tf.gather(tensor1, indices)"
   ]
  },
  {
   "cell_type": "code",
   "execution_count": 60,
   "id": "198fb46a",
   "metadata": {},
   "outputs": [
    {
     "data": {
      "text/plain": [
       "<tf.Tensor: shape=(3, 3), dtype=int32, numpy=\n",
       "array([[1, 2, 3],\n",
       "       [4, 5, 6],\n",
       "       [7, 8, 9]], dtype=int32)>"
      ]
     },
     "execution_count": 60,
     "metadata": {},
     "output_type": "execute_result"
    }
   ],
   "source": [
    "tensor2 = tf.constant([[1,2,3],[4,5,6],[7,8,9]])\n",
    "tensor2"
   ]
  },
  {
   "cell_type": "code",
   "execution_count": 61,
   "id": "fc1115c5",
   "metadata": {},
   "outputs": [
    {
     "data": {
      "text/plain": [
       "<tf.Tensor: shape=(1,), dtype=int32, numpy=array([3], dtype=int32)>"
      ]
     },
     "execution_count": 61,
     "metadata": {},
     "output_type": "execute_result"
    }
   ],
   "source": [
    "tensor2[0,2:]"
   ]
  },
  {
   "cell_type": "code",
   "execution_count": 62,
   "id": "a76b39c4",
   "metadata": {},
   "outputs": [
    {
     "data": {
      "text/plain": [
       "<tf.Tensor: shape=(2, 3), dtype=int32, numpy=\n",
       "array([[4, 5, 6],\n",
       "       [7, 8, 9]], dtype=int32)>"
      ]
     },
     "execution_count": 62,
     "metadata": {},
     "output_type": "execute_result"
    }
   ],
   "source": [
    "tensor2[1:]"
   ]
  },
  {
   "cell_type": "code",
   "execution_count": 65,
   "id": "96c3d08f",
   "metadata": {},
   "outputs": [
    {
     "data": {
      "text/plain": [
       "<tf.Tensor: shape=(2, 2), dtype=int32, numpy=\n",
       "array([[1, 2],\n",
       "       [4, 5]], dtype=int32)>"
      ]
     },
     "execution_count": 65,
     "metadata": {},
     "output_type": "execute_result"
    }
   ],
   "source": [
    "tensor2[0:2,:2]"
   ]
  },
  {
   "cell_type": "markdown",
   "id": "185a8954",
   "metadata": {},
   "source": [
    "***-------------------------------------------------------------------------------------------------------------------------------------------------------------------------***\n",
    "\n",
    "Create a tensor using a range of numbers using ***tf.range()***\n",
    "\n",
    "Syntax will be:\n",
    "\n",
    "tf.range(start, limit, delta=1, dtype=none, name='range')\n",
    "\n",
    "1. start - denotes starting value - if not mentioned it considers 0 by default\n",
    "2. limit - denotes ending value\n",
    "3. delta - denotes step size"
   ]
  },
  {
   "cell_type": "code",
   "execution_count": 66,
   "id": "975fc116",
   "metadata": {},
   "outputs": [
    {
     "data": {
      "text/plain": [
       "<tf.Tensor: shape=(1,), dtype=int32, numpy=array([0], dtype=int32)>"
      ]
     },
     "execution_count": 66,
     "metadata": {},
     "output_type": "execute_result"
    }
   ],
   "source": [
    "tensor_range1 = tf.range(start=1)\n",
    "tensor_range1"
   ]
  },
  {
   "cell_type": "code",
   "execution_count": 69,
   "id": "cd808415",
   "metadata": {},
   "outputs": [
    {
     "data": {
      "text/plain": [
       "<tf.Tensor: shape=(20,), dtype=int32, numpy=\n",
       "array([ 0,  1,  2,  3,  4,  5,  6,  7,  8,  9, 10, 11, 12, 13, 14, 15, 16,\n",
       "       17, 18, 19], dtype=int32)>"
      ]
     },
     "execution_count": 69,
     "metadata": {},
     "output_type": "execute_result"
    }
   ],
   "source": [
    "limit=20\n",
    "tensor_range2 = tf.range(limit)\n",
    "tensor_range2"
   ]
  },
  {
   "cell_type": "code",
   "execution_count": 70,
   "id": "0174ab99",
   "metadata": {},
   "outputs": [
    {
     "data": {
      "text/plain": [
       "<tf.Tensor: shape=(10,), dtype=int32, numpy=array([ 5, 10, 15, 20, 25, 30, 35, 40, 45, 50], dtype=int32)>"
      ]
     },
     "execution_count": 70,
     "metadata": {},
     "output_type": "execute_result"
    }
   ],
   "source": [
    "tensor_range3 = tf.range(start = 5, limit=55, delta = 5)\n",
    "tensor_range3"
   ]
  },
  {
   "cell_type": "code",
   "execution_count": 71,
   "id": "919287b2",
   "metadata": {},
   "outputs": [
    {
     "data": {
      "text/plain": [
       "<tf.Tensor: shape=(10,), dtype=int32, numpy=array([55, 50, 45, 40, 35, 30, 25, 20, 15, 10], dtype=int32)>"
      ]
     },
     "execution_count": 71,
     "metadata": {},
     "output_type": "execute_result"
    }
   ],
   "source": [
    "tensor_range4 = tf.range(start = 55, limit=5, delta = -5)\n",
    "tensor_range4"
   ]
  },
  {
   "cell_type": "markdown",
   "id": "0cc176c8",
   "metadata": {},
   "source": [
    "***-------------------------------------------------------------------------------------------------------------------------------------------------------------------------***\n",
    "***Typecasting of a tensor***\n",
    "\n",
    "Builtin datatypes available in tensor\n",
    "\n",
    "1. tf.float16: 16-bit floating-point.\n",
    "2. tf.float32: 32-bit floating-point.\n",
    "3. tf.float64: 64-bit floating-point.\n",
    "4. tf.int8: 8-bit integer.\n",
    "5. tf.int16: 16-bit integer.\n",
    "6. tf.int32: 32-bit integer.\n",
    "7. tf.int64: 64-bit integer.\n",
    "8. tf.uint8: 8-bit unsigned integer.\n",
    "9. tf.uint16: 16-bit unsigned integer.\n",
    "10. tf.uint32: 32-bit unsigned integer.\n",
    "11. tf.uint64: 64-bit unsigned integer.\n",
    "12. tf.bool: Boolean.\n",
    "\n",
    "Converting a tensor from one datatype to another datatype is called typecasting of a tensor.\n",
    "\n",
    "It should be noted that tf.cast does not modify original tensor. So we should create a new tensor and then use tf.cast."
   ]
  },
  {
   "cell_type": "code",
   "execution_count": 73,
   "id": "189ffb53",
   "metadata": {},
   "outputs": [
    {
     "data": {
      "text/plain": [
       "<tf.Variable 'Variable:0' shape=(2, 3) dtype=int32, numpy=\n",
       "array([[1, 3, 4],\n",
       "       [2, 3, 4]], dtype=int32)>"
      ]
     },
     "execution_count": 73,
     "metadata": {},
     "output_type": "execute_result"
    }
   ],
   "source": [
    "tensor_tc = tf.Variable([[1,3,4],[2,3,4]])\n",
    "tensor_tc"
   ]
  },
  {
   "cell_type": "code",
   "execution_count": 75,
   "id": "ad30282f",
   "metadata": {},
   "outputs": [
    {
     "data": {
      "text/plain": [
       "<tf.Tensor: shape=(2, 3), dtype=float32, numpy=\n",
       "array([[1., 3., 4.],\n",
       "       [2., 3., 4.]], dtype=float32)>"
      ]
     },
     "execution_count": 75,
     "metadata": {},
     "output_type": "execute_result"
    }
   ],
   "source": [
    "tensor_tc1 = tf.cast(tensor_tc, dtype=tf.float32)\n",
    "tensor_tc1"
   ]
  },
  {
   "cell_type": "code",
   "execution_count": 76,
   "id": "833a90a8",
   "metadata": {},
   "outputs": [
    {
     "data": {
      "text/plain": [
       "<tf.Tensor: shape=(3, 4), dtype=float32, numpy=\n",
       "array([[12.812162, 11.569508, 11.165329, 10.764576],\n",
       "       [11.732148, 12.422721, 11.649345, 12.215365],\n",
       "       [13.280022, 12.633466, 12.250663, 12.538369]], dtype=float32)>"
      ]
     },
     "execution_count": 76,
     "metadata": {},
     "output_type": "execute_result"
    }
   ],
   "source": [
    "tensor_tc2 = tf.random.normal(shape=(3,4), mean = 12)\n",
    "tensor_tc2"
   ]
  },
  {
   "cell_type": "code",
   "execution_count": 77,
   "id": "8959c9ca",
   "metadata": {},
   "outputs": [
    {
     "data": {
      "text/plain": [
       "<tf.Tensor: shape=(3, 4), dtype=float16, numpy=\n",
       "array([[12.81 , 11.57 , 11.164, 10.766],\n",
       "       [11.734, 12.42 , 11.65 , 12.22 ],\n",
       "       [13.28 , 12.63 , 12.25 , 12.54 ]], dtype=float16)>"
      ]
     },
     "execution_count": 77,
     "metadata": {},
     "output_type": "execute_result"
    }
   ],
   "source": [
    "tensor_tc3 = tf.cast(tensor_tc2, dtype=tf.float16)\n",
    "tensor_tc3"
   ]
  },
  {
   "cell_type": "code",
   "execution_count": 79,
   "id": "f5b37631",
   "metadata": {},
   "outputs": [
    {
     "data": {
      "text/plain": [
       "<tf.Tensor: shape=(3,), dtype=string, numpy=array([b'a', b'b', b'c'], dtype=object)>"
      ]
     },
     "execution_count": 79,
     "metadata": {},
     "output_type": "execute_result"
    }
   ],
   "source": [
    "tf.constant(['a', 'b', 'c'])"
   ]
  },
  {
   "cell_type": "markdown",
   "id": "664b125a",
   "metadata": {},
   "source": [
    "***-------------------------------------------------------------------------------------------------------------------------------------------------------------------------***\n",
    "\n",
    "***Basic Maths Operations on Tensors***"
   ]
  },
  {
   "cell_type": "code",
   "execution_count": 80,
   "id": "75c0f86b",
   "metadata": {},
   "outputs": [],
   "source": [
    "x = tf.Variable([10., 20., 30.])\n",
    "y = tf.Variable([1., 2., 3.])"
   ]
  },
  {
   "cell_type": "markdown",
   "id": "95c8ef92",
   "metadata": {},
   "source": [
    "***1. ADDITION***"
   ]
  },
  {
   "cell_type": "code",
   "execution_count": 81,
   "id": "88c5e55f",
   "metadata": {},
   "outputs": [
    {
     "data": {
      "text/plain": [
       "<tf.Tensor: shape=(3,), dtype=float32, numpy=array([20., 30., 40.], dtype=float32)>"
      ]
     },
     "execution_count": 81,
     "metadata": {},
     "output_type": "execute_result"
    }
   ],
   "source": [
    "x+10"
   ]
  },
  {
   "cell_type": "code",
   "execution_count": 82,
   "id": "d8f68c0b",
   "metadata": {},
   "outputs": [
    {
     "data": {
      "text/plain": [
       "<tf.Tensor: shape=(3,), dtype=float32, numpy=array([11., 22., 33.], dtype=float32)>"
      ]
     },
     "execution_count": 82,
     "metadata": {},
     "output_type": "execute_result"
    }
   ],
   "source": [
    "x+y"
   ]
  },
  {
   "cell_type": "code",
   "execution_count": 84,
   "id": "1af86e75",
   "metadata": {},
   "outputs": [
    {
     "data": {
      "text/plain": [
       "<tf.Tensor: shape=(3,), dtype=float32, numpy=array([11., 22., 33.], dtype=float32)>"
      ]
     },
     "execution_count": 84,
     "metadata": {},
     "output_type": "execute_result"
    }
   ],
   "source": [
    "add = tf.add(x,y)\n",
    "add"
   ]
  },
  {
   "cell_type": "markdown",
   "id": "ea7da355",
   "metadata": {},
   "source": [
    "***2. SUBTRACTION***"
   ]
  },
  {
   "cell_type": "code",
   "execution_count": 85,
   "id": "8341458d",
   "metadata": {},
   "outputs": [
    {
     "data": {
      "text/plain": [
       "<tf.Tensor: shape=(3,), dtype=float32, numpy=array([ 5., 15., 25.], dtype=float32)>"
      ]
     },
     "execution_count": 85,
     "metadata": {},
     "output_type": "execute_result"
    }
   ],
   "source": [
    "x-5"
   ]
  },
  {
   "cell_type": "code",
   "execution_count": 86,
   "id": "538b1ab2",
   "metadata": {},
   "outputs": [
    {
     "data": {
      "text/plain": [
       "<tf.Tensor: shape=(3,), dtype=float32, numpy=array([ -9., -18., -27.], dtype=float32)>"
      ]
     },
     "execution_count": 86,
     "metadata": {},
     "output_type": "execute_result"
    }
   ],
   "source": [
    "y-x"
   ]
  },
  {
   "cell_type": "code",
   "execution_count": 88,
   "id": "24bce52e",
   "metadata": {},
   "outputs": [
    {
     "data": {
      "text/plain": [
       "<tf.Tensor: shape=(3,), dtype=float32, numpy=array([ 9., 18., 27.], dtype=float32)>"
      ]
     },
     "execution_count": 88,
     "metadata": {},
     "output_type": "execute_result"
    }
   ],
   "source": [
    "sub = tf.subtract(x,y)\n",
    "sub"
   ]
  },
  {
   "cell_type": "markdown",
   "id": "7203ef63",
   "metadata": {},
   "source": [
    "***3. MULTIPLICATION***"
   ]
  },
  {
   "cell_type": "code",
   "execution_count": 89,
   "id": "5f7204ec",
   "metadata": {},
   "outputs": [
    {
     "data": {
      "text/plain": [
       "<tf.Tensor: shape=(3,), dtype=float32, numpy=array([200., 400., 600.], dtype=float32)>"
      ]
     },
     "execution_count": 89,
     "metadata": {},
     "output_type": "execute_result"
    }
   ],
   "source": [
    "x*20"
   ]
  },
  {
   "cell_type": "code",
   "execution_count": 90,
   "id": "b31c5024",
   "metadata": {},
   "outputs": [
    {
     "data": {
      "text/plain": [
       "<tf.Tensor: shape=(3,), dtype=float32, numpy=array([10., 40., 90.], dtype=float32)>"
      ]
     },
     "execution_count": 90,
     "metadata": {},
     "output_type": "execute_result"
    }
   ],
   "source": [
    "x*y"
   ]
  },
  {
   "cell_type": "code",
   "execution_count": 91,
   "id": "f86d4c00",
   "metadata": {},
   "outputs": [
    {
     "data": {
      "text/plain": [
       "<tf.Tensor: shape=(3,), dtype=float32, numpy=array([10., 40., 90.], dtype=float32)>"
      ]
     },
     "execution_count": 91,
     "metadata": {},
     "output_type": "execute_result"
    }
   ],
   "source": [
    "mul =tf.multiply(x,y)\n",
    "mul"
   ]
  },
  {
   "cell_type": "markdown",
   "id": "026846f5",
   "metadata": {},
   "source": [
    "***4. DIVISION***"
   ]
  },
  {
   "cell_type": "code",
   "execution_count": 92,
   "id": "cb8d5275",
   "metadata": {},
   "outputs": [
    {
     "data": {
      "text/plain": [
       "<tf.Tensor: shape=(3,), dtype=float32, numpy=array([ 5., 10., 15.], dtype=float32)>"
      ]
     },
     "execution_count": 92,
     "metadata": {},
     "output_type": "execute_result"
    }
   ],
   "source": [
    "x/2"
   ]
  },
  {
   "cell_type": "code",
   "execution_count": 93,
   "id": "d976ce14",
   "metadata": {},
   "outputs": [
    {
     "data": {
      "text/plain": [
       "<tf.Tensor: shape=(3,), dtype=float32, numpy=array([10., 10., 10.], dtype=float32)>"
      ]
     },
     "execution_count": 93,
     "metadata": {},
     "output_type": "execute_result"
    }
   ],
   "source": [
    "x/y"
   ]
  },
  {
   "cell_type": "code",
   "execution_count": 94,
   "id": "e141b98d",
   "metadata": {},
   "outputs": [
    {
     "data": {
      "text/plain": [
       "<tf.Tensor: shape=(3,), dtype=float32, numpy=array([10., 10., 10.], dtype=float32)>"
      ]
     },
     "execution_count": 94,
     "metadata": {},
     "output_type": "execute_result"
    }
   ],
   "source": [
    "div = tf.divide(x,y)\n",
    "div"
   ]
  },
  {
   "cell_type": "code",
   "execution_count": 95,
   "id": "72e6f6a7",
   "metadata": {},
   "outputs": [
    {
     "data": {
      "text/plain": [
       "<tf.Tensor: shape=(3,), dtype=float32, numpy=array([0., 0., 0.], dtype=float32)>"
      ]
     },
     "execution_count": 95,
     "metadata": {},
     "output_type": "execute_result"
    }
   ],
   "source": [
    "x%2"
   ]
  },
  {
   "cell_type": "code",
   "execution_count": 96,
   "id": "8271e558",
   "metadata": {},
   "outputs": [
    {
     "data": {
      "text/plain": [
       "<tf.Tensor: shape=(3,), dtype=float32, numpy=array([0., 0., 0.], dtype=float32)>"
      ]
     },
     "execution_count": 96,
     "metadata": {},
     "output_type": "execute_result"
    }
   ],
   "source": [
    "x%y"
   ]
  },
  {
   "cell_type": "markdown",
   "id": "32c22ee8",
   "metadata": {},
   "source": [
    "***5. SQUARE***"
   ]
  },
  {
   "cell_type": "code",
   "execution_count": 99,
   "id": "d5a07446",
   "metadata": {},
   "outputs": [
    {
     "data": {
      "text/plain": [
       "<tf.Tensor: shape=(3,), dtype=float32, numpy=array([100., 400., 900.], dtype=float32)>"
      ]
     },
     "execution_count": 99,
     "metadata": {},
     "output_type": "execute_result"
    }
   ],
   "source": [
    "square = tf.square(x)\n",
    "square"
   ]
  },
  {
   "cell_type": "code",
   "execution_count": 100,
   "id": "ff870807",
   "metadata": {},
   "outputs": [
    {
     "data": {
      "text/plain": [
       "<tf.Tensor: shape=(3,), dtype=float32, numpy=array([100., 400., 900.], dtype=float32)>"
      ]
     },
     "execution_count": 100,
     "metadata": {},
     "output_type": "execute_result"
    }
   ],
   "source": [
    "x*x"
   ]
  },
  {
   "cell_type": "markdown",
   "id": "8ab2665d",
   "metadata": {},
   "source": [
    "***6. POWER***"
   ]
  },
  {
   "cell_type": "code",
   "execution_count": 101,
   "id": "2fe20f3a",
   "metadata": {},
   "outputs": [
    {
     "data": {
      "text/plain": [
       "<tf.Tensor: shape=(3,), dtype=float32, numpy=array([ 1000.,  8000., 27000.], dtype=float32)>"
      ]
     },
     "execution_count": 101,
     "metadata": {},
     "output_type": "execute_result"
    }
   ],
   "source": [
    "power = tf.pow(x,3)\n",
    "power"
   ]
  },
  {
   "cell_type": "code",
   "execution_count": 105,
   "id": "09be6be0",
   "metadata": {},
   "outputs": [
    {
     "data": {
      "text/plain": [
       "<tf.Tensor: shape=(3,), dtype=float32, numpy=array([ 1000.,  8000., 27000.], dtype=float32)>"
      ]
     },
     "execution_count": 105,
     "metadata": {},
     "output_type": "execute_result"
    }
   ],
   "source": [
    "x**3"
   ]
  },
  {
   "cell_type": "markdown",
   "id": "364b2367",
   "metadata": {},
   "source": [
    "***7. SQUARED DIFFERENCE***"
   ]
  },
  {
   "cell_type": "code",
   "execution_count": 103,
   "id": "ffcc36f5",
   "metadata": {},
   "outputs": [
    {
     "data": {
      "text/plain": [
       "<tf.Tensor: shape=(3,), dtype=float32, numpy=array([ 81., 324., 729.], dtype=float32)>"
      ]
     },
     "execution_count": 103,
     "metadata": {},
     "output_type": "execute_result"
    }
   ],
   "source": [
    "sq_di = tf.math.squared_difference(x,y)\n",
    "sq_di"
   ]
  },
  {
   "cell_type": "code",
   "execution_count": 104,
   "id": "83a8f2dc",
   "metadata": {},
   "outputs": [
    {
     "data": {
      "text/plain": [
       "<tf.Tensor: shape=(3,), dtype=float32, numpy=array([ 81., 324., 729.], dtype=float32)>"
      ]
     },
     "execution_count": 104,
     "metadata": {},
     "output_type": "execute_result"
    }
   ],
   "source": [
    "(x-y)**2"
   ]
  },
  {
   "cell_type": "code",
   "execution_count": 106,
   "id": "853567e5",
   "metadata": {},
   "outputs": [],
   "source": [
    "z = tf.constant([3,67,89,34,21,3,1,0,9,38])"
   ]
  },
  {
   "cell_type": "markdown",
   "id": "e2022f44",
   "metadata": {},
   "source": [
    "***8. CHECKING INDEX OF MIN AND MAX ELEMENT***"
   ]
  },
  {
   "cell_type": "code",
   "execution_count": 108,
   "id": "3315b766",
   "metadata": {},
   "outputs": [
    {
     "data": {
      "text/plain": [
       "<tf.Tensor: shape=(), dtype=int64, numpy=7>"
      ]
     },
     "execution_count": 108,
     "metadata": {},
     "output_type": "execute_result"
    }
   ],
   "source": [
    "min_el = tf.argmin(z)\n",
    "min_el"
   ]
  },
  {
   "cell_type": "code",
   "execution_count": 109,
   "id": "aa2a30ae",
   "metadata": {},
   "outputs": [
    {
     "data": {
      "text/plain": [
       "<tf.Tensor: shape=(), dtype=int64, numpy=2>"
      ]
     },
     "execution_count": 109,
     "metadata": {},
     "output_type": "execute_result"
    }
   ],
   "source": [
    "max_el = tf.argmax(z)\n",
    "max_el"
   ]
  },
  {
   "cell_type": "markdown",
   "id": "4685e085",
   "metadata": {},
   "source": [
    "***9. CHECKING MIN AND MAX ELEMENT***"
   ]
  },
  {
   "cell_type": "code",
   "execution_count": 112,
   "id": "7266b878",
   "metadata": {},
   "outputs": [
    {
     "data": {
      "text/plain": [
       "(0, 89)"
      ]
     },
     "execution_count": 112,
     "metadata": {},
     "output_type": "execute_result"
    }
   ],
   "source": [
    "z[min_el].numpy(), z[max_el].numpy()"
   ]
  },
  {
   "cell_type": "code",
   "execution_count": 113,
   "id": "da04006f",
   "metadata": {},
   "outputs": [
    {
     "data": {
      "text/plain": [
       "<tf.Tensor: shape=(), dtype=int32, numpy=0>"
      ]
     },
     "execution_count": 113,
     "metadata": {},
     "output_type": "execute_result"
    }
   ],
   "source": [
    "min = tf.reduce_min(z)\n",
    "min"
   ]
  },
  {
   "cell_type": "code",
   "execution_count": 114,
   "id": "b90800f2",
   "metadata": {},
   "outputs": [
    {
     "data": {
      "text/plain": [
       "<tf.Tensor: shape=(), dtype=int32, numpy=89>"
      ]
     },
     "execution_count": 114,
     "metadata": {},
     "output_type": "execute_result"
    }
   ],
   "source": [
    "max = tf.reduce_max(z)\n",
    "max"
   ]
  },
  {
   "cell_type": "markdown",
   "id": "e0fa8a0c",
   "metadata": {},
   "source": [
    "***10. FIND SUM OF ALL ELEMENTS OF A TENSOR***"
   ]
  },
  {
   "cell_type": "code",
   "execution_count": 117,
   "id": "56ae0862",
   "metadata": {},
   "outputs": [
    {
     "data": {
      "text/plain": [
       "<tf.Tensor: shape=(), dtype=int32, numpy=265>"
      ]
     },
     "execution_count": 117,
     "metadata": {},
     "output_type": "execute_result"
    }
   ],
   "source": [
    "addition = tf.reduce_sum(z)\n",
    "addition"
   ]
  },
  {
   "cell_type": "code",
   "execution_count": 124,
   "id": "8def3631",
   "metadata": {},
   "outputs": [
    {
     "data": {
      "text/plain": [
       "(array([11, 13,  1], dtype=int32), array([ 8, 17], dtype=int32))"
      ]
     },
     "execution_count": 124,
     "metadata": {},
     "output_type": "execute_result"
    }
   ],
   "source": [
    "z1 = tf.constant([[3,4,1],[8,9,0]])\n",
    "\n",
    "add_col = tf.reduce_sum(z1, axis =0)\n",
    "add_row = tf.reduce_sum(z1, axis=1)\n",
    "add_col.numpy(), add_row.numpy()"
   ]
  },
  {
   "cell_type": "markdown",
   "id": "c9b7542b",
   "metadata": {},
   "source": [
    "***11. MEAN OF A TENSOR***"
   ]
  },
  {
   "cell_type": "code",
   "execution_count": 127,
   "id": "552187ec",
   "metadata": {},
   "outputs": [
    {
     "data": {
      "text/plain": [
       "(<tf.Tensor: shape=(), dtype=int32, numpy=4>,\n",
       " array([5, 6, 0], dtype=int32),\n",
       " array([2, 5], dtype=int32))"
      ]
     },
     "execution_count": 127,
     "metadata": {},
     "output_type": "execute_result"
    }
   ],
   "source": [
    "mean = tf.reduce_mean(z1)\n",
    "mean_col = tf.reduce_mean(z1, axis = 0)\n",
    "mean_row = tf.reduce_mean(z1, axis = 1)\n",
    "mean, mean_col.numpy(), mean_row.numpy()"
   ]
  },
  {
   "cell_type": "markdown",
   "id": "a4df7f78",
   "metadata": {},
   "source": [
    "***12. VARIANCE OF TENSOR***\n",
    "\n",
    "Note: To calculate variance we need to import\n",
    "\n",
    "!pip install tensorflow-probability\n",
    "import tensorflow_probability as tfp"
   ]
  },
  {
   "cell_type": "code",
   "execution_count": 134,
   "id": "6e594158",
   "metadata": {},
   "outputs": [
    {
     "data": {
      "text/plain": [
       "<tf.Tensor: shape=(), dtype=int32, numpy=853>"
      ]
     },
     "execution_count": 134,
     "metadata": {},
     "output_type": "execute_result"
    }
   ],
   "source": [
    "variance = tfp.stats.variance(z)\n",
    "variance"
   ]
  },
  {
   "cell_type": "markdown",
   "id": "7f6cfa71",
   "metadata": {},
   "source": [
    "***13. DOT PRODUCT***"
   ]
  },
  {
   "cell_type": "code",
   "execution_count": 135,
   "id": "1a01a3f6",
   "metadata": {},
   "outputs": [
    {
     "data": {
      "text/plain": [
       "(<tf.Variable 'Variable:0' shape=(3,) dtype=float32, numpy=array([10., 20., 30.], dtype=float32)>,\n",
       " <tf.Variable 'Variable:0' shape=(3,) dtype=float32, numpy=array([1., 2., 3.], dtype=float32)>)"
      ]
     },
     "execution_count": 135,
     "metadata": {},
     "output_type": "execute_result"
    }
   ],
   "source": [
    "x,y"
   ]
  },
  {
   "cell_type": "code",
   "execution_count": 136,
   "id": "9e9d934c",
   "metadata": {},
   "outputs": [
    {
     "data": {
      "text/plain": [
       "<tf.Tensor: shape=(), dtype=float32, numpy=140.0>"
      ]
     },
     "execution_count": 136,
     "metadata": {},
     "output_type": "execute_result"
    }
   ],
   "source": [
    "dot_pro = tf.reduce_sum(tf.multiply(x,y))\n",
    "dot_pro"
   ]
  },
  {
   "cell_type": "code",
   "execution_count": 141,
   "id": "8feef361",
   "metadata": {},
   "outputs": [
    {
     "data": {
      "text/plain": [
       "<tf.Tensor: shape=(), dtype=float32, numpy=140.0>"
      ]
     },
     "execution_count": 141,
     "metadata": {},
     "output_type": "execute_result"
    }
   ],
   "source": [
    "dot_pro1 = tf.tensordot(x,y, axes =1)\n",
    "dot_pro1"
   ]
  },
  {
   "cell_type": "markdown",
   "id": "a89374a9",
   "metadata": {},
   "source": [
    "***14. SQUAREROOT OF A TENSOR***"
   ]
  },
  {
   "cell_type": "code",
   "execution_count": 146,
   "id": "25ed1776",
   "metadata": {},
   "outputs": [
    {
     "data": {
      "text/plain": [
       "array([ 25.,  81., 100.,   4.,   1.], dtype=float32)"
      ]
     },
     "execution_count": 146,
     "metadata": {},
     "output_type": "execute_result"
    }
   ],
   "source": [
    "z2 = tf.constant([25.,81.,100.,4.,1.])\n",
    "z2.numpy()"
   ]
  },
  {
   "cell_type": "code",
   "execution_count": 148,
   "id": "7d5fca88",
   "metadata": {},
   "outputs": [
    {
     "data": {
      "text/plain": [
       "<tf.Tensor: shape=(5,), dtype=float32, numpy=array([ 5.,  9., 10.,  2.,  1.], dtype=float32)>"
      ]
     },
     "execution_count": 148,
     "metadata": {},
     "output_type": "execute_result"
    }
   ],
   "source": [
    "sqrt = tf.sqrt(z2)\n",
    "sqrt"
   ]
  },
  {
   "cell_type": "markdown",
   "id": "5cb5cfb4",
   "metadata": {},
   "source": [
    "***-------------------------------------------------------------------------------------------------------------------------------------------------------------------------***\n",
    "\n",
    "***Basic Matrix Operations on Tensors***"
   ]
  },
  {
   "cell_type": "code",
   "execution_count": 149,
   "id": "f587036e",
   "metadata": {},
   "outputs": [],
   "source": [
    "mat1 = tf.constant([[2,4,5],[3,8,7],[0,9,7]])\n",
    "mat2 = tf.constant([[2,1],[6,4],[1,4]])\n",
    "mat3 = tf.constant([[2,4,5],[9,7,6]])"
   ]
  },
  {
   "cell_type": "markdown",
   "id": "240c16e6",
   "metadata": {},
   "source": [
    "***1. Matrix Multiplication***"
   ]
  },
  {
   "cell_type": "code",
   "execution_count": 156,
   "id": "1338516f",
   "metadata": {},
   "outputs": [
    {
     "data": {
      "text/plain": [
       "<tf.Tensor: shape=(3, 2), dtype=int32, numpy=\n",
       "array([[33, 38],\n",
       "       [61, 63],\n",
       "       [61, 64]], dtype=int32)>"
      ]
     },
     "execution_count": 156,
     "metadata": {},
     "output_type": "execute_result"
    }
   ],
   "source": [
    "matmul1 = tf.matmul(mat1, mat2)\n",
    "matmul1"
   ]
  },
  {
   "cell_type": "code",
   "execution_count": 157,
   "id": "69561520",
   "metadata": {},
   "outputs": [
    {
     "data": {
      "text/plain": [
       "<tf.Tensor: shape=(3, 3), dtype=int32, numpy=\n",
       "array([[13, 15, 16],\n",
       "       [48, 52, 54],\n",
       "       [38, 32, 29]], dtype=int32)>"
      ]
     },
     "execution_count": 157,
     "metadata": {},
     "output_type": "execute_result"
    }
   ],
   "source": [
    "matmul2 = tf.matmul(mat2, mat3)\n",
    "matmul2"
   ]
  },
  {
   "cell_type": "code",
   "execution_count": 158,
   "id": "4dd79a1d",
   "metadata": {},
   "outputs": [
    {
     "data": {
      "text/plain": [
       "<tf.Tensor: shape=(3, 2), dtype=int32, numpy=\n",
       "array([[33, 38],\n",
       "       [61, 63],\n",
       "       [61, 64]], dtype=int32)>"
      ]
     },
     "execution_count": 158,
     "metadata": {},
     "output_type": "execute_result"
    }
   ],
   "source": [
    "#shortcul way of matrix multiplication\n",
    "mat1 @ mat2"
   ]
  },
  {
   "cell_type": "code",
   "execution_count": 163,
   "id": "de03309b",
   "metadata": {},
   "outputs": [
    {
     "data": {
      "text/plain": [
       "<tf.Tensor: shape=(3, 2), dtype=int32, numpy=\n",
       "array([[ 59,  74],\n",
       "       [ 95, 126],\n",
       "       [ 94, 123]], dtype=int32)>"
      ]
     },
     "execution_count": 163,
     "metadata": {},
     "output_type": "execute_result"
    }
   ],
   "source": [
    "#When the shape doesn't match we have to reshape\n",
    "\n",
    "mat3_reshape = tf.reshape(mat3, shape=(3,2))\n",
    "matmul3 = tf.matmul(mat1, mat3_reshape)\n",
    "matmul3"
   ]
  },
  {
   "cell_type": "code",
   "execution_count": 160,
   "id": "4d78d31b",
   "metadata": {},
   "outputs": [
    {
     "data": {
      "text/plain": [
       "(TensorShape([3, 3]), TensorShape([3, 2]), TensorShape([2, 3]))"
      ]
     },
     "execution_count": 160,
     "metadata": {},
     "output_type": "execute_result"
    }
   ],
   "source": [
    "mat1.shape, mat2.shape, mat3.shape"
   ]
  },
  {
   "cell_type": "markdown",
   "id": "9dbf7ca5",
   "metadata": {},
   "source": [
    "***2. TRANSPOSE***\n",
    "\n",
    "Transpose converts rows to columns and columns to rows"
   ]
  },
  {
   "cell_type": "code",
   "execution_count": 164,
   "id": "bbd4a038",
   "metadata": {},
   "outputs": [
    {
     "data": {
      "text/plain": [
       "<tf.Tensor: shape=(3, 2), dtype=int32, numpy=\n",
       "array([[2, 9],\n",
       "       [4, 7],\n",
       "       [5, 6]], dtype=int32)>"
      ]
     },
     "execution_count": 164,
     "metadata": {},
     "output_type": "execute_result"
    }
   ],
   "source": [
    "mat3_transpose = tf.transpose(mat3)\n",
    "mat3_transpose"
   ]
  },
  {
   "cell_type": "markdown",
   "id": "10de625e",
   "metadata": {},
   "source": [
    "***3. Create 0s and 1s Matrix***"
   ]
  },
  {
   "cell_type": "code",
   "execution_count": 166,
   "id": "70413366",
   "metadata": {},
   "outputs": [
    {
     "data": {
      "text/plain": [
       "<tf.Tensor: shape=(4, 5), dtype=float32, numpy=\n",
       "array([[0., 0., 0., 0., 0.],\n",
       "       [0., 0., 0., 0., 0.],\n",
       "       [0., 0., 0., 0., 0.],\n",
       "       [0., 0., 0., 0., 0.]], dtype=float32)>"
      ]
     },
     "execution_count": 166,
     "metadata": {},
     "output_type": "execute_result"
    }
   ],
   "source": [
    "zeros1 = tf.zeros(shape=(4,5))\n",
    "zeros1"
   ]
  },
  {
   "cell_type": "code",
   "execution_count": 167,
   "id": "1a86281c",
   "metadata": {},
   "outputs": [
    {
     "data": {
      "text/plain": [
       "<tf.Tensor: shape=(2, 3), dtype=int32, numpy=\n",
       "array([[0, 0, 0],\n",
       "       [0, 0, 0]], dtype=int32)>"
      ]
     },
     "execution_count": 167,
     "metadata": {},
     "output_type": "execute_result"
    }
   ],
   "source": [
    "# creating a zeros matrix same shape as some other matrix\n",
    "\n",
    "zeros2 = tf.zeros_like(mat3)\n",
    "zeros2"
   ]
  },
  {
   "cell_type": "code",
   "execution_count": 168,
   "id": "33360f94",
   "metadata": {},
   "outputs": [
    {
     "data": {
      "text/plain": [
       "<tf.Tensor: shape=(4, 5), dtype=float32, numpy=\n",
       "array([[1., 1., 1., 1., 1.],\n",
       "       [1., 1., 1., 1., 1.],\n",
       "       [1., 1., 1., 1., 1.],\n",
       "       [1., 1., 1., 1., 1.]], dtype=float32)>"
      ]
     },
     "execution_count": 168,
     "metadata": {},
     "output_type": "execute_result"
    }
   ],
   "source": [
    "ones1 = tf.ones(shape=(4,5))\n",
    "ones1"
   ]
  },
  {
   "cell_type": "code",
   "execution_count": 169,
   "id": "5d993941",
   "metadata": {},
   "outputs": [
    {
     "data": {
      "text/plain": [
       "<tf.Tensor: shape=(2, 3), dtype=int32, numpy=\n",
       "array([[1, 1, 1],\n",
       "       [1, 1, 1]], dtype=int32)>"
      ]
     },
     "execution_count": 169,
     "metadata": {},
     "output_type": "execute_result"
    }
   ],
   "source": [
    "# creating a ones matrix same shape as some other matrix\n",
    "ones2 = tf.ones_like(mat3)\n",
    "ones2"
   ]
  },
  {
   "cell_type": "markdown",
   "id": "53f2118e",
   "metadata": {},
   "source": [
    "***4. Creating an identical (eye) matrix***"
   ]
  },
  {
   "cell_type": "code",
   "execution_count": 170,
   "id": "db709cd5",
   "metadata": {},
   "outputs": [
    {
     "data": {
      "text/plain": [
       "<tf.Tensor: shape=(5, 5), dtype=float32, numpy=\n",
       "array([[1., 0., 0., 0., 0.],\n",
       "       [0., 1., 0., 0., 0.],\n",
       "       [0., 0., 1., 0., 0.],\n",
       "       [0., 0., 0., 1., 0.],\n",
       "       [0., 0., 0., 0., 1.]], dtype=float32)>"
      ]
     },
     "execution_count": 170,
     "metadata": {},
     "output_type": "execute_result"
    }
   ],
   "source": [
    "eyes = tf.eye(5)\n",
    "eyes"
   ]
  },
  {
   "cell_type": "markdown",
   "id": "b21398a7",
   "metadata": {},
   "source": [
    "***5. Concatenate Matrix***"
   ]
  },
  {
   "cell_type": "code",
   "execution_count": 173,
   "id": "9ee2b0c1",
   "metadata": {},
   "outputs": [
    {
     "data": {
      "text/plain": [
       "(<tf.Tensor: shape=(4, 3), dtype=int32, numpy=\n",
       " array([[2, 4, 5],\n",
       "        [9, 7, 6],\n",
       "        [1, 1, 1],\n",
       "        [1, 1, 1]], dtype=int32)>,\n",
       " <tf.Tensor: shape=(2, 6), dtype=int32, numpy=\n",
       " array([[2, 4, 5, 1, 1, 1],\n",
       "        [9, 7, 6, 1, 1, 1]], dtype=int32)>)"
      ]
     },
     "execution_count": 173,
     "metadata": {},
     "output_type": "execute_result"
    }
   ],
   "source": [
    "concat_col = tf.concat([mat3, ones2], axis=0)\n",
    "concat_row = tf.concat([mat3, ones2], axis=1)\n",
    "concat_col, concat_row"
   ]
  },
  {
   "cell_type": "markdown",
   "id": "f05fdb81",
   "metadata": {},
   "source": [
    "***6. Stacking Matrix***\n",
    "\n",
    "Note: Conacat creates a 2D matrix whereas stack creates a 3D matrix"
   ]
  },
  {
   "cell_type": "code",
   "execution_count": 174,
   "id": "63be8f5a",
   "metadata": {},
   "outputs": [
    {
     "data": {
      "text/plain": [
       "(<tf.Tensor: shape=(2, 2, 3), dtype=int32, numpy=\n",
       " array([[[2, 4, 5],\n",
       "         [9, 7, 6]],\n",
       " \n",
       "        [[1, 1, 1],\n",
       "         [1, 1, 1]]], dtype=int32)>,\n",
       " <tf.Tensor: shape=(2, 2, 3), dtype=int32, numpy=\n",
       " array([[[2, 4, 5],\n",
       "         [1, 1, 1]],\n",
       " \n",
       "        [[9, 7, 6],\n",
       "         [1, 1, 1]]], dtype=int32)>)"
      ]
     },
     "execution_count": 174,
     "metadata": {},
     "output_type": "execute_result"
    }
   ],
   "source": [
    "stack_col = tf.stack([mat3, ones2], axis=0)\n",
    "stack_row = tf.stack([mat3, ones2], axis=1)\n",
    "stack_col, stack_row"
   ]
  },
  {
   "cell_type": "markdown",
   "id": "18c84517",
   "metadata": {},
   "source": [
    "***-------------------------------------------------------------------------------------------------------------------------------------------------------------------------***\n",
    "\n",
    "***KERAS***\n",
    "\n",
    "1. Keras is a high level, deep learning API.\n",
    "2. Keras do not support low level operations such as tensor manipulation and differentiation.\n",
    "3. For these operations Keras relies on tensorflow.\n",
    "\n",
    "Keras has been integratyed in-built in ***Tensorflow 2.0*** .\n",
    "So we do not have to import keras differently.\n",
    "\n",
    "***Key Features of Keras***\n",
    "\n",
    "***User-Friendly API***: Keras offers a simple, consistent, and intuitive API that makes it easy to quickly prototype and build deep learning models. It's designed to be user-friendly, allowing both beginners and experts to use it effectively.\n",
    "\n",
    "***Modularity:*** Keras allows for the construction of complex neural network architectures using a modular approach. Neural network layers can be easily added, removed, or connected to create custom models.\n",
    "\n",
    "***Extensibility:*** Keras is built to be easily extensible. Users can create their own custom layers, loss functions, and metrics. Additionally, Keras models can be seamlessly integrated with lower-level TensorFlow operations.\n",
    "\n",
    "***Compatibility:*** Keras can run on top of various backends, with TensorFlow being the default backend. This allows users to take advantage of the features and optimizations provided by different deep learning libraries.\n",
    "\n",
    "***Multiple Input/Output Support:*** Keras supports models with multiple inputs and outputs, making it suitable for a wide range of tasks, including complex architectures like siamese networks and multi-input/multi-output models.\n",
    "\n",
    "***Built-in Neural Network Layers:*** Keras provides a variety of built-in layers commonly used in neural networks, such as dense (fully connected), convolutional, recurrent, normalization, and activation layers.\n",
    "\n",
    "***Pre-trained Models:*** Keras includes pre-trained models for popular architectures like VGG16, VGG19, ResNet, and more. These pre-trained models can be used for transfer learning and fine-tuning on new tasks.\n",
    "\n",
    "***Model Visualization:*** Keras provides utilities for visualizing the architecture of neural networks using tools like plot_model, which can generate graphical representations of models.\n",
    "\n",
    "***Callbacks:*** Callbacks in Keras allow users to perform actions at different stages of training, such as saving model checkpoints, adjusting learning rates, and early stopping based on performance.\n",
    "\n",
    "***Ease of Debugging:*** Keras offers clear and informative error messages, making it easier to troubleshoot and debug issues during model development.\n",
    "\n",
    "***-------------------------------------------------------------------------------------------------------------------------------------------------------------------------***"
   ]
  },
  {
   "cell_type": "markdown",
   "id": "e1b326a0",
   "metadata": {},
   "source": [
    "***WORKFLOW OF KERAS***\n",
    "\n",
    "***1.Import Dependencies:***\n",
    "Import the necessary libraries, including Keras and any other libraries you may need for data manipulation, preprocessing, and visualization.\n",
    "\n",
    "***2. Load and Preprocess Data:***\n",
    "Load your dataset and preprocess it to prepare it for training. This may involve tasks such as data normalization, resizing, and splitting into training and testing sets.\n",
    "\n",
    "***3. Build the Model:***\n",
    "Define the architecture of your neural network using Keras' high-level API. You can stack layers using the Sequential model or create more complex architectures using the functional API.\n",
    "\n",
    "***4. Compile the Model:***\n",
    "Configure the learning process by specifying the optimizer, loss function, and metrics. This step prepares the model for training.\n",
    "\n",
    "***5. Train the Model:***\n",
    "Train the model on your training data using the fit method. Specify the number of epochs and batch size.\n",
    "python\n",
    "\n",
    "***6. Evaluate the Model:***\n",
    "Evaluate the model's performance on the test set to assess its generalization ability.\n",
    "\n",
    "***7. Make Predictions:***\n",
    "Use the trained model to make predictions on new, unseen data.\n",
    "\n",
    "***8. Save and Load Model (Optional):***\n",
    "Save your trained model to disk for future use, or load pre-trained models for transfer learning.\n",
    "\n",
    "***-------------------------------------------------------------------------------------------------------------------------------------------------------------------------***"
   ]
  },
  {
   "cell_type": "markdown",
   "id": "5000a8b5",
   "metadata": {},
   "source": [
    "***1. SEQUENTIAL API***\n",
    "\n",
    "The Sequential API is the simplest and most commonly used API in Keras. It allows you to create models layer by layer in a linear fashion, where each layer is added sequentially.\n",
    "Use Case: This API is suitable for simple models with a single input and output path, such as feedforward neural networks."
   ]
  },
  {
   "cell_type": "code",
   "execution_count": 176,
   "id": "d01dcd2d",
   "metadata": {},
   "outputs": [],
   "source": [
    "#Creating a neural network using sequential API "
   ]
  },
  {
   "cell_type": "code",
   "execution_count": 188,
   "id": "fb3683d3",
   "metadata": {},
   "outputs": [],
   "source": [
    "#importing sequential libraries\n",
    "\n",
    "from tensorflow.keras.models import Sequential\n",
    "from tensorflow.keras.layers import Dense, Activation, Input"
   ]
  },
  {
   "cell_type": "code",
   "execution_count": 178,
   "id": "cbeb94ec",
   "metadata": {},
   "outputs": [],
   "source": [
    "# keras.layers.Dense(units, activation=None, use_bias=True, kernel_initializer=\"glorot_uniform\")"
   ]
  },
  {
   "cell_type": "code",
   "execution_count": 189,
   "id": "b60a63db",
   "metadata": {},
   "outputs": [
    {
     "name": "stdout",
     "output_type": "stream",
     "text": [
      "Model: \"sequential_3\"\n",
      "_________________________________________________________________\n",
      " Layer (type)                Output Shape              Param #   \n",
      "=================================================================\n",
      " hidden_Layer1 (Dense)       (None, 512)               26112     \n",
      "                                                                 \n",
      " hidden_Layer2 (Dense)       (None, 128)               65664     \n",
      "                                                                 \n",
      " output_Layer (Dense)        (None, 10)                1290      \n",
      "                                                                 \n",
      "=================================================================\n",
      "Total params: 93066 (363.54 KB)\n",
      "Trainable params: 93066 (363.54 KB)\n",
      "Non-trainable params: 0 (0.00 Byte)\n",
      "_________________________________________________________________\n"
     ]
    }
   ],
   "source": [
    "# Define input and output dimensions\n",
    "input_dim = 50  # Adjust this to the actual dimension of your input features\n",
    "output_dim = 10\n",
    "\n",
    "# Generate random training data\n",
    "X_train = np.random.rand(100, input_dim)\n",
    "y_train = np.random.randint(0, output_dim, size=(100,))\n",
    "\n",
    "# Define Sequential Model\n",
    "model = Sequential()\n",
    "\n",
    "# Add input layer\n",
    "model.add(Input(shape=(input_dim,), name=\"input_Layer\"))\n",
    "\n",
    "# Add first Dense Layer to sequential API\n",
    "model.add(Dense(512, activation=\"sigmoid\", name=\"hidden_Layer1\"))\n",
    "\n",
    "# Add second Dense Layer to sequential API\n",
    "model.add(Dense(128, activation=\"sigmoid\", name=\"hidden_Layer2\"))\n",
    "\n",
    "# Add output Layer to sequential API\n",
    "model.add(Dense(output_dim, activation=\"softmax\", name=\"output_Layer\"))\n",
    "\n",
    "# Display the model summary\n",
    "model.summary()"
   ]
  },
  {
   "cell_type": "markdown",
   "id": "c6222a23",
   "metadata": {},
   "source": [
    "***2. Functional API***\n",
    "\n",
    "The Functional API provides more flexibility than the Sequential API and allows you to create complex models with multiple inputs and outputs, shared layers, and non-linear connectivity.\n",
    "\n",
    "Using Functional Api we can create multi-input, multi-output models, layer sharing and model sharing and so on.\n",
    "\n",
    "Use Case: This API is suitable for more intricate models, including multi-input and multi-output architectures, as well as models with shared layers."
   ]
  },
  {
   "cell_type": "code",
   "execution_count": 190,
   "id": "2436a147",
   "metadata": {},
   "outputs": [
    {
     "name": "stdout",
     "output_type": "stream",
     "text": [
      "Model: \"model\"\n",
      "_________________________________________________________________\n",
      " Layer (type)                Output Shape              Param #   \n",
      "=================================================================\n",
      " input_Layer (InputLayer)    [(None, 50)]              0         \n",
      "                                                                 \n",
      " Hidden_Layer1 (Dense)       (None, 512)               26112     \n",
      "                                                                 \n",
      " Hidden_Layer2 (Dense)       (None, 512)               262656    \n",
      "                                                                 \n",
      " Output_Layer (Dense)        (None, 10)                5130      \n",
      "                                                                 \n",
      "=================================================================\n",
      "Total params: 293898 (1.12 MB)\n",
      "Trainable params: 293898 (1.12 MB)\n",
      "Non-trainable params: 0 (0.00 Byte)\n",
      "_________________________________________________________________\n"
     ]
    }
   ],
   "source": [
    "import numpy as np\n",
    "import tensorflow as tf\n",
    "from tensorflow.keras.layers import Input, Dense\n",
    "from tensorflow.keras.models import Model\n",
    "\n",
    "# Define input and output dimensions\n",
    "input_dim = 50  # Adjust this to the actual dimension of your input features\n",
    "output_dim = 10\n",
    "\n",
    "# Generate random training data\n",
    "X_train = np.random.rand(100, input_dim)\n",
    "y_train = np.random.randint(0, output_dim, size=(100,))\n",
    "\n",
    "# Add input layer\n",
    "input_layer = Input(shape=(input_dim,), name=\"input_Layer\")\n",
    "\n",
    "# Create Dense Layers\n",
    "hidden_layer1 = Dense(512, activation=\"sigmoid\", name=\"Hidden_Layer1\")(input_layer)\n",
    "hidden_layer2 = Dense(512, activation=\"sigmoid\", name=\"Hidden_Layer2\")(hidden_layer1)\n",
    "output_layer = Dense(output_dim, activation=\"softmax\", name=\"Output_Layer\")(hidden_layer2)\n",
    "\n",
    "# Define Functional Model\n",
    "model = Model(inputs=input_layer, outputs=output_layer)\n",
    "\n",
    "# Display the model summary\n",
    "model.summary()"
   ]
  },
  {
   "cell_type": "markdown",
   "id": "eb52e444",
   "metadata": {},
   "source": [
    "***For displaying plot model***\n",
    "\n",
    "!pip install pydot\n",
    "\n",
    "from tensorflow.keras.utils import plot_model\n",
    "\n",
    "plot_model(model)"
   ]
  },
  {
   "cell_type": "markdown",
   "id": "d2741089",
   "metadata": {},
   "source": [
    "***Compiling a Model***"
   ]
  },
  {
   "cell_type": "code",
   "execution_count": 196,
   "id": "1b076b15",
   "metadata": {},
   "outputs": [],
   "source": [
    "# Compiling a model\n",
    "\n",
    "model.compile(loss=\"sparse_categorical_crossentropy\", optimizer = \"adam\", metrics =[\"accuracy\"])"
   ]
  },
  {
   "cell_type": "markdown",
   "id": "0da843e7",
   "metadata": {},
   "source": [
    "***Training a Model***"
   ]
  },
  {
   "cell_type": "code",
   "execution_count": 200,
   "id": "0824a878",
   "metadata": {},
   "outputs": [
    {
     "name": "stdout",
     "output_type": "stream",
     "text": [
      "Epoch 1/5\n",
      "1/1 [==============================] - 0s 70ms/step - loss: 2.1153 - accuracy: 0.3000 - val_loss: 2.4261 - val_accuracy: 0.0500\n",
      "Epoch 2/5\n",
      "1/1 [==============================] - 0s 29ms/step - loss: 2.1086 - accuracy: 0.4000 - val_loss: 2.4297 - val_accuracy: 0.0500\n",
      "Epoch 3/5\n",
      "1/1 [==============================] - 0s 28ms/step - loss: 2.1014 - accuracy: 0.4000 - val_loss: 2.4309 - val_accuracy: 0.0500\n",
      "Epoch 4/5\n",
      "1/1 [==============================] - 0s 29ms/step - loss: 2.0930 - accuracy: 0.3875 - val_loss: 2.4292 - val_accuracy: 0.0500\n",
      "Epoch 5/5\n",
      "1/1 [==============================] - 0s 29ms/step - loss: 2.0840 - accuracy: 0.3750 - val_loss: 2.4250 - val_accuracy: 0.0500\n"
     ]
    }
   ],
   "source": [
    "batch_sizeize = 128\n",
    "epochs_num = 5\n",
    "\n",
    "# Fit a neural network or train a neural network\n",
    "history = model.fit(X_train, y_train, validation_split = 0.2, epochs = epochs_num, \n",
    "                    batch_size = batch_size, verbose =1)\n",
    "\n",
    "# validation_split divides train and test set in 80% and 20% data set\n",
    "# epochs denotes no. of times model should run\n",
    "# batch_size indicates set of data in each batch\n",
    "# verbose indicates if we eant to see result after each epoch"
   ]
  },
  {
   "cell_type": "markdown",
   "id": "d5694fc0",
   "metadata": {},
   "source": [
    "***Evaluating a Trained Network***"
   ]
  },
  {
   "cell_type": "code",
   "execution_count": 204,
   "id": "4d129880",
   "metadata": {},
   "outputs": [
    {
     "name": "stdout",
     "output_type": "stream",
     "text": [
      "4/4 [==============================] - 0s 3ms/step - loss: 2.1449 - accuracy: 0.2900\n",
      "Test Score 2.144930839538574\n",
      "Test Score 0.28999999165534973\n"
     ]
    }
   ],
   "source": [
    "score = model.evaluate(x = X_train, y = y_train)\n",
    "print(\"Test Score\", score[0])\n",
    "print(\"Test Score\", score[1])"
   ]
  },
  {
   "cell_type": "markdown",
   "id": "d098cbab",
   "metadata": {},
   "source": [
    "***Predictions using trianed neural network***"
   ]
  },
  {
   "cell_type": "code",
   "execution_count": 206,
   "id": "c43b1b54",
   "metadata": {},
   "outputs": [],
   "source": [
    "#y_pred = model.predict(X_test)"
   ]
  },
  {
   "cell_type": "code",
   "execution_count": null,
   "id": "29b5ed0e",
   "metadata": {},
   "outputs": [],
   "source": []
  }
 ],
 "metadata": {
  "kernelspec": {
   "display_name": "Python 3 (ipykernel)",
   "language": "python",
   "name": "python3"
  },
  "language_info": {
   "codemirror_mode": {
    "name": "ipython",
    "version": 3
   },
   "file_extension": ".py",
   "mimetype": "text/x-python",
   "name": "python",
   "nbconvert_exporter": "python",
   "pygments_lexer": "ipython3",
   "version": "3.11.5"
  }
 },
 "nbformat": 4,
 "nbformat_minor": 5
}
