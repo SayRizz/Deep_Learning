{
 "cells": [
  {
   "cell_type": "markdown",
   "id": "71dc5b59",
   "metadata": {},
   "source": [
    "***We will be building a multiclass classification neural network to identify hand wriiten digits bwtween 0 to 1. For this we will be using a dataset called 'MNIST'.***\n",
    "\n",
    "***There will be 10 classes: Digits from 0 to 9.***"
   ]
  },
  {
   "cell_type": "markdown",
   "id": "730e6fb3",
   "metadata": {},
   "source": [
    "MNIST is a large dataset with 70000 digits. Out of which 60000 are training set example and 10000 are test set example."
   ]
  },
  {
   "cell_type": "code",
   "execution_count": 35,
   "id": "c79b8b49",
   "metadata": {},
   "outputs": [],
   "source": [
    "# To ignore all the warnings\n",
    "\n",
    "import warnings\n",
    "warnings.filterwarnings(\"ignore\")"
   ]
  },
  {
   "cell_type": "code",
   "execution_count": 36,
   "id": "de62b0c3",
   "metadata": {},
   "outputs": [],
   "source": [
    "# Import all the libraries\n",
    "\n",
    "import numpy as np\n",
    "import pandas as pd\n",
    "\n",
    "import tensorflow as tf\n",
    "import keras\n",
    "\n",
    "import matplotlib.pyplot as plt"
   ]
  },
  {
   "cell_type": "code",
   "execution_count": 37,
   "id": "5afcddc9",
   "metadata": {},
   "outputs": [
    {
     "name": "stdout",
     "output_type": "stream",
     "text": [
      "TensorFlow version is: 2.15.0\n",
      "Keras version is: 2.15.0\n"
     ]
    }
   ],
   "source": [
    "# check tf and keras version\n",
    "\n",
    "print(\"TensorFlow version is:\", tf.__version__)\n",
    "print(\"Keras version is:\", keras.__version__)"
   ]
  },
  {
   "cell_type": "code",
   "execution_count": 38,
   "id": "a52bd0c4",
   "metadata": {},
   "outputs": [],
   "source": [
    "# loading the dataset\n",
    "# As keras has MNIST dataset inbuilt we dont have to import data from external csv file\n",
    "\n",
    "(X_train, y_train), (X_test, y_test) = tf.keras.datasets.mnist.load_data()"
   ]
  },
  {
   "cell_type": "code",
   "execution_count": 39,
   "id": "5113f09e",
   "metadata": {},
   "outputs": [
    {
     "data": {
      "text/plain": [
       "((60000, 28, 28), (60000,), (10000, 28, 28), (10000,))"
      ]
     },
     "execution_count": 39,
     "metadata": {},
     "output_type": "execute_result"
    }
   ],
   "source": [
    "X_train.shape, y_train.shape, X_test.shape, y_test.shape"
   ]
  },
  {
   "cell_type": "code",
   "execution_count": 40,
   "id": "9467f294",
   "metadata": {},
   "outputs": [
    {
     "data": {
      "text/plain": [
       "array([[  0,   0,   0,   0,   0,   0,   0,   0,   0,   0,   0,   0,   0,\n",
       "          0,   0,   0,   0,   0,   0,   0,   0,   0,   0,   0,   0,   0,\n",
       "          0,   0],\n",
       "       [  0,   0,   0,   0,   0,   0,   0,   0,   0,   0,   0,   0,   0,\n",
       "          0,   0,   0,   0,   0,   0,   0,   0,   0,   0,   0,   0,   0,\n",
       "          0,   0],\n",
       "       [  0,   0,   0,   0,   0,   0,   0,   0,   0,   0,   0,   0,   0,\n",
       "          0,   0,   0,   0,   0,   0,   0,   0,   0,   0,   0,   0,   0,\n",
       "          0,   0],\n",
       "       [  0,   0,   0,   0,   0,   0,   0,   0,   0,   0,   0,   0,   0,\n",
       "          0,   0,   0,   0,   0,   0,   0,   0,   0,   0,   0,   0,   0,\n",
       "          0,   0],\n",
       "       [  0,   0,   0,   0,   0,   0,   0,   0,   0,   0,   0,   0,   0,\n",
       "          0,   0,  51, 159, 253, 159,  50,   0,   0,   0,   0,   0,   0,\n",
       "          0,   0],\n",
       "       [  0,   0,   0,   0,   0,   0,   0,   0,   0,   0,   0,   0,   0,\n",
       "          0,  48, 238, 252, 252, 252, 237,   0,   0,   0,   0,   0,   0,\n",
       "          0,   0],\n",
       "       [  0,   0,   0,   0,   0,   0,   0,   0,   0,   0,   0,   0,   0,\n",
       "         54, 227, 253, 252, 239, 233, 252,  57,   6,   0,   0,   0,   0,\n",
       "          0,   0],\n",
       "       [  0,   0,   0,   0,   0,   0,   0,   0,   0,   0,   0,  10,  60,\n",
       "        224, 252, 253, 252, 202,  84, 252, 253, 122,   0,   0,   0,   0,\n",
       "          0,   0],\n",
       "       [  0,   0,   0,   0,   0,   0,   0,   0,   0,   0,   0, 163, 252,\n",
       "        252, 252, 253, 252, 252,  96, 189, 253, 167,   0,   0,   0,   0,\n",
       "          0,   0],\n",
       "       [  0,   0,   0,   0,   0,   0,   0,   0,   0,   0,  51, 238, 253,\n",
       "        253, 190, 114, 253, 228,  47,  79, 255, 168,   0,   0,   0,   0,\n",
       "          0,   0],\n",
       "       [  0,   0,   0,   0,   0,   0,   0,   0,   0,  48, 238, 252, 252,\n",
       "        179,  12,  75, 121,  21,   0,   0, 253, 243,  50,   0,   0,   0,\n",
       "          0,   0],\n",
       "       [  0,   0,   0,   0,   0,   0,   0,   0,  38, 165, 253, 233, 208,\n",
       "         84,   0,   0,   0,   0,   0,   0, 253, 252, 165,   0,   0,   0,\n",
       "          0,   0],\n",
       "       [  0,   0,   0,   0,   0,   0,   0,   7, 178, 252, 240,  71,  19,\n",
       "         28,   0,   0,   0,   0,   0,   0, 253, 252, 195,   0,   0,   0,\n",
       "          0,   0],\n",
       "       [  0,   0,   0,   0,   0,   0,   0,  57, 252, 252,  63,   0,   0,\n",
       "          0,   0,   0,   0,   0,   0,   0, 253, 252, 195,   0,   0,   0,\n",
       "          0,   0],\n",
       "       [  0,   0,   0,   0,   0,   0,   0, 198, 253, 190,   0,   0,   0,\n",
       "          0,   0,   0,   0,   0,   0,   0, 255, 253, 196,   0,   0,   0,\n",
       "          0,   0],\n",
       "       [  0,   0,   0,   0,   0,   0,  76, 246, 252, 112,   0,   0,   0,\n",
       "          0,   0,   0,   0,   0,   0,   0, 253, 252, 148,   0,   0,   0,\n",
       "          0,   0],\n",
       "       [  0,   0,   0,   0,   0,   0,  85, 252, 230,  25,   0,   0,   0,\n",
       "          0,   0,   0,   0,   0,   7, 135, 253, 186,  12,   0,   0,   0,\n",
       "          0,   0],\n",
       "       [  0,   0,   0,   0,   0,   0,  85, 252, 223,   0,   0,   0,   0,\n",
       "          0,   0,   0,   0,   7, 131, 252, 225,  71,   0,   0,   0,   0,\n",
       "          0,   0],\n",
       "       [  0,   0,   0,   0,   0,   0,  85, 252, 145,   0,   0,   0,   0,\n",
       "          0,   0,   0,  48, 165, 252, 173,   0,   0,   0,   0,   0,   0,\n",
       "          0,   0],\n",
       "       [  0,   0,   0,   0,   0,   0,  86, 253, 225,   0,   0,   0,   0,\n",
       "          0,   0, 114, 238, 253, 162,   0,   0,   0,   0,   0,   0,   0,\n",
       "          0,   0],\n",
       "       [  0,   0,   0,   0,   0,   0,  85, 252, 249, 146,  48,  29,  85,\n",
       "        178, 225, 253, 223, 167,  56,   0,   0,   0,   0,   0,   0,   0,\n",
       "          0,   0],\n",
       "       [  0,   0,   0,   0,   0,   0,  85, 252, 252, 252, 229, 215, 252,\n",
       "        252, 252, 196, 130,   0,   0,   0,   0,   0,   0,   0,   0,   0,\n",
       "          0,   0],\n",
       "       [  0,   0,   0,   0,   0,   0,  28, 199, 252, 252, 253, 252, 252,\n",
       "        233, 145,   0,   0,   0,   0,   0,   0,   0,   0,   0,   0,   0,\n",
       "          0,   0],\n",
       "       [  0,   0,   0,   0,   0,   0,   0,  25, 128, 252, 253, 252, 141,\n",
       "         37,   0,   0,   0,   0,   0,   0,   0,   0,   0,   0,   0,   0,\n",
       "          0,   0],\n",
       "       [  0,   0,   0,   0,   0,   0,   0,   0,   0,   0,   0,   0,   0,\n",
       "          0,   0,   0,   0,   0,   0,   0,   0,   0,   0,   0,   0,   0,\n",
       "          0,   0],\n",
       "       [  0,   0,   0,   0,   0,   0,   0,   0,   0,   0,   0,   0,   0,\n",
       "          0,   0,   0,   0,   0,   0,   0,   0,   0,   0,   0,   0,   0,\n",
       "          0,   0],\n",
       "       [  0,   0,   0,   0,   0,   0,   0,   0,   0,   0,   0,   0,   0,\n",
       "          0,   0,   0,   0,   0,   0,   0,   0,   0,   0,   0,   0,   0,\n",
       "          0,   0],\n",
       "       [  0,   0,   0,   0,   0,   0,   0,   0,   0,   0,   0,   0,   0,\n",
       "          0,   0,   0,   0,   0,   0,   0,   0,   0,   0,   0,   0,   0,\n",
       "          0,   0]], dtype=uint8)"
      ]
     },
     "execution_count": 40,
     "metadata": {},
     "output_type": "execute_result"
    }
   ],
   "source": [
    "# Let's see how a single image looks like\n",
    "\n",
    "X_train[1]"
   ]
  },
  {
   "cell_type": "code",
   "execution_count": 41,
   "id": "eceb67c3",
   "metadata": {},
   "outputs": [
    {
     "data": {
      "text/plain": [
       "<matplotlib.image.AxesImage at 0x134ec7c50>"
      ]
     },
     "execution_count": 41,
     "metadata": {},
     "output_type": "execute_result"
    },
    {
     "data": {
      "image/png": "[encoded data removed]",
      "text/plain": [
       "<Figure size 640x480 with 1 Axes>"
      ]
     },
     "metadata": {},
     "output_type": "display_data"
    }
   ],
   "source": [
    "plt.imshow(X_train[1])\n",
    "# imshow denotes imagehsow"
   ]
  },
  {
   "cell_type": "code",
   "execution_count": 42,
   "id": "fd254b00",
   "metadata": {},
   "outputs": [
    {
     "data": {
      "text/plain": [
       "0"
      ]
     },
     "execution_count": 42,
     "metadata": {},
     "output_type": "execute_result"
    }
   ],
   "source": [
    "y_train[1]"
   ]
  },
  {
   "cell_type": "code",
   "execution_count": 43,
   "id": "c04e29a5",
   "metadata": {},
   "outputs": [
    {
     "data": {
      "image/png": "[encoded data removed]",
      "text/plain": [
       "<Figure size 1200x500 with 10 Axes>"
      ]
     },
     "metadata": {},
     "output_type": "display_data"
    }
   ],
   "source": [
    "# code to view all the images\n",
    "\n",
    "num_rows, num_cols = 2,5\n",
    "f, ax = plt.subplots(num_rows, num_cols, figsize =(12,5), \n",
    "                     gridspec_kw = {\"wspace\": 0.03, \"hspace\": 0.01}, squeeze = True )\n",
    "\n",
    "for r in range(num_rows):\n",
    "    for c in range(num_cols):\n",
    "        image_index = r * 5 +c\n",
    "        ax[r,c].axis(\"off\")\n",
    "        ax[r,c].imshow(X_train[image_index], cmap=\"gray\")\n",
    "        ax[r,c].set_title(\"No, %d\" % y_train[image_index])\n",
    "        \n",
    "plt.show()\n",
    "plt.close()\n",
    "        "
   ]
  },
  {
   "cell_type": "raw",
   "id": "79cfeedf",
   "metadata": {},
   "source": [
    "Here the dataset has a 3d data. where the first value i.e. 60000 is no. of records and next values of 28 and 28 represents data. the image is 2d vector of 28 * 28\n",
    "\n",
    "But in Ml we mostly use 2d data. so we will first have to flatten the data and convert 3D into 2D."
   ]
  },
  {
   "cell_type": "code",
   "execution_count": 44,
   "id": "7eb617ff",
   "metadata": {},
   "outputs": [
    {
     "name": "stdout",
     "output_type": "stream",
     "text": [
      "Before reshaping:\n",
      "X_train shape: (60000, 28, 28)\n",
      "X_test shape: (10000, 28, 28)\n",
      "After reshaping:\n",
      "X_train shape: (60000, 784)\n",
      "X_test shape: (10000, 784)\n"
     ]
    }
   ],
   "source": [
    "# Check the shape before reshaping\n",
    "print(\"Before reshaping:\")\n",
    "print(\"X_train shape:\", X_train.shape)\n",
    "print(\"X_test shape:\", X_test.shape)\n",
    "\n",
    "# Reshape the training data\n",
    "X_train = X_train.reshape(X_train.shape[0], -1)\n",
    "\n",
    "# Reshape the testing data\n",
    "X_test = X_test.reshape(X_test.shape[0], -1)\n",
    "\n",
    "# Check the shape after reshaping\n",
    "print(\"After reshaping:\")\n",
    "print(\"X_train shape:\", X_train.shape)\n",
    "print(\"X_test shape:\", X_test.shape)"
   ]
  },
  {
   "cell_type": "markdown",
   "id": "07e4879b",
   "metadata": {},
   "source": [
    "***NORMALIZE THE DATA***"
   ]
  },
  {
   "cell_type": "markdown",
   "id": "2abad423",
   "metadata": {},
   "source": [
    "The pixel value ranges from 0 to 255\n",
    "\n",
    "We will normalize the value using min-max scaler\n",
    "\n",
    "Formula is: x = (X-X_min)/(X_max-X_min) = X/255"
   ]
  },
  {
   "cell_type": "code",
   "execution_count": 45,
   "id": "7d04d476",
   "metadata": {},
   "outputs": [],
   "source": [
    "# Normalizing the data within range of 0 to 1 using min-max scaler\n",
    "\n",
    "X_train = X_train/255\n",
    "X_test = X_test/255"
   ]
  },
  {
   "cell_type": "code",
   "execution_count": 46,
   "id": "7e06a944",
   "metadata": {},
   "outputs": [
    {
     "data": {
      "text/plain": [
       "array([0.        , 0.        , 0.        , 0.        , 0.        ,\n",
       "       0.        , 0.        , 0.        , 0.        , 0.        ,\n",
       "       0.        , 0.        , 0.        , 0.        , 0.        ,\n",
       "       0.        , 0.        , 0.        , 0.        , 0.        ,\n",
       "       0.        , 0.        , 0.        , 0.        , 0.        ,\n",
       "       0.        , 0.        , 0.        , 0.        , 0.        ,\n",
       "       0.        , 0.        , 0.        , 0.        , 0.        ,\n",
       "       0.        , 0.        , 0.        , 0.        , 0.        ,\n",
       "       0.        , 0.        , 0.        , 0.        , 0.        ,\n",
       "       0.        , 0.        , 0.        , 0.        , 0.        ,\n",
       "       0.        , 0.        , 0.        , 0.        , 0.        ,\n",
       "       0.        , 0.        , 0.        , 0.        , 0.        ,\n",
       "       0.        , 0.        , 0.        , 0.        , 0.        ,\n",
       "       0.        , 0.        , 0.        , 0.        , 0.        ,\n",
       "       0.        , 0.        , 0.        , 0.        , 0.        ,\n",
       "       0.        , 0.        , 0.        , 0.        , 0.        ,\n",
       "       0.        , 0.        , 0.        , 0.        , 0.        ,\n",
       "       0.        , 0.        , 0.        , 0.        , 0.        ,\n",
       "       0.        , 0.        , 0.        , 0.        , 0.        ,\n",
       "       0.        , 0.        , 0.        , 0.        , 0.        ,\n",
       "       0.        , 0.        , 0.        , 0.        , 0.        ,\n",
       "       0.        , 0.        , 0.        , 0.        , 0.        ,\n",
       "       0.        , 0.        , 0.        , 0.        , 0.        ,\n",
       "       0.        , 0.        , 0.        , 0.        , 0.        ,\n",
       "       0.        , 0.        , 0.        , 0.        , 0.        ,\n",
       "       0.        , 0.        , 0.        , 0.        , 0.        ,\n",
       "       0.        , 0.        , 0.        , 0.        , 0.        ,\n",
       "       0.        , 0.        , 0.        , 0.        , 0.        ,\n",
       "       0.        , 0.        , 0.        , 0.        , 0.        ,\n",
       "       0.        , 0.        , 0.        , 0.        , 0.        ,\n",
       "       0.        , 0.        , 0.01176471, 0.07058824, 0.07058824,\n",
       "       0.07058824, 0.49411765, 0.53333333, 0.68627451, 0.10196078,\n",
       "       0.65098039, 1.        , 0.96862745, 0.49803922, 0.        ,\n",
       "       0.        , 0.        , 0.        , 0.        , 0.        ,\n",
       "       0.        , 0.        , 0.        , 0.        , 0.        ,\n",
       "       0.        , 0.11764706, 0.14117647, 0.36862745, 0.60392157,\n",
       "       0.66666667, 0.99215686, 0.99215686, 0.99215686, 0.99215686,\n",
       "       0.99215686, 0.88235294, 0.6745098 , 0.99215686, 0.94901961,\n",
       "       0.76470588, 0.25098039, 0.        , 0.        , 0.        ,\n",
       "       0.        , 0.        , 0.        , 0.        , 0.        ,\n",
       "       0.        , 0.        , 0.        , 0.19215686, 0.93333333,\n",
       "       0.99215686, 0.99215686, 0.99215686, 0.99215686, 0.99215686,\n",
       "       0.99215686, 0.99215686, 0.99215686, 0.98431373, 0.36470588,\n",
       "       0.32156863, 0.32156863, 0.21960784, 0.15294118, 0.        ,\n",
       "       0.        , 0.        , 0.        , 0.        , 0.        ,\n",
       "       0.        , 0.        , 0.        , 0.        , 0.        ,\n",
       "       0.        , 0.07058824, 0.85882353, 0.99215686, 0.99215686,\n",
       "       0.99215686, 0.99215686, 0.99215686, 0.77647059, 0.71372549,\n",
       "       0.96862745, 0.94509804, 0.        , 0.        , 0.        ,\n",
       "       0.        , 0.        , 0.        , 0.        , 0.        ,\n",
       "       0.        , 0.        , 0.        , 0.        , 0.        ,\n",
       "       0.        , 0.        , 0.        , 0.        , 0.        ,\n",
       "       0.31372549, 0.61176471, 0.41960784, 0.99215686, 0.99215686,\n",
       "       0.80392157, 0.04313725, 0.        , 0.16862745, 0.60392157,\n",
       "       0.        , 0.        , 0.        , 0.        , 0.        ,\n",
       "       0.        , 0.        , 0.        , 0.        , 0.        ,\n",
       "       0.        , 0.        , 0.        , 0.        , 0.        ,\n",
       "       0.        , 0.        , 0.        , 0.        , 0.05490196,\n",
       "       0.00392157, 0.60392157, 0.99215686, 0.35294118, 0.        ,\n",
       "       0.        , 0.        , 0.        , 0.        , 0.        ,\n",
       "       0.        , 0.        , 0.        , 0.        , 0.        ,\n",
       "       0.        , 0.        , 0.        , 0.        , 0.        ,\n",
       "       0.        , 0.        , 0.        , 0.        , 0.        ,\n",
       "       0.        , 0.        , 0.        , 0.        , 0.54509804,\n",
       "       0.99215686, 0.74509804, 0.00784314, 0.        , 0.        ,\n",
       "       0.        , 0.        , 0.        , 0.        , 0.        ,\n",
       "       0.        , 0.        , 0.        , 0.        , 0.        ,\n",
       "       0.        , 0.        , 0.        , 0.        , 0.        ,\n",
       "       0.        , 0.        , 0.        , 0.        , 0.        ,\n",
       "       0.        , 0.        , 0.04313725, 0.74509804, 0.99215686,\n",
       "       0.2745098 , 0.        , 0.        , 0.        , 0.        ,\n",
       "       0.        , 0.        , 0.        , 0.        , 0.        ,\n",
       "       0.        , 0.        , 0.        , 0.        , 0.        ,\n",
       "       0.        , 0.        , 0.        , 0.        , 0.        ,\n",
       "       0.        , 0.        , 0.        , 0.        , 0.        ,\n",
       "       0.        , 0.1372549 , 0.94509804, 0.88235294, 0.62745098,\n",
       "       0.42352941, 0.00392157, 0.        , 0.        , 0.        ,\n",
       "       0.        , 0.        , 0.        , 0.        , 0.        ,\n",
       "       0.        , 0.        , 0.        , 0.        , 0.        ,\n",
       "       0.        , 0.        , 0.        , 0.        , 0.        ,\n",
       "       0.        , 0.        , 0.        , 0.        , 0.        ,\n",
       "       0.31764706, 0.94117647, 0.99215686, 0.99215686, 0.46666667,\n",
       "       0.09803922, 0.        , 0.        , 0.        , 0.        ,\n",
       "       0.        , 0.        , 0.        , 0.        , 0.        ,\n",
       "       0.        , 0.        , 0.        , 0.        , 0.        ,\n",
       "       0.        , 0.        , 0.        , 0.        , 0.        ,\n",
       "       0.        , 0.        , 0.        , 0.        , 0.17647059,\n",
       "       0.72941176, 0.99215686, 0.99215686, 0.58823529, 0.10588235,\n",
       "       0.        , 0.        , 0.        , 0.        , 0.        ,\n",
       "       0.        , 0.        , 0.        , 0.        , 0.        ,\n",
       "       0.        , 0.        , 0.        , 0.        , 0.        ,\n",
       "       0.        , 0.        , 0.        , 0.        , 0.        ,\n",
       "       0.        , 0.        , 0.        , 0.0627451 , 0.36470588,\n",
       "       0.98823529, 0.99215686, 0.73333333, 0.        , 0.        ,\n",
       "       0.        , 0.        , 0.        , 0.        , 0.        ,\n",
       "       0.        , 0.        , 0.        , 0.        , 0.        ,\n",
       "       0.        , 0.        , 0.        , 0.        , 0.        ,\n",
       "       0.        , 0.        , 0.        , 0.        , 0.        ,\n",
       "       0.        , 0.        , 0.        , 0.97647059, 0.99215686,\n",
       "       0.97647059, 0.25098039, 0.        , 0.        , 0.        ,\n",
       "       0.        , 0.        , 0.        , 0.        , 0.        ,\n",
       "       0.        , 0.        , 0.        , 0.        , 0.        ,\n",
       "       0.        , 0.        , 0.        , 0.        , 0.        ,\n",
       "       0.        , 0.        , 0.        , 0.18039216, 0.50980392,\n",
       "       0.71764706, 0.99215686, 0.99215686, 0.81176471, 0.00784314,\n",
       "       0.        , 0.        , 0.        , 0.        , 0.        ,\n",
       "       0.        , 0.        , 0.        , 0.        , 0.        ,\n",
       "       0.        , 0.        , 0.        , 0.        , 0.        ,\n",
       "       0.        , 0.        , 0.        , 0.        , 0.15294118,\n",
       "       0.58039216, 0.89803922, 0.99215686, 0.99215686, 0.99215686,\n",
       "       0.98039216, 0.71372549, 0.        , 0.        , 0.        ,\n",
       "       0.        , 0.        , 0.        , 0.        , 0.        ,\n",
       "       0.        , 0.        , 0.        , 0.        , 0.        ,\n",
       "       0.        , 0.        , 0.        , 0.        , 0.        ,\n",
       "       0.09411765, 0.44705882, 0.86666667, 0.99215686, 0.99215686,\n",
       "       0.99215686, 0.99215686, 0.78823529, 0.30588235, 0.        ,\n",
       "       0.        , 0.        , 0.        , 0.        , 0.        ,\n",
       "       0.        , 0.        , 0.        , 0.        , 0.        ,\n",
       "       0.        , 0.        , 0.        , 0.        , 0.        ,\n",
       "       0.        , 0.09019608, 0.25882353, 0.83529412, 0.99215686,\n",
       "       0.99215686, 0.99215686, 0.99215686, 0.77647059, 0.31764706,\n",
       "       0.00784314, 0.        , 0.        , 0.        , 0.        ,\n",
       "       0.        , 0.        , 0.        , 0.        , 0.        ,\n",
       "       0.        , 0.        , 0.        , 0.        , 0.        ,\n",
       "       0.        , 0.        , 0.07058824, 0.67058824, 0.85882353,\n",
       "       0.99215686, 0.99215686, 0.99215686, 0.99215686, 0.76470588,\n",
       "       0.31372549, 0.03529412, 0.        , 0.        , 0.        ,\n",
       "       0.        , 0.        , 0.        , 0.        , 0.        ,\n",
       "       0.        , 0.        , 0.        , 0.        , 0.        ,\n",
       "       0.        , 0.        , 0.        , 0.21568627, 0.6745098 ,\n",
       "       0.88627451, 0.99215686, 0.99215686, 0.99215686, 0.99215686,\n",
       "       0.95686275, 0.52156863, 0.04313725, 0.        , 0.        ,\n",
       "       0.        , 0.        , 0.        , 0.        , 0.        ,\n",
       "       0.        , 0.        , 0.        , 0.        , 0.        ,\n",
       "       0.        , 0.        , 0.        , 0.        , 0.        ,\n",
       "       0.        , 0.53333333, 0.99215686, 0.99215686, 0.99215686,\n",
       "       0.83137255, 0.52941176, 0.51764706, 0.0627451 , 0.        ,\n",
       "       0.        , 0.        , 0.        , 0.        , 0.        ,\n",
       "       0.        , 0.        , 0.        , 0.        , 0.        ,\n",
       "       0.        , 0.        , 0.        , 0.        , 0.        ,\n",
       "       0.        , 0.        , 0.        , 0.        , 0.        ,\n",
       "       0.        , 0.        , 0.        , 0.        , 0.        ,\n",
       "       0.        , 0.        , 0.        , 0.        , 0.        ,\n",
       "       0.        , 0.        , 0.        , 0.        , 0.        ,\n",
       "       0.        , 0.        , 0.        , 0.        , 0.        ,\n",
       "       0.        , 0.        , 0.        , 0.        , 0.        ,\n",
       "       0.        , 0.        , 0.        , 0.        , 0.        ,\n",
       "       0.        , 0.        , 0.        , 0.        , 0.        ,\n",
       "       0.        , 0.        , 0.        , 0.        , 0.        ,\n",
       "       0.        , 0.        , 0.        , 0.        , 0.        ,\n",
       "       0.        , 0.        , 0.        , 0.        , 0.        ,\n",
       "       0.        , 0.        , 0.        , 0.        , 0.        ,\n",
       "       0.        , 0.        , 0.        , 0.        , 0.        ,\n",
       "       0.        , 0.        , 0.        , 0.        , 0.        ,\n",
       "       0.        , 0.        , 0.        , 0.        , 0.        ,\n",
       "       0.        , 0.        , 0.        , 0.        , 0.        ,\n",
       "       0.        , 0.        , 0.        , 0.        ])"
      ]
     },
     "execution_count": 46,
     "metadata": {},
     "output_type": "execute_result"
    }
   ],
   "source": [
    "X_train[0]"
   ]
  },
  {
   "cell_type": "code",
   "execution_count": 48,
   "id": "bacf9957",
   "metadata": {},
   "outputs": [
    {
     "data": {
      "text/plain": [
       "array([0, 1, 2, 3, 4, 5, 6, 7, 8, 9], dtype=uint8)"
      ]
     },
     "execution_count": 48,
     "metadata": {},
     "output_type": "execute_result"
    }
   ],
   "source": [
    "# class labesl\n",
    "np.unique(y_train)"
   ]
  },
  {
   "cell_type": "markdown",
   "id": "736a84a4",
   "metadata": {},
   "source": [
    "***Building a multiclass classification neural network*** \n",
    "\n",
    "1. Defining a neural network.\n",
    "2. Compiling a neural network.\n",
    "3. Training a neural network.\n",
    "4. Evaluating a neural network.\n",
    "5. Predicting a neural network."
   ]
  },
  {
   "cell_type": "markdown",
   "id": "d8a303f5",
   "metadata": {},
   "source": [
    "***Our Model Architecture***\n",
    "\n",
    "The architecture is build considering 2 important aspects\n",
    "\n",
    "1. No. of layers that needs to be created.\n",
    "2. No of neurons in each layer\n",
    "\n",
    "For our layer we will be considering the following aspects:\n",
    "\n",
    "1. input = no. of features in input layer = 784\n",
    "2. No. of neurons in first dense layer = 512\n",
    "3. No. of neurons in second dense layer = 128\n",
    "4. No. of neurons in output layer = 10"
   ]
  },
  {
   "cell_type": "markdown",
   "id": "54836fda",
   "metadata": {},
   "source": [
    "***SOFTMAX ACTIVATION***\n",
    "\n",
    "Here at the output layer we have 10 classes ranging from 0 to 9. We will be using softmax activation at every output neuron.\n",
    "\n",
    "Softmax activation is a popular activation function used in the output layer of a neural network for multi-class classification problems. It is particularly useful when the task involves assigning an input data point to one of three or more classes.\n",
    "\n",
    "The softmax function takes a vector of real numbers as input and transforms them into a probability distribution. It squashes the values in the input vector to be between 0 and 1 and normalizes them such that the sum of the probabilities is equal to 1. Softmax is typically used in the output layer of a neural network when the goal is to classify data into multiple classes. It converts raw output scores into probabilities.\n",
    "The class having the maximum probability is then selected as the genuine class.\n"
   ]
  },
  {
   "cell_type": "code",
   "execution_count": 49,
   "id": "7e105c3e",
   "metadata": {},
   "outputs": [],
   "source": [
    "# importing required libraries\n",
    "from tensorflow.keras.models import Sequential\n",
    "from tensorflow.keras.layers import Dense, Activation\n",
    "\n",
    "# Defining the model\n",
    "model = Sequential()\n",
    "\n",
    "# Adding input layers\n",
    "input_dims = X_train.shape[1]\n",
    "output_dims = 10\n",
    "model.add(tf.keras.Input(shape =(input_dims), name = \"input_layer\"))\n",
    "\n",
    "# Adding hidden layers\n",
    "model.add(Dense(512, activation = \"sigmoid\", name = \"hidden_layer1\"))\n",
    "model.add(Dense(128, activation = \"sigmoid\", name = \"hidden_layer2\"))\n",
    "\n",
    "# Adding output layer\n",
    "model.add(Dense(10, activation = \"softmax\", name = \"output_layer\"))"
   ]
  },
  {
   "cell_type": "code",
   "execution_count": 50,
   "id": "e6c404bb",
   "metadata": {},
   "outputs": [
    {
     "name": "stdout",
     "output_type": "stream",
     "text": [
      "Model: \"sequential\"\n",
      "_________________________________________________________________\n",
      " Layer (type)                Output Shape              Param #   \n",
      "=================================================================\n",
      " hidden_layer1 (Dense)       (None, 512)               401920    \n",
      "                                                                 \n",
      " hidden_layer2 (Dense)       (None, 128)               65664     \n",
      "                                                                 \n",
      " output_layer (Dense)        (None, 10)                1290      \n",
      "                                                                 \n",
      "=================================================================\n",
      "Total params: 468874 (1.79 MB)\n",
      "Trainable params: 468874 (1.79 MB)\n",
      "Non-trainable params: 0 (0.00 Byte)\n",
      "_________________________________________________________________\n"
     ]
    }
   ],
   "source": [
    "model.summary()"
   ]
  },
  {
   "cell_type": "code",
   "execution_count": 51,
   "id": "1a239910",
   "metadata": {},
   "outputs": [
    {
     "data": {
      "image/png": "[encoded data removed]",
      "text/plain": [
       "<IPython.core.display.Image object>"
      ]
     },
     "execution_count": 51,
     "metadata": {},
     "output_type": "execute_result"
    }
   ],
   "source": [
    "# Plotting the Model\n",
    "from tensorflow.keras.utils import plot_model\n",
    "plot_model(model)"
   ]
  },
  {
   "cell_type": "markdown",
   "id": "ecd93cd4",
   "metadata": {},
   "source": [
    "***One Hot Encoding***\n",
    "\n",
    "For multi-class classification tasks, the labels should be one-hot encoded, meaning each sample should have a binary array where only one element is 1 (indicating the class) and the rest are 0s. It seems like your labels (y_train and y_test) are not in the correct format.\n",
    "\n",
    "You can use one-hot encoding to transform your labels into the appropriate format using tools like to_categorical from Keras or OneHotEncoder from scikit-learn."
   ]
  },
  {
   "cell_type": "code",
   "execution_count": null,
   "id": "f3a48955",
   "metadata": {},
   "outputs": [],
   "source": [
    "from keras.utils import to_categorical\n",
    "\n",
    "# Assuming y_train and y_test are your original labels\n",
    "\n",
    "# One-hot encode the training labels\n",
    "y_train_encoded = to_categorical(y_train, num_classes=10)\n",
    "\n",
    "# One-hot encode the test labels\n",
    "y_test_encoded = to_categorical(y_test, num_classes=1"
   ]
  },
  {
   "cell_type": "markdown",
   "id": "0f62df02",
   "metadata": {},
   "source": [
    "***Compile the Neural Network***"
   ]
  },
  {
   "cell_type": "code",
   "execution_count": 66,
   "id": "3c336d33",
   "metadata": {},
   "outputs": [],
   "source": [
    "#import optimizer\n",
    "from tensorflow.keras.optimizers import RMSprop\n",
    "\n",
    "# define the optimizer\n",
    "optimizer = RMSprop(0.001) #setting the learning rate at 0.001\n",
    "\n",
    "#compile the model\n",
    "model.compile(loss = \"binary_crossentropy\", optimizer = optimizer, metrics = [\"accuracy\"])"
   ]
  },
  {
   "cell_type": "markdown",
   "id": "991db047",
   "metadata": {},
   "source": [
    "***Binary_Crossentopy***\n",
    "\n",
    "Binary Crossentropy, often referred to as log loss or logistic loss, is a loss function commonly used in binary classification problems. It measures the difference between the true labels and the predicted probabilities for a binary classification task. Binary Crossentropy is a commonly used loss function for binary classification tasks, measuring the discrepancy between predicted probabilities and true labels. \n",
    "\n",
    "***accuracy metrics***\n",
    "\n",
    "Accuracy is a commonly used metric for evaluating classification models. It measures the overall correctness of predictions by comparing the number of correct predictions to the total number of predictions."
   ]
  },
  {
   "cell_type": "markdown",
   "id": "df9fbd98",
   "metadata": {},
   "source": [
    "***Training the Neural Network***"
   ]
  },
  {
   "cell_type": "code",
   "execution_count": 67,
   "id": "ac8c1d04",
   "metadata": {},
   "outputs": [
    {
     "name": "stdout",
     "output_type": "stream",
     "text": [
      "Epoch 1/20\n",
      "375/375 [==============================] - 3s 7ms/step - loss: 0.2221 - accuracy: 0.6207 - val_loss: 0.1245 - val_accuracy: 0.8374\n",
      "Epoch 2/20\n",
      "375/375 [==============================] - 2s 6ms/step - loss: 0.0993 - accuracy: 0.8678 - val_loss: 0.0774 - val_accuracy: 0.8926\n",
      "Epoch 3/20\n",
      "375/375 [==============================] - 2s 6ms/step - loss: 0.0728 - accuracy: 0.8942 - val_loss: 0.0625 - val_accuracy: 0.9060\n",
      "Epoch 4/20\n",
      "375/375 [==============================] - 2s 6ms/step - loss: 0.0621 - accuracy: 0.9047 - val_loss: 0.0553 - val_accuracy: 0.9141\n",
      "Epoch 5/20\n",
      "375/375 [==============================] - 3s 8ms/step - loss: 0.0558 - accuracy: 0.9133 - val_loss: 0.0506 - val_accuracy: 0.9224\n",
      "Epoch 6/20\n",
      "375/375 [==============================] - 3s 7ms/step - loss: 0.0514 - accuracy: 0.9185 - val_loss: 0.0466 - val_accuracy: 0.9270\n",
      "Epoch 7/20\n",
      "375/375 [==============================] - 3s 7ms/step - loss: 0.0479 - accuracy: 0.9247 - val_loss: 0.0447 - val_accuracy: 0.9306\n",
      "Epoch 8/20\n",
      "375/375 [==============================] - 3s 7ms/step - loss: 0.0450 - accuracy: 0.9288 - val_loss: 0.0421 - val_accuracy: 0.9348\n",
      "Epoch 9/20\n",
      "375/375 [==============================] - 3s 9ms/step - loss: 0.0425 - accuracy: 0.9330 - val_loss: 0.0401 - val_accuracy: 0.9360\n",
      "Epoch 10/20\n",
      "375/375 [==============================] - 3s 8ms/step - loss: 0.0402 - accuracy: 0.9365 - val_loss: 0.0385 - val_accuracy: 0.9393\n",
      "Epoch 11/20\n",
      "375/375 [==============================] - 4s 9ms/step - loss: 0.0382 - accuracy: 0.9393 - val_loss: 0.0363 - val_accuracy: 0.9449\n",
      "Epoch 12/20\n",
      "375/375 [==============================] - 4s 10ms/step - loss: 0.0364 - accuracy: 0.9432 - val_loss: 0.0347 - val_accuracy: 0.9467\n",
      "Epoch 13/20\n",
      "375/375 [==============================] - 3s 9ms/step - loss: 0.0345 - accuracy: 0.9458 - val_loss: 0.0341 - val_accuracy: 0.9475\n",
      "Epoch 14/20\n",
      "375/375 [==============================] - 4s 11ms/step - loss: 0.0330 - accuracy: 0.9479 - val_loss: 0.0329 - val_accuracy: 0.9497\n",
      "Epoch 15/20\n",
      "375/375 [==============================] - 4s 10ms/step - loss: 0.0314 - accuracy: 0.9508 - val_loss: 0.0316 - val_accuracy: 0.9518\n",
      "Epoch 16/20\n",
      "375/375 [==============================] - 4s 10ms/step - loss: 0.0301 - accuracy: 0.9537 - val_loss: 0.0301 - val_accuracy: 0.9548\n",
      "Epoch 17/20\n",
      "375/375 [==============================] - 4s 11ms/step - loss: 0.0288 - accuracy: 0.9551 - val_loss: 0.0296 - val_accuracy: 0.9558\n",
      "Epoch 18/20\n",
      "375/375 [==============================] - 4s 12ms/step - loss: 0.0275 - accuracy: 0.9575 - val_loss: 0.0282 - val_accuracy: 0.9583\n",
      "Epoch 19/20\n",
      "375/375 [==============================] - 4s 11ms/step - loss: 0.0263 - accuracy: 0.9592 - val_loss: 0.0270 - val_accuracy: 0.9605\n",
      "Epoch 20/20\n",
      "375/375 [==============================] - 4s 10ms/step - loss: 0.0253 - accuracy: 0.9614 - val_loss: 0.0266 - val_accuracy: 0.9605\n"
     ]
    }
   ],
   "source": [
    "batch_size = 128\n",
    "num_epochs = 20\n",
    "\n",
    "multiclass_classifier = model.fit(X_train, y_train_encoded, validation_split=0.2, epochs=num_epochs,\n",
    "                                  batch_size = batch_size, verbose =1)\n",
    "\n",
    "# batch_size should be in 2^n form, where n= 1,2,3...."
   ]
  },
  {
   "cell_type": "markdown",
   "id": "443fbe87",
   "metadata": {},
   "source": [
    "***Evaluating Trianed Neural Network***"
   ]
  },
  {
   "cell_type": "code",
   "execution_count": 69,
   "id": "2e9b689d",
   "metadata": {},
   "outputs": [],
   "source": [
    "# Evaluating neural network using test dataset\n",
    "\n",
    "score = model.evaluate(x = X_test, y=y_test_encoded, verbose=0)"
   ]
  },
  {
   "cell_type": "code",
   "execution_count": 70,
   "id": "dd4d79c8",
   "metadata": {},
   "outputs": [
    {
     "name": "stdout",
     "output_type": "stream",
     "text": [
      "Test Score 0.026655279099941254\n",
      "Test Accuracy 0.9589999914169312\n"
     ]
    }
   ],
   "source": [
    "print(\"Test Score\", score[0])\n",
    "print(\"Test Accuracy\", score[1])"
   ]
  },
  {
   "cell_type": "code",
   "execution_count": 71,
   "id": "9d243c76",
   "metadata": {},
   "outputs": [
    {
     "data": {
      "image/png": "[encoded data removed]",
      "text/plain": [
       "<Figure size 640x480 with 1 Axes>"
      ]
     },
     "metadata": {},
     "output_type": "display_data"
    }
   ],
   "source": [
    "# plotting Training and validation accuracy\n",
    "\n",
    "plt.plot(multiclass_classifier.history[\"accuracy\"])\n",
    "plt.plot(multiclass_classifier.history[\"val_accuracy\"])\n",
    "plt.title(\"Training and validation accuracy\")\n",
    "plt.xlabel(\"epochs\")\n",
    "plt.ylabel(\"Loss\")\n",
    "plt.legend(\"Train\", \"Validation\")\n",
    "plt.grid()\n",
    "plt.show()"
   ]
  },
  {
   "cell_type": "code",
   "execution_count": 72,
   "id": "27039057",
   "metadata": {},
   "outputs": [
    {
     "data": {
      "image/png": "[encoded data removed]",
      "text/plain": [
       "<Figure size 640x480 with 1 Axes>"
      ]
     },
     "metadata": {},
     "output_type": "display_data"
    }
   ],
   "source": [
    "# plotting Training and validation loss\n",
    "\n",
    "plt.plot(multiclass_classifier.history[\"loss\"])\n",
    "plt.plot(multiclass_classifier.history[\"val_loss\"])\n",
    "plt.title(\"Training and validation accuracy\")\n",
    "plt.xlabel(\"epochs\")\n",
    "plt.ylabel(\"Loss\")\n",
    "plt.legend(\"Train\", \"Validation\")\n",
    "plt.grid()\n",
    "plt.show()"
   ]
  },
  {
   "cell_type": "markdown",
   "id": "f30d3d95",
   "metadata": {},
   "source": [
    "***Predictions using trained datasets***"
   ]
  },
  {
   "cell_type": "code",
   "execution_count": 75,
   "id": "576bc45c",
   "metadata": {},
   "outputs": [
    {
     "data": {
      "text/plain": [
       "array([7, 2, 1, 0, 4, 1, 4, 9, 5, 9], dtype=uint8)"
      ]
     },
     "execution_count": 75,
     "metadata": {},
     "output_type": "execute_result"
    }
   ],
   "source": [
    "y_test[0:10]"
   ]
  },
  {
   "cell_type": "code",
   "execution_count": 76,
   "id": "e1fc9966",
   "metadata": {},
   "outputs": [
    {
     "name": "stdout",
     "output_type": "stream",
     "text": [
      "313/313 [==============================] - 1s 2ms/step\n"
     ]
    },
    {
     "data": {
      "text/plain": [
       "array([[3.12642811e-07, 1.73420887e-08, 9.81839730e-06, 8.44926126e-06,\n",
       "        2.78793544e-09, 1.46424043e-07, 2.42251202e-11, 9.99980152e-01,\n",
       "        1.46597081e-08, 1.03666309e-06],\n",
       "       [1.12379392e-04, 1.49690575e-04, 9.99520242e-01, 8.08942132e-05,\n",
       "        1.92543492e-08, 1.73644185e-05, 1.17831121e-04, 1.02863149e-08,\n",
       "        1.60544164e-06, 4.94198182e-10],\n",
       "       [7.45420614e-10, 9.99958217e-01, 4.12859981e-06, 2.73646037e-06,\n",
       "        4.97723306e-07, 6.12275790e-06, 4.43296221e-06, 1.89438924e-05,\n",
       "        4.56132648e-06, 3.59462092e-07],\n",
       "       [9.99992430e-01, 7.27446270e-10, 3.40698284e-06, 3.37010931e-07,\n",
       "        5.66825653e-09, 2.43505696e-07, 2.77706363e-07, 1.78176276e-06,\n",
       "        1.45615164e-08, 1.42191413e-06],\n",
       "       [1.54109262e-06, 1.93486516e-09, 2.08596030e-05, 1.43353835e-08,\n",
       "        9.99765873e-01, 2.82631322e-06, 5.72441195e-06, 4.64143923e-05,\n",
       "        2.03934110e-06, 1.54809983e-04],\n",
       "       [3.56200541e-10, 9.99864817e-01, 4.04971246e-07, 3.33858611e-06,\n",
       "        5.98693703e-07, 3.17215722e-07, 6.22084428e-08, 1.26502069e-04,\n",
       "        2.41170960e-06, 1.64788037e-06],\n",
       "       [9.45872216e-08, 1.07017129e-07, 2.35834662e-07, 6.04540446e-07,\n",
       "        9.99512613e-01, 3.11110343e-05, 1.32909761e-07, 1.89077080e-04,\n",
       "        2.31785831e-04, 3.42190724e-05],\n",
       "       [2.47254633e-10, 3.91745317e-07, 6.19374987e-08, 5.19314199e-06,\n",
       "        2.66040774e-06, 1.70448615e-07, 4.68515804e-09, 1.13827809e-06,\n",
       "        5.90179013e-07, 9.99989688e-01],\n",
       "       [1.40507275e-03, 1.06447887e-05, 1.63648417e-03, 6.59013253e-08,\n",
       "        3.05264094e-03, 4.87046409e-03, 9.88592207e-01, 1.21468219e-07,\n",
       "        1.16110961e-04, 3.16138350e-04],\n",
       "       [3.39147306e-07, 9.51932400e-09, 3.70716293e-07, 2.42582047e-07,\n",
       "        1.01088204e-04, 3.25601576e-07, 6.40327471e-08, 2.65800103e-04,\n",
       "        7.42071325e-06, 9.99624431e-01]], dtype=float32)"
      ]
     },
     "execution_count": 76,
     "metadata": {},
     "output_type": "execute_result"
    }
   ],
   "source": [
    "y_pred = model.predict(X_test)\n",
    "y_pred[:10]"
   ]
  },
  {
   "cell_type": "code",
   "execution_count": 77,
   "id": "8c170f13",
   "metadata": {},
   "outputs": [],
   "source": [
    "y_pred = np.array([np.argmax(pred) for pred in y_pred])"
   ]
  },
  {
   "cell_type": "markdown",
   "id": "fede1b64",
   "metadata": {},
   "source": [
    "y_pred has probabilities of all the predicted values stored in it. Each dataset has all the 10 values and the value of highest probability is the number that is hand written. so we are using argmax to find the index of highest probability."
   ]
  },
  {
   "cell_type": "code",
   "execution_count": 78,
   "id": "d48a8958",
   "metadata": {},
   "outputs": [
    {
     "data": {
      "text/plain": [
       "(array([7, 2, 1, 0, 4, 1, 4, 9, 6, 9]),\n",
       " array([7, 2, 1, 0, 4, 1, 4, 9, 5, 9], dtype=uint8))"
      ]
     },
     "execution_count": 78,
     "metadata": {},
     "output_type": "execute_result"
    }
   ],
   "source": [
    "y_pred[:10], y_test[:10]"
   ]
  },
  {
   "cell_type": "markdown",
   "id": "f519cd8a",
   "metadata": {},
   "source": [
    "If we comapre here prediction for 9 data points is same and for 1 is wrong. It has predicted wrongly at index no. 9. Instead of 5, it has predicted 6."
   ]
  },
  {
   "cell_type": "markdown",
   "id": "49097a49",
   "metadata": {},
   "source": [
    "***Plotting Confusion Matrix and Classification Report***\n",
    "\n",
    "A confusion matrix is a table that is often used to evaluate the performance of a classification model on a set of labeled data. It provides a detailed breakdown of the model's predictions, showing the number of true positive, true negative, false positive, and false negative instances. The confusion matrix is a valuable tool for understanding the strengths and weaknesses of a classification model.\n",
    "\n",
    "Here are the key components of a confusion matrix:\n",
    "\n",
    "***True Positive (TP):*** Instances where the model correctly predicts the positive class.\n",
    "\n",
    "***True Negative (TN):*** Instances where the model correctly predicts the negative class.\n",
    "\n",
    "***False Positive (FP):*** Instances where the model incorrectly predicts the positive class (Type I error).\n",
    "\n",
    "***False Negative (FN):*** Instances where the model incorrectly predicts the negative class (Type II error)."
   ]
  },
  {
   "cell_type": "code",
   "execution_count": 79,
   "id": "00c39ba4",
   "metadata": {},
   "outputs": [],
   "source": [
    "from sklearn.metrics import classification_report, confusion_matrix, accuracy_score, auc, roc_curve\n",
    "import seaborn as sns"
   ]
  },
  {
   "cell_type": "code",
   "execution_count": 80,
   "id": "4dfeae18",
   "metadata": {},
   "outputs": [],
   "source": [
    "# defining function\n",
    "\n",
    "def plot_confusion_matrix (y_test, y_predict):\n",
    "    cm = confusion_matrix(y_test, y_predict)\n",
    "    labels = list(np.unique(y_test))\n",
    "\n",
    "    # color map\n",
    "    cmap = sns.light_palette(\"blue\")\n",
    "    \n",
    "    # Plotting Confusion Matrix\n",
    "    \n",
    "    plt.figure(figsize=(12,12))\n",
    "    sns.heatmap(cm, annot=cm, cmap=cmap, fmt=\".3f\", xticklabels = labels, yticklabels = labels)\n",
    "    plt.xlabel(\"Predicted Values\")\n",
    "    plt.ylabel(\"Actual Values\")\n",
    "    plt.title(\"Confusion Matrix\")\n",
    "    plt.show()\n",
    "    \n",
    "    print()\n",
    "    print(\"_\"*100)\n",
    "    print(\"Classificarion Report:\\n\", classification_report(y_test, y_predict))\n",
    "    print(\"Accuracy Score:\" +str(accuracy_score(y_test, y_predict)*100))"
   ]
  },
  {
   "cell_type": "code",
   "execution_count": 81,
   "id": "0cc80274",
   "metadata": {},
   "outputs": [
    {
     "data": {
      "image/png": "[encoded data removed]",
      "text/plain": [
       "<Figure size 1200x1200 with 2 Axes>"
      ]
     },
     "metadata": {},
     "output_type": "display_data"
    },
    {
     "name": "stdout",
     "output_type": "stream",
     "text": [
      "\n",
      "____________________________________________________________________________________________________\n",
      "Classificarion Report:\n",
      "               precision    recall  f1-score   support\n",
      "\n",
      "           0       0.96      0.99      0.97       980\n",
      "           1       0.98      0.99      0.98      1135\n",
      "           2       0.97      0.95      0.96      1032\n",
      "           3       0.95      0.96      0.96      1010\n",
      "           4       0.96      0.95      0.96       982\n",
      "           5       0.95      0.94      0.95       892\n",
      "           6       0.96      0.96      0.96       958\n",
      "           7       0.96      0.96      0.96      1028\n",
      "           8       0.95      0.95      0.95       974\n",
      "           9       0.94      0.94      0.94      1009\n",
      "\n",
      "    accuracy                           0.96     10000\n",
      "   macro avg       0.96      0.96      0.96     10000\n",
      "weighted avg       0.96      0.96      0.96     10000\n",
      "\n",
      "Accuracy Score:95.89999999999999\n"
     ]
    }
   ],
   "source": [
    "# Plotting confusion matrix\n",
    "plot_confusion_matrix(y_test, y_pred)"
   ]
  },
  {
   "cell_type": "markdown",
   "id": "6743f317",
   "metadata": {},
   "source": [
    "***Precision = TP/(TP + FP)***\n",
    "\n",
    "***Recall = TP/(TP + FN)***"
   ]
  },
  {
   "cell_type": "code",
   "execution_count": null,
   "id": "dab40f3c",
   "metadata": {},
   "outputs": [],
   "source": []
  }
 ],
 "metadata": {
  "kernelspec": {
   "display_name": "Python 3 (ipykernel)",
   "language": "python",
   "name": "python3"
  },
  "language_info": {
   "codemirror_mode": {
    "name": "ipython",
    "version": 3
   },
   "file_extension": ".py",
   "mimetype": "text/x-python",
   "name": "python",
   "nbconvert_exporter": "python",
   "pygments_lexer": "ipython3",
   "version": "3.11.5"
  }
 },
 "nbformat": 4,
 "nbformat_minor": 5
}
